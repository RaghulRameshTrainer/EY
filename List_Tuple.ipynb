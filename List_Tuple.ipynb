{
 "cells": [
  {
   "cell_type": "markdown",
   "id": "aefce0b5",
   "metadata": {},
   "source": [
    "# List"
   ]
  },
  {
   "cell_type": "code",
   "execution_count": 1,
   "id": "3f2bdfc1",
   "metadata": {},
   "outputs": [],
   "source": [
    "info=['Priya','Chennai',33,'F',False, 4.5]"
   ]
  },
  {
   "cell_type": "code",
   "execution_count": 2,
   "id": "739bb873",
   "metadata": {},
   "outputs": [
    {
     "data": {
      "text/plain": [
       "['Priya', 'Chennai', 33, 'F', False, 4.5]"
      ]
     },
     "execution_count": 2,
     "metadata": {},
     "output_type": "execute_result"
    }
   ],
   "source": [
    "info"
   ]
  },
  {
   "cell_type": "code",
   "execution_count": 3,
   "id": "b9bf2c55",
   "metadata": {},
   "outputs": [
    {
     "data": {
      "text/plain": [
       "list"
      ]
     },
     "execution_count": 3,
     "metadata": {},
     "output_type": "execute_result"
    }
   ],
   "source": [
    "type(info)"
   ]
  },
  {
   "cell_type": "code",
   "execution_count": 4,
   "id": "d1fe3260",
   "metadata": {},
   "outputs": [
    {
     "data": {
      "text/plain": [
       "6"
      ]
     },
     "execution_count": 4,
     "metadata": {},
     "output_type": "execute_result"
    }
   ],
   "source": [
    "len(info)"
   ]
  },
  {
   "cell_type": "code",
   "execution_count": 5,
   "id": "8a956101",
   "metadata": {},
   "outputs": [],
   "source": [
    "numbers=[5,7,12,3,56,11]"
   ]
  },
  {
   "cell_type": "code",
   "execution_count": 6,
   "id": "eb934748",
   "metadata": {},
   "outputs": [
    {
     "data": {
      "text/plain": [
       "6"
      ]
     },
     "execution_count": 6,
     "metadata": {},
     "output_type": "execute_result"
    }
   ],
   "source": [
    "len(numbers)"
   ]
  },
  {
   "cell_type": "code",
   "execution_count": 7,
   "id": "daacecf6",
   "metadata": {},
   "outputs": [
    {
     "data": {
      "text/plain": [
       "3"
      ]
     },
     "execution_count": 7,
     "metadata": {},
     "output_type": "execute_result"
    }
   ],
   "source": [
    "min(numbers)"
   ]
  },
  {
   "cell_type": "code",
   "execution_count": 8,
   "id": "8e16fac4",
   "metadata": {},
   "outputs": [
    {
     "data": {
      "text/plain": [
       "56"
      ]
     },
     "execution_count": 8,
     "metadata": {},
     "output_type": "execute_result"
    }
   ],
   "source": [
    "max(numbers)"
   ]
  },
  {
   "cell_type": "code",
   "execution_count": 9,
   "id": "1d63fb09",
   "metadata": {},
   "outputs": [
    {
     "data": {
      "text/plain": [
       "94"
      ]
     },
     "execution_count": 9,
     "metadata": {},
     "output_type": "execute_result"
    }
   ],
   "source": [
    "sum(numbers)"
   ]
  },
  {
   "cell_type": "code",
   "execution_count": 10,
   "id": "1c2c51d6",
   "metadata": {},
   "outputs": [],
   "source": [
    "#METHODS"
   ]
  },
  {
   "cell_type": "code",
   "execution_count": 11,
   "id": "6ae38ac7",
   "metadata": {},
   "outputs": [],
   "source": [
    "numbers=[1,2,3,4,5]"
   ]
  },
  {
   "cell_type": "code",
   "execution_count": 12,
   "id": "95a3bf0e",
   "metadata": {},
   "outputs": [
    {
     "name": "stdout",
     "output_type": "stream",
     "text": [
      "['__add__', '__class__', '__contains__', '__delattr__', '__delitem__', '__dir__', '__doc__', '__eq__', '__format__', '__ge__', '__getattribute__', '__getitem__', '__gt__', '__hash__', '__iadd__', '__imul__', '__init__', '__init_subclass__', '__iter__', '__le__', '__len__', '__lt__', '__mul__', '__ne__', '__new__', '__reduce__', '__reduce_ex__', '__repr__', '__reversed__', '__rmul__', '__setattr__', '__setitem__', '__sizeof__', '__str__', '__subclasshook__', 'append', 'clear', 'copy', 'count', 'extend', 'index', 'insert', 'pop', 'remove', 'reverse', 'sort']\n"
     ]
    }
   ],
   "source": [
    "print(dir(numbers))"
   ]
  },
  {
   "cell_type": "code",
   "execution_count": 13,
   "id": "5f50fcb7",
   "metadata": {},
   "outputs": [
    {
     "data": {
      "text/plain": [
       "[1, 2, 3, 4, 5]"
      ]
     },
     "execution_count": 13,
     "metadata": {},
     "output_type": "execute_result"
    }
   ],
   "source": [
    "numbers"
   ]
  },
  {
   "cell_type": "code",
   "execution_count": 14,
   "id": "d7025ceb",
   "metadata": {},
   "outputs": [],
   "source": [
    "numbers.append(6)"
   ]
  },
  {
   "cell_type": "code",
   "execution_count": 15,
   "id": "beb89fe1",
   "metadata": {},
   "outputs": [
    {
     "data": {
      "text/plain": [
       "[1, 2, 3, 4, 5, 6]"
      ]
     },
     "execution_count": 15,
     "metadata": {},
     "output_type": "execute_result"
    }
   ],
   "source": [
    "numbers"
   ]
  },
  {
   "cell_type": "code",
   "execution_count": 16,
   "id": "086b5e84",
   "metadata": {},
   "outputs": [],
   "source": [
    "numbers.append(7)"
   ]
  },
  {
   "cell_type": "code",
   "execution_count": 17,
   "id": "e9ad9ed7",
   "metadata": {},
   "outputs": [
    {
     "data": {
      "text/plain": [
       "[1, 2, 3, 4, 5, 6, 7]"
      ]
     },
     "execution_count": 17,
     "metadata": {},
     "output_type": "execute_result"
    }
   ],
   "source": [
    "numbers"
   ]
  },
  {
   "cell_type": "code",
   "execution_count": 20,
   "id": "c692f854",
   "metadata": {},
   "outputs": [
    {
     "name": "stdout",
     "output_type": "stream",
     "text": [
      "Help on built-in function append:\n",
      "\n",
      "append(object, /) method of builtins.list instance\n",
      "    Append object to the end of the list.\n",
      "\n"
     ]
    }
   ],
   "source": [
    "help(numbers.append)"
   ]
  },
  {
   "cell_type": "code",
   "execution_count": 21,
   "id": "3542497f",
   "metadata": {},
   "outputs": [
    {
     "ename": "TypeError",
     "evalue": "append() takes exactly one argument (2 given)",
     "output_type": "error",
     "traceback": [
      "\u001b[1;31m---------------------------------------------------------------------------\u001b[0m",
      "\u001b[1;31mTypeError\u001b[0m                                 Traceback (most recent call last)",
      "Cell \u001b[1;32mIn [21], line 1\u001b[0m\n\u001b[1;32m----> 1\u001b[0m \u001b[43mnumbers\u001b[49m\u001b[38;5;241;43m.\u001b[39;49m\u001b[43mappend\u001b[49m\u001b[43m(\u001b[49m\u001b[38;5;241;43m8\u001b[39;49m\u001b[43m,\u001b[49m\u001b[38;5;241;43m9\u001b[39;49m\u001b[43m)\u001b[49m\n",
      "\u001b[1;31mTypeError\u001b[0m: append() takes exactly one argument (2 given)"
     ]
    }
   ],
   "source": [
    "numbers.append(8,9)"
   ]
  },
  {
   "cell_type": "code",
   "execution_count": 22,
   "id": "872b0118",
   "metadata": {},
   "outputs": [],
   "source": [
    "numbers.append([8,9])"
   ]
  },
  {
   "cell_type": "code",
   "execution_count": 23,
   "id": "fd39e26d",
   "metadata": {},
   "outputs": [
    {
     "data": {
      "text/plain": [
       "[1, 2, 3, 4, 5, 6, 7, [8, 9]]"
      ]
     },
     "execution_count": 23,
     "metadata": {},
     "output_type": "execute_result"
    }
   ],
   "source": [
    "numbers"
   ]
  },
  {
   "cell_type": "code",
   "execution_count": 24,
   "id": "fd9e2f20",
   "metadata": {},
   "outputs": [
    {
     "data": {
      "text/plain": [
       "[8, 9]"
      ]
     },
     "execution_count": 24,
     "metadata": {},
     "output_type": "execute_result"
    }
   ],
   "source": [
    "numbers[-1]"
   ]
  },
  {
   "cell_type": "code",
   "execution_count": 25,
   "id": "3b88896b",
   "metadata": {},
   "outputs": [],
   "source": [
    "numbers.extend([10,11,12])"
   ]
  },
  {
   "cell_type": "code",
   "execution_count": 26,
   "id": "0085c8f7",
   "metadata": {},
   "outputs": [
    {
     "data": {
      "text/plain": [
       "[1, 2, 3, 4, 5, 6, 7, [8, 9], 10, 11, 12]"
      ]
     },
     "execution_count": 26,
     "metadata": {},
     "output_type": "execute_result"
    }
   ],
   "source": [
    "numbers"
   ]
  },
  {
   "cell_type": "code",
   "execution_count": 27,
   "id": "04dd4922",
   "metadata": {},
   "outputs": [
    {
     "data": {
      "text/plain": [
       "12"
      ]
     },
     "execution_count": 27,
     "metadata": {},
     "output_type": "execute_result"
    }
   ],
   "source": [
    "numbers[-1]"
   ]
  },
  {
   "cell_type": "code",
   "execution_count": 28,
   "id": "34bd5c06",
   "metadata": {},
   "outputs": [
    {
     "data": {
      "text/plain": [
       "11"
      ]
     },
     "execution_count": 28,
     "metadata": {},
     "output_type": "execute_result"
    }
   ],
   "source": [
    "numbers[-2]"
   ]
  },
  {
   "cell_type": "code",
   "execution_count": 29,
   "id": "d527c320",
   "metadata": {},
   "outputs": [],
   "source": [
    "#insert"
   ]
  },
  {
   "cell_type": "code",
   "execution_count": 30,
   "id": "c186112a",
   "metadata": {},
   "outputs": [],
   "source": [
    "#numbers.insert(where, what)"
   ]
  },
  {
   "cell_type": "code",
   "execution_count": 31,
   "id": "927059dc",
   "metadata": {},
   "outputs": [],
   "source": [
    "numbers.insert(0,100)"
   ]
  },
  {
   "cell_type": "code",
   "execution_count": 32,
   "id": "f2104047",
   "metadata": {},
   "outputs": [
    {
     "data": {
      "text/plain": [
       "[100, 1, 2, 3, 4, 5, 6, 7, [8, 9], 10, 11, 12]"
      ]
     },
     "execution_count": 32,
     "metadata": {},
     "output_type": "execute_result"
    }
   ],
   "source": [
    "numbers"
   ]
  },
  {
   "cell_type": "code",
   "execution_count": 33,
   "id": "f6550292",
   "metadata": {},
   "outputs": [],
   "source": [
    "numbers.insert(6,5.5)"
   ]
  },
  {
   "cell_type": "code",
   "execution_count": 34,
   "id": "037f7406",
   "metadata": {},
   "outputs": [
    {
     "data": {
      "text/plain": [
       "[100, 1, 2, 3, 4, 5, 5.5, 6, 7, [8, 9], 10, 11, 12]"
      ]
     },
     "execution_count": 34,
     "metadata": {},
     "output_type": "execute_result"
    }
   ],
   "source": [
    "numbers"
   ]
  },
  {
   "cell_type": "code",
   "execution_count": 36,
   "id": "32abd676",
   "metadata": {},
   "outputs": [],
   "source": [
    "numbers.remove(5.5)"
   ]
  },
  {
   "cell_type": "code",
   "execution_count": 37,
   "id": "f9aca695",
   "metadata": {},
   "outputs": [
    {
     "data": {
      "text/plain": [
       "[100, 1, 2, 3, 4, 5, 6, 7, [8, 9], 10, 11, 12]"
      ]
     },
     "execution_count": 37,
     "metadata": {},
     "output_type": "execute_result"
    }
   ],
   "source": [
    "numbers"
   ]
  },
  {
   "cell_type": "code",
   "execution_count": 38,
   "id": "dfaa3a7d",
   "metadata": {},
   "outputs": [],
   "source": [
    "numbers.remove(4)"
   ]
  },
  {
   "cell_type": "code",
   "execution_count": 39,
   "id": "60560dcf",
   "metadata": {},
   "outputs": [
    {
     "data": {
      "text/plain": [
       "[100, 1, 2, 3, 5, 6, 7, [8, 9], 10, 11, 12]"
      ]
     },
     "execution_count": 39,
     "metadata": {},
     "output_type": "execute_result"
    }
   ],
   "source": [
    "numbers"
   ]
  },
  {
   "cell_type": "code",
   "execution_count": 40,
   "id": "11592ff1",
   "metadata": {},
   "outputs": [
    {
     "data": {
      "text/plain": [
       "100"
      ]
     },
     "execution_count": 40,
     "metadata": {},
     "output_type": "execute_result"
    }
   ],
   "source": [
    "numbers.pop(0)"
   ]
  },
  {
   "cell_type": "code",
   "execution_count": 41,
   "id": "d0c78bcd",
   "metadata": {},
   "outputs": [
    {
     "data": {
      "text/plain": [
       "[1, 2, 3, 5, 6, 7, [8, 9], 10, 11, 12]"
      ]
     },
     "execution_count": 41,
     "metadata": {},
     "output_type": "execute_result"
    }
   ],
   "source": [
    "numbers"
   ]
  },
  {
   "cell_type": "code",
   "execution_count": 43,
   "id": "245c5ce7",
   "metadata": {},
   "outputs": [
    {
     "data": {
      "text/plain": [
       "[8, 9]"
      ]
     },
     "execution_count": 43,
     "metadata": {},
     "output_type": "execute_result"
    }
   ],
   "source": [
    "numbers.pop(6)"
   ]
  },
  {
   "cell_type": "code",
   "execution_count": 44,
   "id": "8064f46e",
   "metadata": {},
   "outputs": [
    {
     "data": {
      "text/plain": [
       "[1, 2, 3, 5, 6, 7, 10, 11, 12]"
      ]
     },
     "execution_count": 44,
     "metadata": {},
     "output_type": "execute_result"
    }
   ],
   "source": [
    "numbers"
   ]
  },
  {
   "cell_type": "code",
   "execution_count": 45,
   "id": "d57fdc00",
   "metadata": {},
   "outputs": [],
   "source": [
    "nums=[5,2,77,33,54,68,33,12,10,1]"
   ]
  },
  {
   "cell_type": "code",
   "execution_count": 46,
   "id": "5a4e4d40",
   "metadata": {},
   "outputs": [],
   "source": [
    "nums.sort()"
   ]
  },
  {
   "cell_type": "code",
   "execution_count": 47,
   "id": "1a7259d3",
   "metadata": {},
   "outputs": [
    {
     "data": {
      "text/plain": [
       "[1, 2, 5, 10, 12, 33, 33, 54, 68, 77]"
      ]
     },
     "execution_count": 47,
     "metadata": {},
     "output_type": "execute_result"
    }
   ],
   "source": [
    "nums"
   ]
  },
  {
   "cell_type": "code",
   "execution_count": 48,
   "id": "d6eff8f3",
   "metadata": {},
   "outputs": [],
   "source": [
    "nums.sort(reverse=True)"
   ]
  },
  {
   "cell_type": "code",
   "execution_count": 49,
   "id": "a9b6fcfa",
   "metadata": {},
   "outputs": [
    {
     "data": {
      "text/plain": [
       "[77, 68, 54, 33, 33, 12, 10, 5, 2, 1]"
      ]
     },
     "execution_count": 49,
     "metadata": {},
     "output_type": "execute_result"
    }
   ],
   "source": [
    "nums"
   ]
  },
  {
   "cell_type": "code",
   "execution_count": 50,
   "id": "ab2abd4b",
   "metadata": {},
   "outputs": [],
   "source": [
    "number=[3,5,1,2]"
   ]
  },
  {
   "cell_type": "code",
   "execution_count": 51,
   "id": "0081fe31",
   "metadata": {},
   "outputs": [],
   "source": [
    "number.reverse()"
   ]
  },
  {
   "cell_type": "code",
   "execution_count": 52,
   "id": "dceef14b",
   "metadata": {},
   "outputs": [
    {
     "data": {
      "text/plain": [
       "[2, 1, 5, 3]"
      ]
     },
     "execution_count": 52,
     "metadata": {},
     "output_type": "execute_result"
    }
   ],
   "source": [
    "number"
   ]
  },
  {
   "cell_type": "code",
   "execution_count": 53,
   "id": "d93459bc",
   "metadata": {},
   "outputs": [],
   "source": [
    "nums=[1,2,3,4,3,2,1,4,5,4,3,2,5,6,3,1,7,9,10]"
   ]
  },
  {
   "cell_type": "code",
   "execution_count": 54,
   "id": "7761bd96",
   "metadata": {},
   "outputs": [
    {
     "data": {
      "text/plain": [
       "3"
      ]
     },
     "execution_count": 54,
     "metadata": {},
     "output_type": "execute_result"
    }
   ],
   "source": [
    "nums.count(1)"
   ]
  },
  {
   "cell_type": "code",
   "execution_count": 56,
   "id": "d717f3d1",
   "metadata": {},
   "outputs": [
    {
     "data": {
      "text/plain": [
       "1"
      ]
     },
     "execution_count": 56,
     "metadata": {},
     "output_type": "execute_result"
    }
   ],
   "source": [
    "nums.count(10)"
   ]
  },
  {
   "cell_type": "code",
   "execution_count": 60,
   "id": "1b7f2ee0",
   "metadata": {},
   "outputs": [],
   "source": [
    "city=['chennai','pune','delhi','chennai','bangalore','hyderabad','delhi','bangalore']"
   ]
  },
  {
   "cell_type": "code",
   "execution_count": 58,
   "id": "bf242021",
   "metadata": {},
   "outputs": [
    {
     "data": {
      "text/plain": [
       "0"
      ]
     },
     "execution_count": 58,
     "metadata": {},
     "output_type": "execute_result"
    }
   ],
   "source": [
    "city.index('chennai')"
   ]
  },
  {
   "cell_type": "code",
   "execution_count": 59,
   "id": "34d580fe",
   "metadata": {},
   "outputs": [
    {
     "data": {
      "text/plain": [
       "5"
      ]
     },
     "execution_count": 59,
     "metadata": {},
     "output_type": "execute_result"
    }
   ],
   "source": [
    "city.index('hyderabad')"
   ]
  },
  {
   "cell_type": "code",
   "execution_count": 65,
   "id": "eda47d04",
   "metadata": {},
   "outputs": [],
   "source": [
    "idx=city.index('delhi')"
   ]
  },
  {
   "cell_type": "code",
   "execution_count": 66,
   "id": "16779e05",
   "metadata": {},
   "outputs": [
    {
     "data": {
      "text/plain": [
       "6"
      ]
     },
     "execution_count": 66,
     "metadata": {},
     "output_type": "execute_result"
    }
   ],
   "source": [
    "city.index('delhi',idx+1)"
   ]
  },
  {
   "cell_type": "code",
   "execution_count": 67,
   "id": "69870a63",
   "metadata": {},
   "outputs": [
    {
     "data": {
      "text/plain": [
       "['chennai',\n",
       " 'pune',\n",
       " 'delhi',\n",
       " 'chennai',\n",
       " 'bangalore',\n",
       " 'hyderabad',\n",
       " 'delhi',\n",
       " 'bangalore']"
      ]
     },
     "execution_count": 67,
     "metadata": {},
     "output_type": "execute_result"
    }
   ],
   "source": [
    "city"
   ]
  },
  {
   "cell_type": "code",
   "execution_count": 68,
   "id": "019edaf4",
   "metadata": {},
   "outputs": [],
   "source": [
    "city.clear()"
   ]
  },
  {
   "cell_type": "code",
   "execution_count": 69,
   "id": "494cff3e",
   "metadata": {},
   "outputs": [
    {
     "data": {
      "text/plain": [
       "[]"
      ]
     },
     "execution_count": 69,
     "metadata": {},
     "output_type": "execute_result"
    }
   ],
   "source": [
    "city"
   ]
  },
  {
   "cell_type": "code",
   "execution_count": 70,
   "id": "85926589",
   "metadata": {},
   "outputs": [],
   "source": [
    "#copy"
   ]
  },
  {
   "cell_type": "code",
   "execution_count": 71,
   "id": "1f7360f5",
   "metadata": {},
   "outputs": [],
   "source": [
    "emp_name=['Basha','Shiva','Priya']"
   ]
  },
  {
   "cell_type": "code",
   "execution_count": 72,
   "id": "26f60a5d",
   "metadata": {},
   "outputs": [],
   "source": [
    "emp_name_backup = emp_name"
   ]
  },
  {
   "cell_type": "code",
   "execution_count": 73,
   "id": "371e4677",
   "metadata": {},
   "outputs": [
    {
     "data": {
      "text/plain": [
       "['Basha', 'Shiva', 'Priya']"
      ]
     },
     "execution_count": 73,
     "metadata": {},
     "output_type": "execute_result"
    }
   ],
   "source": [
    "emp_name"
   ]
  },
  {
   "cell_type": "code",
   "execution_count": 74,
   "id": "61a85cd7",
   "metadata": {},
   "outputs": [
    {
     "data": {
      "text/plain": [
       "['Basha', 'Shiva', 'Priya']"
      ]
     },
     "execution_count": 74,
     "metadata": {},
     "output_type": "execute_result"
    }
   ],
   "source": [
    "emp_name_backup"
   ]
  },
  {
   "cell_type": "code",
   "execution_count": 75,
   "id": "8b5bc64b",
   "metadata": {},
   "outputs": [],
   "source": [
    "emp_name.extend(['Nataraj','Bharath','Ronak','Mohan'])"
   ]
  },
  {
   "cell_type": "code",
   "execution_count": 76,
   "id": "04462844",
   "metadata": {},
   "outputs": [
    {
     "data": {
      "text/plain": [
       "['Basha', 'Shiva', 'Priya', 'Nataraj', 'Bharath', 'Ronak', 'Mohan']"
      ]
     },
     "execution_count": 76,
     "metadata": {},
     "output_type": "execute_result"
    }
   ],
   "source": [
    "emp_name"
   ]
  },
  {
   "cell_type": "code",
   "execution_count": 77,
   "id": "245cfdb5",
   "metadata": {},
   "outputs": [
    {
     "data": {
      "text/plain": [
       "['Basha', 'Shiva', 'Priya', 'Nataraj', 'Bharath', 'Ronak', 'Mohan']"
      ]
     },
     "execution_count": 77,
     "metadata": {},
     "output_type": "execute_result"
    }
   ],
   "source": [
    "emp_name_backup"
   ]
  },
  {
   "cell_type": "code",
   "execution_count": null,
   "id": "411379c9",
   "metadata": {},
   "outputs": [],
   "source": [
    "#  -- Shallow copy and Deep Copy"
   ]
  }
 ],
 "metadata": {
  "kernelspec": {
   "display_name": "Python 3 (ipykernel)",
   "language": "python",
   "name": "python3"
  },
  "language_info": {
   "codemirror_mode": {
    "name": "ipython",
    "version": 3
   },
   "file_extension": ".py",
   "mimetype": "text/x-python",
   "name": "python",
   "nbconvert_exporter": "python",
   "pygments_lexer": "ipython3",
   "version": "3.8.10"
  }
 },
 "nbformat": 4,
 "nbformat_minor": 5
}
