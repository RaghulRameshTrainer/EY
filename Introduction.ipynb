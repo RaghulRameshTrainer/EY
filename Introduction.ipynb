{
 "cells": [
  {
   "cell_type": "markdown",
   "id": "28860a71",
   "metadata": {},
   "source": [
    "# Operators"
   ]
  },
  {
   "cell_type": "code",
   "execution_count": 3,
   "id": "aa769d5f",
   "metadata": {},
   "outputs": [
    {
     "name": "stdout",
     "output_type": "stream",
     "text": [
      "Hi Hello Everyone\n"
     ]
    }
   ],
   "source": [
    "print(\"Hi Hello Everyone\")"
   ]
  },
  {
   "cell_type": "code",
   "execution_count": 5,
   "id": "502d589e",
   "metadata": {},
   "outputs": [
    {
     "name": "stdout",
     "output_type": "stream",
     "text": [
      "Welcome to Python World!\n"
     ]
    }
   ],
   "source": [
    "print(\"Welcome to Python World!\")"
   ]
  },
  {
   "cell_type": "code",
   "execution_count": 6,
   "id": "e61764d3",
   "metadata": {},
   "outputs": [],
   "source": [
    "name=\"Raghul Ramesh\""
   ]
  },
  {
   "cell_type": "code",
   "execution_count": 7,
   "id": "d7b0e64e",
   "metadata": {},
   "outputs": [
    {
     "data": {
      "text/plain": [
       "'Raghul Ramesh'"
      ]
     },
     "execution_count": 7,
     "metadata": {},
     "output_type": "execute_result"
    }
   ],
   "source": [
    "name"
   ]
  },
  {
   "cell_type": "code",
   "execution_count": 9,
   "id": "376b5786",
   "metadata": {},
   "outputs": [
    {
     "data": {
      "text/plain": [
       "'Raghul Ramesh'"
      ]
     },
     "execution_count": 9,
     "metadata": {},
     "output_type": "execute_result"
    }
   ],
   "source": [
    "name"
   ]
  },
  {
   "cell_type": "code",
   "execution_count": 10,
   "id": "2a387c79",
   "metadata": {},
   "outputs": [],
   "source": [
    "#comments"
   ]
  },
  {
   "cell_type": "code",
   "execution_count": 11,
   "id": "c6cf6a89",
   "metadata": {},
   "outputs": [],
   "source": [
    "# There are two ways to comment"
   ]
  },
  {
   "cell_type": "code",
   "execution_count": 13,
   "id": "0c928f03",
   "metadata": {},
   "outputs": [
    {
     "data": {
      "text/plain": [
       "\"\\n1. Keeping '#' at the beginning\\n2. Enclose the sentences witing triple quotes \\n\""
      ]
     },
     "execution_count": 13,
     "metadata": {},
     "output_type": "execute_result"
    }
   ],
   "source": [
    "\"\"\"\n",
    "1. Keeping '#' at the beginning\n",
    "2. Enclose the sentences witing triple quotes \n",
    "\"\"\""
   ]
  },
  {
   "cell_type": "code",
   "execution_count": 14,
   "id": "74e81025",
   "metadata": {},
   "outputs": [],
   "source": [
    "name='Malini'"
   ]
  },
  {
   "cell_type": "code",
   "execution_count": 16,
   "id": "be6d77c6",
   "metadata": {},
   "outputs": [],
   "source": [
    "family_member=' Raghul Malini '\n"
   ]
  },
  {
   "cell_type": "code",
   "execution_count": 17,
   "id": "c3d4dadb",
   "metadata": {},
   "outputs": [
    {
     "data": {
      "text/plain": [
       "' Raghul Malini '"
      ]
     },
     "execution_count": 17,
     "metadata": {},
     "output_type": "execute_result"
    }
   ],
   "source": [
    "family_member"
   ]
  },
  {
   "cell_type": "code",
   "execution_count": 20,
   "id": "2efd9db5",
   "metadata": {},
   "outputs": [],
   "source": [
    "family_name=\"\"\"Raghul\n",
    "Malini\n",
    "Shivani\"\"\""
   ]
  },
  {
   "cell_type": "code",
   "execution_count": 21,
   "id": "8d9f178b",
   "metadata": {},
   "outputs": [
    {
     "name": "stdout",
     "output_type": "stream",
     "text": [
      "Raghul\n",
      "Malini\n",
      "Shivani\n"
     ]
    }
   ],
   "source": [
    "print(family_name)"
   ]
  },
  {
   "cell_type": "code",
   "execution_count": 25,
   "id": "3acd7729",
   "metadata": {},
   "outputs": [],
   "source": [
    "big_4_companies='''EY\n",
    "PWC\n",
    "Deloitte\n",
    "KPMG\n",
    "'''"
   ]
  },
  {
   "cell_type": "code",
   "execution_count": 26,
   "id": "bdddcc44",
   "metadata": {
    "collapsed": true
   },
   "outputs": [
    {
     "name": "stdout",
     "output_type": "stream",
     "text": [
      "EY\n",
      "PWC\n",
      "Deloitte\n",
      "KPMG\n",
      "\n"
     ]
    }
   ],
   "source": [
    "print(big_4_companies)"
   ]
  },
  {
   "cell_type": "code",
   "execution_count": 27,
   "id": "43f1824b",
   "metadata": {},
   "outputs": [],
   "source": [
    "name = \"Raghul Ramesh\""
   ]
  },
  {
   "cell_type": "code",
   "execution_count": 28,
   "id": "920ad444",
   "metadata": {},
   "outputs": [
    {
     "data": {
      "text/plain": [
       "'Raghul Ramesh'"
      ]
     },
     "execution_count": 28,
     "metadata": {},
     "output_type": "execute_result"
    }
   ],
   "source": [
    "name"
   ]
  },
  {
   "cell_type": "code",
   "execution_count": 29,
   "id": "fb74a1e6",
   "metadata": {},
   "outputs": [],
   "source": [
    "trainer_name ='Raghul Ramesh'"
   ]
  },
  {
   "cell_type": "code",
   "execution_count": 30,
   "id": "e3158864",
   "metadata": {},
   "outputs": [
    {
     "data": {
      "text/plain": [
       "'Raghul Ramesh'"
      ]
     },
     "execution_count": 30,
     "metadata": {},
     "output_type": "execute_result"
    }
   ],
   "source": [
    "trainer_name"
   ]
  },
  {
   "cell_type": "code",
   "execution_count": 32,
   "id": "da965a8a",
   "metadata": {},
   "outputs": [],
   "source": [
    "college=\"st's joseph engg college\""
   ]
  },
  {
   "cell_type": "code",
   "execution_count": 34,
   "id": "b96249e6",
   "metadata": {},
   "outputs": [
    {
     "name": "stdout",
     "output_type": "stream",
     "text": [
      "st's joseph engg college\n"
     ]
    }
   ],
   "source": [
    "print(college)"
   ]
  },
  {
   "cell_type": "code",
   "execution_count": 36,
   "id": "1fc8501a",
   "metadata": {},
   "outputs": [],
   "source": [
    "training = 'Learning \"Python\" programming language'"
   ]
  },
  {
   "cell_type": "code",
   "execution_count": 37,
   "id": "d6c061b8",
   "metadata": {},
   "outputs": [
    {
     "name": "stdout",
     "output_type": "stream",
     "text": [
      "Learning \"Python\" programming language\n"
     ]
    }
   ],
   "source": [
    "print(training)"
   ]
  },
  {
   "cell_type": "code",
   "execution_count": 38,
   "id": "89fc3940",
   "metadata": {},
   "outputs": [],
   "source": [
    "name1='Ashwin'"
   ]
  },
  {
   "cell_type": "code",
   "execution_count": 39,
   "id": "8e14f7ef",
   "metadata": {},
   "outputs": [],
   "source": [
    "name2='Chitra'"
   ]
  },
  {
   "cell_type": "code",
   "execution_count": 40,
   "id": "51be5ac7",
   "metadata": {},
   "outputs": [],
   "source": [
    "name3='Rajesh'"
   ]
  },
  {
   "cell_type": "code",
   "execution_count": 44,
   "id": "028f0543",
   "metadata": {},
   "outputs": [],
   "source": [
    "fname,lname = \"Harsha\", \"Shivani\""
   ]
  },
  {
   "cell_type": "markdown",
   "id": "0bcc4b30",
   "metadata": {},
   "source": [
    "# Operators"
   ]
  },
  {
   "cell_type": "code",
   "execution_count": 45,
   "id": "44db5932",
   "metadata": {},
   "outputs": [
    {
     "data": {
      "text/plain": [
       "'\\nArithmetic operator\\nComparison operator\\nbitwise operator\\nbinary operation\\nmembership operatior\\nValidation operatior\\n'"
      ]
     },
     "execution_count": 45,
     "metadata": {},
     "output_type": "execute_result"
    }
   ],
   "source": [
    "'''\n",
    "Arithmetic operator\n",
    "Comparison operator\n",
    "bitwise operator\n",
    "binary operation\n",
    "membership operatior\n",
    "Validation operatior\n",
    "'''"
   ]
  },
  {
   "cell_type": "code",
   "execution_count": 1,
   "id": "69ef4a15",
   "metadata": {},
   "outputs": [
    {
     "data": {
      "text/plain": [
       "30"
      ]
     },
     "execution_count": 1,
     "metadata": {},
     "output_type": "execute_result"
    }
   ],
   "source": [
    "10 + 20"
   ]
  },
  {
   "cell_type": "code",
   "execution_count": 2,
   "id": "fd400cc6",
   "metadata": {},
   "outputs": [
    {
     "data": {
      "text/plain": [
       "-10"
      ]
     },
     "execution_count": 2,
     "metadata": {},
     "output_type": "execute_result"
    }
   ],
   "source": [
    "10 - 20"
   ]
  },
  {
   "cell_type": "code",
   "execution_count": 3,
   "id": "6ef12077",
   "metadata": {},
   "outputs": [
    {
     "data": {
      "text/plain": [
       "200"
      ]
     },
     "execution_count": 3,
     "metadata": {},
     "output_type": "execute_result"
    }
   ],
   "source": [
    "10 * 20"
   ]
  },
  {
   "cell_type": "code",
   "execution_count": 4,
   "id": "12e44903",
   "metadata": {},
   "outputs": [
    {
     "data": {
      "text/plain": [
       "0.5"
      ]
     },
     "execution_count": 4,
     "metadata": {},
     "output_type": "execute_result"
    }
   ],
   "source": [
    "10/20"
   ]
  },
  {
   "cell_type": "code",
   "execution_count": 5,
   "id": "f4cd7f3a",
   "metadata": {},
   "outputs": [
    {
     "data": {
      "text/plain": [
       "125"
      ]
     },
     "execution_count": 5,
     "metadata": {},
     "output_type": "execute_result"
    }
   ],
   "source": [
    "5**3"
   ]
  },
  {
   "cell_type": "code",
   "execution_count": 6,
   "id": "7a939852",
   "metadata": {},
   "outputs": [
    {
     "data": {
      "text/plain": [
       "1"
      ]
     },
     "execution_count": 6,
     "metadata": {},
     "output_type": "execute_result"
    }
   ],
   "source": [
    "5%2   #modulor operation"
   ]
  },
  {
   "cell_type": "code",
   "execution_count": 7,
   "id": "07135e3a",
   "metadata": {},
   "outputs": [
    {
     "data": {
      "text/plain": [
       "2"
      ]
     },
     "execution_count": 7,
     "metadata": {},
     "output_type": "execute_result"
    }
   ],
   "source": [
    "12%5"
   ]
  },
  {
   "cell_type": "code",
   "execution_count": 8,
   "id": "1f17fd44",
   "metadata": {},
   "outputs": [
    {
     "data": {
      "text/plain": [
       "7"
      ]
     },
     "execution_count": 8,
     "metadata": {},
     "output_type": "execute_result"
    }
   ],
   "source": [
    "15//2"
   ]
  },
  {
   "cell_type": "code",
   "execution_count": 9,
   "id": "ef47987f",
   "metadata": {},
   "outputs": [
    {
     "data": {
      "text/plain": [
       "1"
      ]
     },
     "execution_count": 9,
     "metadata": {},
     "output_type": "execute_result"
    }
   ],
   "source": [
    "15%2"
   ]
  },
  {
   "cell_type": "markdown",
   "id": "d1503742",
   "metadata": {},
   "source": [
    "# Comparison operator"
   ]
  },
  {
   "cell_type": "code",
   "execution_count": 10,
   "id": "120411ff",
   "metadata": {},
   "outputs": [],
   "source": [
    "age = 37"
   ]
  },
  {
   "cell_type": "code",
   "execution_count": 11,
   "id": "78988c7e",
   "metadata": {},
   "outputs": [
    {
     "data": {
      "text/plain": [
       "True"
      ]
     },
     "execution_count": 11,
     "metadata": {},
     "output_type": "execute_result"
    }
   ],
   "source": [
    "age > 0"
   ]
  },
  {
   "cell_type": "code",
   "execution_count": 12,
   "id": "fb1111b3",
   "metadata": {},
   "outputs": [
    {
     "data": {
      "text/plain": [
       "True"
      ]
     },
     "execution_count": 12,
     "metadata": {},
     "output_type": "execute_result"
    }
   ],
   "source": [
    "age < 100"
   ]
  },
  {
   "cell_type": "code",
   "execution_count": 13,
   "id": "81cdc012",
   "metadata": {},
   "outputs": [
    {
     "data": {
      "text/plain": [
       "False"
      ]
     },
     "execution_count": 13,
     "metadata": {},
     "output_type": "execute_result"
    }
   ],
   "source": [
    "age < 0"
   ]
  },
  {
   "cell_type": "code",
   "execution_count": 14,
   "id": "22fff3a3",
   "metadata": {},
   "outputs": [
    {
     "data": {
      "text/plain": [
       "False"
      ]
     },
     "execution_count": 14,
     "metadata": {},
     "output_type": "execute_result"
    }
   ],
   "source": [
    "age == 100"
   ]
  },
  {
   "cell_type": "code",
   "execution_count": 15,
   "id": "d57c18b6",
   "metadata": {},
   "outputs": [
    {
     "data": {
      "text/plain": [
       "True"
      ]
     },
     "execution_count": 15,
     "metadata": {},
     "output_type": "execute_result"
    }
   ],
   "source": [
    "age != 100"
   ]
  },
  {
   "cell_type": "markdown",
   "id": "749b6470",
   "metadata": {},
   "source": [
    "# Membership Operator (in, not in)"
   ]
  },
  {
   "cell_type": "code",
   "execution_count": 16,
   "id": "b1719475",
   "metadata": {},
   "outputs": [],
   "source": [
    "city=['Chennai','Bengaluru', 'Hyderabad', 'Pune', 'Delhi']"
   ]
  },
  {
   "cell_type": "code",
   "execution_count": 17,
   "id": "787810df",
   "metadata": {},
   "outputs": [
    {
     "data": {
      "text/plain": [
       "False"
      ]
     },
     "execution_count": 17,
     "metadata": {},
     "output_type": "execute_result"
    }
   ],
   "source": [
    "'Mumbai' in city"
   ]
  },
  {
   "cell_type": "code",
   "execution_count": 18,
   "id": "4ea00575",
   "metadata": {},
   "outputs": [
    {
     "data": {
      "text/plain": [
       "True"
      ]
     },
     "execution_count": 18,
     "metadata": {},
     "output_type": "execute_result"
    }
   ],
   "source": [
    "'Hyderabad' in city"
   ]
  },
  {
   "cell_type": "code",
   "execution_count": 19,
   "id": "9ebe7a67",
   "metadata": {},
   "outputs": [
    {
     "data": {
      "text/plain": [
       "True"
      ]
     },
     "execution_count": 19,
     "metadata": {},
     "output_type": "execute_result"
    }
   ],
   "source": [
    "'Kolkatta' not in city"
   ]
  },
  {
   "cell_type": "markdown",
   "id": "baac5e7d",
   "metadata": {},
   "source": [
    "# Identity Operator (is , is not)"
   ]
  },
  {
   "cell_type": "code",
   "execution_count": 21,
   "id": "8bbd49b5",
   "metadata": {},
   "outputs": [],
   "source": [
    "country = \"India\""
   ]
  },
  {
   "cell_type": "code",
   "execution_count": 22,
   "id": "19b7e712",
   "metadata": {},
   "outputs": [
    {
     "name": "stderr",
     "output_type": "stream",
     "text": [
      "<>:1: SyntaxWarning: \"is\" with a literal. Did you mean \"==\"?\n",
      "<>:1: SyntaxWarning: \"is\" with a literal. Did you mean \"==\"?\n",
      "C:\\Users\\DELL\\AppData\\Local\\Temp\\ipykernel_43364\\1822066644.py:1: SyntaxWarning: \"is\" with a literal. Did you mean \"==\"?\n",
      "  country is \"India\"\n"
     ]
    },
    {
     "data": {
      "text/plain": [
       "True"
      ]
     },
     "execution_count": 22,
     "metadata": {},
     "output_type": "execute_result"
    }
   ],
   "source": [
    "country is \"India\""
   ]
  },
  {
   "cell_type": "code",
   "execution_count": 23,
   "id": "cc23dfad",
   "metadata": {},
   "outputs": [
    {
     "name": "stderr",
     "output_type": "stream",
     "text": [
      "<>:1: SyntaxWarning: \"is not\" with a literal. Did you mean \"!=\"?\n",
      "<>:1: SyntaxWarning: \"is not\" with a literal. Did you mean \"!=\"?\n",
      "C:\\Users\\DELL\\AppData\\Local\\Temp\\ipykernel_43364\\3225556236.py:1: SyntaxWarning: \"is not\" with a literal. Did you mean \"!=\"?\n",
      "  country is not \"America\"\n"
     ]
    },
    {
     "data": {
      "text/plain": [
       "True"
      ]
     },
     "execution_count": 23,
     "metadata": {},
     "output_type": "execute_result"
    }
   ],
   "source": [
    "country is not \"America\""
   ]
  },
  {
   "cell_type": "code",
   "execution_count": 24,
   "id": "11545594",
   "metadata": {},
   "outputs": [
    {
     "name": "stderr",
     "output_type": "stream",
     "text": [
      "<>:1: SyntaxWarning: \"is not\" with a literal. Did you mean \"!=\"?\n",
      "<>:1: SyntaxWarning: \"is not\" with a literal. Did you mean \"!=\"?\n",
      "C:\\Users\\DELL\\AppData\\Local\\Temp\\ipykernel_43364\\2920604539.py:1: SyntaxWarning: \"is not\" with a literal. Did you mean \"!=\"?\n",
      "  country is not \"India\"\n"
     ]
    },
    {
     "data": {
      "text/plain": [
       "False"
      ]
     },
     "execution_count": 24,
     "metadata": {},
     "output_type": "execute_result"
    }
   ],
   "source": [
    "country is not \"India\""
   ]
  },
  {
   "cell_type": "code",
   "execution_count": 25,
   "id": "13bb53cf",
   "metadata": {},
   "outputs": [],
   "source": [
    "name=\"Durga\""
   ]
  },
  {
   "cell_type": "code",
   "execution_count": 26,
   "id": "722e22f8",
   "metadata": {},
   "outputs": [
    {
     "name": "stderr",
     "output_type": "stream",
     "text": [
      "<>:1: SyntaxWarning: \"is\" with a literal. Did you mean \"==\"?\n",
      "<>:1: SyntaxWarning: \"is\" with a literal. Did you mean \"==\"?\n",
      "C:\\Users\\DELL\\AppData\\Local\\Temp\\ipykernel_43364\\1751007315.py:1: SyntaxWarning: \"is\" with a literal. Did you mean \"==\"?\n",
      "  name is \"Durga\"\n"
     ]
    },
    {
     "data": {
      "text/plain": [
       "True"
      ]
     },
     "execution_count": 26,
     "metadata": {},
     "output_type": "execute_result"
    }
   ],
   "source": [
    "name is \"Durga\""
   ]
  },
  {
   "cell_type": "code",
   "execution_count": 28,
   "id": "39a88ae2",
   "metadata": {},
   "outputs": [],
   "source": [
    "# Bitwise Operator (& (and), | (or) , ^ (nor))"
   ]
  },
  {
   "cell_type": "code",
   "execution_count": 29,
   "id": "94e30466",
   "metadata": {},
   "outputs": [
    {
     "data": {
      "text/plain": [
       "4"
      ]
     },
     "execution_count": 29,
     "metadata": {},
     "output_type": "execute_result"
    }
   ],
   "source": [
    "5 & 6"
   ]
  },
  {
   "cell_type": "code",
   "execution_count": 30,
   "id": "3232cfec",
   "metadata": {},
   "outputs": [
    {
     "data": {
      "text/plain": [
       "7"
      ]
     },
     "execution_count": 30,
     "metadata": {},
     "output_type": "execute_result"
    }
   ],
   "source": [
    "5 | 6"
   ]
  },
  {
   "cell_type": "code",
   "execution_count": 31,
   "id": "5ec2ead5",
   "metadata": {},
   "outputs": [
    {
     "data": {
      "text/plain": [
       "3"
      ]
     },
     "execution_count": 31,
     "metadata": {},
     "output_type": "execute_result"
    }
   ],
   "source": [
    "5 ^ 6"
   ]
  },
  {
   "cell_type": "code",
   "execution_count": null,
   "id": "47e9dba5",
   "metadata": {},
   "outputs": [],
   "source": [
    "# control statement (if else , elif ), loops ( while. for )  , data structurex"
   ]
  },
  {
   "cell_type": "code",
   "execution_count": 32,
   "id": "b4c29f1d",
   "metadata": {},
   "outputs": [
    {
     "name": "stdout",
     "output_type": "stream",
     "text": [
      "x is 10\n"
     ]
    }
   ],
   "source": [
    "x = 10\n",
    "\n",
    "if x == 10:\n",
    "    print(\"x is 10\")\n",
    "else:\n",
    "    print(\"x is not 10\")"
   ]
  },
  {
   "cell_type": "code",
   "execution_count": 33,
   "id": "d2f7c202",
   "metadata": {},
   "outputs": [
    {
     "name": "stdout",
     "output_type": "stream",
     "text": [
      "x is not 10\n"
     ]
    }
   ],
   "source": [
    "x = 100\n",
    "\n",
    "if x == 10:\n",
    "    print(\"x is 10\")\n",
    "else:\n",
    "    print(\"x is not 10\")"
   ]
  },
  {
   "cell_type": "markdown",
   "id": "2ff9b8e7",
   "metadata": {},
   "source": [
    "# print statement"
   ]
  },
  {
   "cell_type": "code",
   "execution_count": 34,
   "id": "3a0a3da8",
   "metadata": {},
   "outputs": [
    {
     "name": "stdout",
     "output_type": "stream",
     "text": [
      "Raghul Ramesh 37\n"
     ]
    }
   ],
   "source": [
    "name = \"Raghul Ramesh\"\n",
    "age = 37\n",
    "\n",
    "print(name , age)"
   ]
  },
  {
   "cell_type": "code",
   "execution_count": 35,
   "id": "e3daa869",
   "metadata": {},
   "outputs": [
    {
     "name": "stdout",
     "output_type": "stream",
     "text": [
      "Name : Raghul Ramesh\n",
      "Age : 37\n"
     ]
    }
   ],
   "source": [
    "print(\"Name :\", name)\n",
    "print(\"Age :\", age)"
   ]
  },
  {
   "cell_type": "code",
   "execution_count": 39,
   "id": "80974322",
   "metadata": {},
   "outputs": [
    {
     "name": "stdout",
     "output_type": "stream",
     "text": [
      "Name:Raghul Ramesh and Age:37\n"
     ]
    }
   ],
   "source": [
    "print(\"Name:{0} and Age:{1}\".format(name, age))"
   ]
  },
  {
   "cell_type": "code",
   "execution_count": 40,
   "id": "5b994487",
   "metadata": {},
   "outputs": [
    {
     "name": "stdout",
     "output_type": "stream",
     "text": [
      "Name: Raghul Ramesh and Age: 37\n"
     ]
    }
   ],
   "source": [
    "print(f\"Name: {name} and Age: {age}\")"
   ]
  },
  {
   "cell_type": "code",
   "execution_count": 44,
   "id": "5d7e33c8",
   "metadata": {},
   "outputs": [
    {
     "name": "stdout",
     "output_type": "stream",
     "text": [
      "You can vote following the queue\n"
     ]
    }
   ],
   "source": [
    "# Multiple conditional statement\n",
    "\n",
    "age = 18\n",
    "\n",
    "if age < 18:\n",
    "    print(\"You can't vote\")\n",
    "elif age >= 18 and age < 60:\n",
    "    print(\"You can vote following the queue\")\n",
    "else:\n",
    "    print(\"You are special! Senior Citizen, You dont want to stay on queue\")\n",
    "    "
   ]
  },
  {
   "cell_type": "code",
   "execution_count": 45,
   "id": "666310b1",
   "metadata": {},
   "outputs": [],
   "source": [
    "#input()"
   ]
  },
  {
   "cell_type": "code",
   "execution_count": 52,
   "id": "a35bc635",
   "metadata": {},
   "outputs": [
    {
     "name": "stdout",
     "output_type": "stream",
     "text": [
      "Enter your name:RR\n",
      "Enter your age:37\n"
     ]
    }
   ],
   "source": [
    "name= input(\"Enter your name:\")\n",
    "age = int(input(\"Enter your age:\")) #Casting as integer"
   ]
  },
  {
   "cell_type": "code",
   "execution_count": 53,
   "id": "bdf48496",
   "metadata": {},
   "outputs": [
    {
     "data": {
      "text/plain": [
       "'RR'"
      ]
     },
     "execution_count": 53,
     "metadata": {},
     "output_type": "execute_result"
    }
   ],
   "source": [
    "name"
   ]
  },
  {
   "cell_type": "code",
   "execution_count": 54,
   "id": "c2d5b8e8",
   "metadata": {},
   "outputs": [
    {
     "data": {
      "text/plain": [
       "37"
      ]
     },
     "execution_count": 54,
     "metadata": {},
     "output_type": "execute_result"
    }
   ],
   "source": [
    "age"
   ]
  },
  {
   "cell_type": "code",
   "execution_count": 55,
   "id": "4ea2cc7d",
   "metadata": {},
   "outputs": [],
   "source": [
    "#data type"
   ]
  },
  {
   "cell_type": "code",
   "execution_count": 56,
   "id": "69c0a66d",
   "metadata": {},
   "outputs": [
    {
     "data": {
      "text/plain": [
       "int"
      ]
     },
     "execution_count": 56,
     "metadata": {},
     "output_type": "execute_result"
    }
   ],
   "source": [
    "x=10\n",
    "type(x)"
   ]
  },
  {
   "cell_type": "code",
   "execution_count": 57,
   "id": "b4096233",
   "metadata": {},
   "outputs": [
    {
     "data": {
      "text/plain": [
       "str"
      ]
     },
     "execution_count": 57,
     "metadata": {},
     "output_type": "execute_result"
    }
   ],
   "source": [
    "x='India'\n",
    "type(x)"
   ]
  },
  {
   "cell_type": "code",
   "execution_count": 58,
   "id": "c8c4afe8",
   "metadata": {},
   "outputs": [
    {
     "data": {
      "text/plain": [
       "float"
      ]
     },
     "execution_count": 58,
     "metadata": {},
     "output_type": "execute_result"
    }
   ],
   "source": [
    "x=10.55\n",
    "type(x)"
   ]
  },
  {
   "cell_type": "code",
   "execution_count": 59,
   "id": "c8b7d948",
   "metadata": {},
   "outputs": [
    {
     "data": {
      "text/plain": [
       "bool"
      ]
     },
     "execution_count": 59,
     "metadata": {},
     "output_type": "execute_result"
    }
   ],
   "source": [
    "x=False\n",
    "type(x)"
   ]
  },
  {
   "cell_type": "code",
   "execution_count": 60,
   "id": "a0c90e1f",
   "metadata": {},
   "outputs": [],
   "source": [
    "x = 10"
   ]
  },
  {
   "cell_type": "code",
   "execution_count": 61,
   "id": "93d4bf76",
   "metadata": {},
   "outputs": [
    {
     "data": {
      "text/plain": [
       "int"
      ]
     },
     "execution_count": 61,
     "metadata": {},
     "output_type": "execute_result"
    }
   ],
   "source": [
    "type(x)"
   ]
  },
  {
   "cell_type": "code",
   "execution_count": 62,
   "id": "717e7012",
   "metadata": {},
   "outputs": [],
   "source": [
    "x='Chennai'"
   ]
  },
  {
   "cell_type": "code",
   "execution_count": 63,
   "id": "5d675aec",
   "metadata": {},
   "outputs": [
    {
     "data": {
      "text/plain": [
       "str"
      ]
     },
     "execution_count": 63,
     "metadata": {},
     "output_type": "execute_result"
    }
   ],
   "source": [
    "type(x)"
   ]
  },
  {
   "cell_type": "code",
   "execution_count": 64,
   "id": "a2a92ea9",
   "metadata": {},
   "outputs": [],
   "source": [
    "x='10'"
   ]
  },
  {
   "cell_type": "code",
   "execution_count": 65,
   "id": "2e64c244",
   "metadata": {},
   "outputs": [
    {
     "data": {
      "text/plain": [
       "str"
      ]
     },
     "execution_count": 65,
     "metadata": {},
     "output_type": "execute_result"
    }
   ],
   "source": [
    "type(x)"
   ]
  },
  {
   "cell_type": "code",
   "execution_count": 70,
   "id": "369844ec",
   "metadata": {},
   "outputs": [
    {
     "name": "stdout",
     "output_type": "stream",
     "text": [
      "You are special! Senior Citizen, You dont want to stay on queue\n",
      "What do you like to have now? : Biscuits\n",
      "Biscuits is ready for you!\n"
     ]
    }
   ],
   "source": [
    "# Multiple conditional statement\n",
    "\n",
    "age = 90\n",
    "\n",
    "if age < 18:\n",
    "    print(\"You can't vote\")\n",
    "elif age >= 18 and age < 60:\n",
    "    print(\"You can vote following the queue\")\n",
    "else:\n",
    "    print(\"You are special! Senior Citizen, You dont want to stay on queue\")\n",
    "    \n",
    "fav_food = input(\"What do you like to have now? : \")\n",
    "print(f\"{fav_food} is ready for you!\")"
   ]
  },
  {
   "cell_type": "code",
   "execution_count": 79,
   "id": "2ca56957",
   "metadata": {},
   "outputs": [
    {
     "name": "stdout",
     "output_type": "stream",
     "text": [
      "Enter your age :37\n",
      "Country Name: Canada\n",
      "Please follow Canada rules!\n"
     ]
    }
   ],
   "source": [
    "age = int(input(\"Enter your age :\"))\n",
    "country = input(\"Country Name: \")\n",
    "\n",
    "if country == 'India':\n",
    "    if age >= 18 and age<=100:\n",
    "        print(\"You can vote!\")\n",
    "    elif age > 100:\n",
    "        print(\"WOW! You are great!\")\n",
    "    else:\n",
    "        print(\"You cannot vote!!!\")\n",
    "else:\n",
    "    print(f\"Please follow {country} rules!\")"
   ]
  },
  {
   "cell_type": "markdown",
   "id": "7169999d",
   "metadata": {},
   "source": [
    "# LOOPS"
   ]
  },
  {
   "cell_type": "code",
   "execution_count": 80,
   "id": "d9598673",
   "metadata": {},
   "outputs": [],
   "source": [
    "# while condition:\n",
    "#     statement\n",
    "# else:\n",
    "#     false statement"
   ]
  },
  {
   "cell_type": "code",
   "execution_count": 81,
   "id": "60c279ca",
   "metadata": {},
   "outputs": [
    {
     "name": "stdout",
     "output_type": "stream",
     "text": [
      "0\n",
      "1\n",
      "2\n",
      "3\n",
      "4\n",
      "5\n",
      "6\n",
      "7\n",
      "8\n",
      "9\n",
      "10\n"
     ]
    }
   ],
   "source": [
    "x = 0\n",
    "while x <= 10:\n",
    "    print(x)\n",
    "    x = x + 1"
   ]
  },
  {
   "cell_type": "code",
   "execution_count": 83,
   "id": "0cdb129f",
   "metadata": {},
   "outputs": [
    {
     "name": "stdout",
     "output_type": "stream",
     "text": [
      "0\n",
      "1\n",
      "2\n",
      "3\n",
      "4\n",
      "5\n",
      "6\n",
      "7\n",
      "8\n",
      "9\n",
      "10\n",
      "Since x: 11 is greater than 10, the loop ended!\n"
     ]
    }
   ],
   "source": [
    "x = 0\n",
    "while x <= 10:\n",
    "    print(x)\n",
    "    x = x + 1\n",
    "else:\n",
    "    print(f\"Since x: {x} is greater than 10, the loop ended!\")"
   ]
  },
  {
   "cell_type": "code",
   "execution_count": 84,
   "id": "70a91256",
   "metadata": {},
   "outputs": [],
   "source": [
    "# break and continue statement"
   ]
  },
  {
   "cell_type": "code",
   "execution_count": 85,
   "id": "1234f76c",
   "metadata": {},
   "outputs": [
    {
     "name": "stdout",
     "output_type": "stream",
     "text": [
      "0\n",
      "1\n",
      "2\n",
      "3\n",
      "4\n",
      "I am not part of the loop\n"
     ]
    }
   ],
   "source": [
    "x = 0\n",
    "while x <= 10:\n",
    "    if x == 5:\n",
    "        break\n",
    "    print(x)\n",
    "    x += 1  \n",
    "    \n",
    "print(\"I am not part of the loop\")"
   ]
  },
  {
   "cell_type": "code",
   "execution_count": 86,
   "id": "a2c82062",
   "metadata": {},
   "outputs": [
    {
     "name": "stdout",
     "output_type": "stream",
     "text": [
      "1\n",
      "2\n",
      "3\n",
      "4\n",
      "6\n",
      "7\n",
      "8\n",
      "9\n",
      "10\n",
      "11\n",
      "I am not part of the loop\n"
     ]
    }
   ],
   "source": [
    "x = 0\n",
    "while x <= 10:\n",
    "    x += 1 \n",
    "    if x == 5:\n",
    "        continue\n",
    "    print(x)\n",
    "     \n",
    "    \n",
    "print(\"I am not part of the loop\")"
   ]
  },
  {
   "cell_type": "code",
   "execution_count": 88,
   "id": "a1dfd0a8",
   "metadata": {},
   "outputs": [
    {
     "name": "stdout",
     "output_type": "stream",
     "text": [
      "0\n",
      "2\n",
      "4\n",
      "6\n",
      "8\n",
      "10\n",
      "12\n",
      "14\n",
      "16\n",
      "18\n",
      "20\n",
      "22\n",
      "24\n",
      "26\n",
      "28\n",
      "30\n",
      "32\n",
      "34\n",
      "36\n",
      "38\n",
      "40\n",
      "42\n",
      "44\n",
      "46\n",
      "48\n",
      "50\n",
      "52\n",
      "54\n",
      "56\n",
      "58\n",
      "60\n",
      "62\n",
      "64\n",
      "66\n",
      "68\n",
      "70\n",
      "72\n",
      "74\n",
      "76\n",
      "78\n",
      "80\n",
      "82\n",
      "84\n",
      "86\n",
      "88\n",
      "90\n",
      "92\n",
      "94\n",
      "96\n",
      "98\n",
      "100\n"
     ]
    }
   ],
   "source": [
    "x = 0\n",
    "while x <= 100:\n",
    "    \n",
    "    print(x)\n",
    "    x = x+2"
   ]
  },
  {
   "cell_type": "code",
   "execution_count": 90,
   "id": "667e9eb0",
   "metadata": {},
   "outputs": [],
   "source": [
    "customer=['Satya', 'Rajesh', 'Sakshi' , 'Ronak', 'Himnshu']"
   ]
  },
  {
   "cell_type": "code",
   "execution_count": 91,
   "id": "56f0efb8",
   "metadata": {},
   "outputs": [
    {
     "name": "stdout",
     "output_type": "stream",
     "text": [
      "Satya\n",
      "Rajesh\n",
      "Sakshi\n",
      "Ronak\n",
      "Himnshu\n"
     ]
    }
   ],
   "source": [
    "for name in customer:\n",
    "    print(name)"
   ]
  },
  {
   "cell_type": "code",
   "execution_count": 93,
   "id": "936cbf1b",
   "metadata": {},
   "outputs": [
    {
     "data": {
      "text/plain": [
       "'\\nDATA STRUCTURE\\n\\nImmutable \\n    1. Numbers\\n    2. String\\n    3. Tuple\\nMutable\\n    1. List\\n    2. Dictionary\\n    3. Set\\n'"
      ]
     },
     "execution_count": 93,
     "metadata": {},
     "output_type": "execute_result"
    }
   ],
   "source": [
    "'''\n",
    "DATA STRUCTURE\n",
    "\n",
    "Immutable \n",
    "    1. Numbers\n",
    "    2. String\n",
    "    3. Tuple\n",
    "Mutable\n",
    "    1. List\n",
    "    2. Dictionary\n",
    "    3. Set\n",
    "'''"
   ]
  },
  {
   "cell_type": "code",
   "execution_count": 96,
   "id": "e3c283df",
   "metadata": {},
   "outputs": [],
   "source": [
    "#String"
   ]
  },
  {
   "cell_type": "code",
   "execution_count": 101,
   "id": "8f1441c2",
   "metadata": {},
   "outputs": [],
   "source": [
    "name='Raghul Ramesh'"
   ]
  },
  {
   "cell_type": "code",
   "execution_count": 102,
   "id": "44474b5b",
   "metadata": {},
   "outputs": [
    {
     "name": "stdout",
     "output_type": "stream",
     "text": [
      "2725907935664\n"
     ]
    }
   ],
   "source": [
    "print(id(name))"
   ]
  },
  {
   "cell_type": "code",
   "execution_count": 103,
   "id": "562e46cd",
   "metadata": {},
   "outputs": [],
   "source": [
    "name = \"Balamurugan\""
   ]
  },
  {
   "cell_type": "code",
   "execution_count": 104,
   "id": "b7ac4778",
   "metadata": {},
   "outputs": [
    {
     "name": "stdout",
     "output_type": "stream",
     "text": [
      "2725907776496\n"
     ]
    }
   ],
   "source": [
    "print(id(name))"
   ]
  },
  {
   "cell_type": "code",
   "execution_count": 105,
   "id": "5c15189f",
   "metadata": {},
   "outputs": [],
   "source": [
    "name='Raghul Ramesh'   #sequence of index"
   ]
  },
  {
   "cell_type": "code",
   "execution_count": 106,
   "id": "fab07ce3",
   "metadata": {},
   "outputs": [
    {
     "data": {
      "text/plain": [
       "str"
      ]
     },
     "execution_count": 106,
     "metadata": {},
     "output_type": "execute_result"
    }
   ],
   "source": [
    "type(name)"
   ]
  },
  {
   "cell_type": "code",
   "execution_count": 107,
   "id": "7e1a4b71",
   "metadata": {},
   "outputs": [
    {
     "data": {
      "text/plain": [
       "'R'"
      ]
     },
     "execution_count": 107,
     "metadata": {},
     "output_type": "execute_result"
    }
   ],
   "source": [
    "name[0]"
   ]
  },
  {
   "cell_type": "code",
   "execution_count": 108,
   "id": "8f26a331",
   "metadata": {},
   "outputs": [
    {
     "data": {
      "text/plain": [
       "'a'"
      ]
     },
     "execution_count": 108,
     "metadata": {},
     "output_type": "execute_result"
    }
   ],
   "source": [
    "name[1]"
   ]
  },
  {
   "cell_type": "code",
   "execution_count": 109,
   "id": "fa2267c2",
   "metadata": {},
   "outputs": [
    {
     "data": {
      "text/plain": [
       "'g'"
      ]
     },
     "execution_count": 109,
     "metadata": {},
     "output_type": "execute_result"
    }
   ],
   "source": [
    "name[2]"
   ]
  },
  {
   "cell_type": "code",
   "execution_count": 110,
   "id": "a42f8c8c",
   "metadata": {},
   "outputs": [
    {
     "data": {
      "text/plain": [
       "'h'"
      ]
     },
     "execution_count": 110,
     "metadata": {},
     "output_type": "execute_result"
    }
   ],
   "source": [
    "name[-1]"
   ]
  },
  {
   "cell_type": "code",
   "execution_count": 111,
   "id": "67177b44",
   "metadata": {},
   "outputs": [
    {
     "data": {
      "text/plain": [
       "'s'"
      ]
     },
     "execution_count": 111,
     "metadata": {},
     "output_type": "execute_result"
    }
   ],
   "source": [
    "name[-2]"
   ]
  },
  {
   "cell_type": "code",
   "execution_count": 112,
   "id": "9424d8bf",
   "metadata": {},
   "outputs": [
    {
     "data": {
      "text/plain": [
       "'Raghu'"
      ]
     },
     "execution_count": 112,
     "metadata": {},
     "output_type": "execute_result"
    }
   ],
   "source": [
    "name[0:5]  # upper limit (index) is not inclussive"
   ]
  },
  {
   "cell_type": "code",
   "execution_count": 118,
   "id": "9030c221",
   "metadata": {},
   "outputs": [
    {
     "data": {
      "text/plain": [
       "'Raghul'"
      ]
     },
     "execution_count": 118,
     "metadata": {},
     "output_type": "execute_result"
    }
   ],
   "source": [
    "name[0:6]"
   ]
  },
  {
   "cell_type": "code",
   "execution_count": 114,
   "id": "57abc307",
   "metadata": {},
   "outputs": [],
   "source": [
    "name='Raghul Ramesh'   #sequence of index"
   ]
  },
  {
   "cell_type": "code",
   "execution_count": 115,
   "id": "b1b55101",
   "metadata": {},
   "outputs": [
    {
     "data": {
      "text/plain": [
       "'Ramesh'"
      ]
     },
     "execution_count": 115,
     "metadata": {},
     "output_type": "execute_result"
    }
   ],
   "source": [
    "name[7:13]"
   ]
  },
  {
   "cell_type": "code",
   "execution_count": 116,
   "id": "8c9e0e38",
   "metadata": {},
   "outputs": [
    {
     "data": {
      "text/plain": [
       "'Ramesh'"
      ]
     },
     "execution_count": 116,
     "metadata": {},
     "output_type": "execute_result"
    }
   ],
   "source": [
    "name[7:]"
   ]
  },
  {
   "cell_type": "code",
   "execution_count": 119,
   "id": "8791abfc",
   "metadata": {},
   "outputs": [
    {
     "data": {
      "text/plain": [
       "'Ram'"
      ]
     },
     "execution_count": 119,
     "metadata": {},
     "output_type": "execute_result"
    }
   ],
   "source": [
    "name[7:10]"
   ]
  },
  {
   "cell_type": "code",
   "execution_count": 120,
   "id": "baf2edd0",
   "metadata": {},
   "outputs": [
    {
     "data": {
      "text/plain": [
       "'Ram'"
      ]
     },
     "execution_count": 120,
     "metadata": {},
     "output_type": "execute_result"
    }
   ],
   "source": [
    "name[-6:-3]"
   ]
  },
  {
   "cell_type": "code",
   "execution_count": 121,
   "id": "e093c03d",
   "metadata": {},
   "outputs": [
    {
     "data": {
      "text/plain": [
       "'Raghul Ramesh'"
      ]
     },
     "execution_count": 121,
     "metadata": {},
     "output_type": "execute_result"
    }
   ],
   "source": [
    "#step function\n",
    "\n",
    "name[:]"
   ]
  },
  {
   "cell_type": "code",
   "execution_count": 122,
   "id": "02739204",
   "metadata": {},
   "outputs": [
    {
     "data": {
      "text/plain": [
       "'Raghul Ramesh'"
      ]
     },
     "execution_count": 122,
     "metadata": {},
     "output_type": "execute_result"
    }
   ],
   "source": [
    "name[0:13]"
   ]
  },
  {
   "cell_type": "code",
   "execution_count": 123,
   "id": "ee9c78ae",
   "metadata": {},
   "outputs": [
    {
     "data": {
      "text/plain": [
       "'Rgu aeh'"
      ]
     },
     "execution_count": 123,
     "metadata": {},
     "output_type": "execute_result"
    }
   ],
   "source": [
    "name[0:13:2]"
   ]
  },
  {
   "cell_type": "code",
   "execution_count": 124,
   "id": "1e071cda",
   "metadata": {},
   "outputs": [
    {
     "data": {
      "text/plain": [
       "'Rgu aeh'"
      ]
     },
     "execution_count": 124,
     "metadata": {},
     "output_type": "execute_result"
    }
   ],
   "source": [
    "name[::2]"
   ]
  },
  {
   "cell_type": "code",
   "execution_count": 125,
   "id": "a75d5278",
   "metadata": {},
   "outputs": [
    {
     "data": {
      "text/plain": [
       "'Rh mh'"
      ]
     },
     "execution_count": 125,
     "metadata": {},
     "output_type": "execute_result"
    }
   ],
   "source": [
    "name[::3]"
   ]
  },
  {
   "cell_type": "code",
   "execution_count": 126,
   "id": "280f50b2",
   "metadata": {},
   "outputs": [
    {
     "data": {
      "text/plain": [
       "'hsemaR luhgaR'"
      ]
     },
     "execution_count": 126,
     "metadata": {},
     "output_type": "execute_result"
    }
   ],
   "source": [
    "name[::-1]"
   ]
  },
  {
   "cell_type": "code",
   "execution_count": 127,
   "id": "9f8f74ba",
   "metadata": {},
   "outputs": [
    {
     "data": {
      "text/plain": [
       "'Raghul Ramesh'"
      ]
     },
     "execution_count": 127,
     "metadata": {},
     "output_type": "execute_result"
    }
   ],
   "source": [
    "name[:]"
   ]
  },
  {
   "cell_type": "code",
   "execution_count": 128,
   "id": "52c26e0e",
   "metadata": {},
   "outputs": [
    {
     "data": {
      "text/plain": [
       "'Raghul Ramesh'"
      ]
     },
     "execution_count": 128,
     "metadata": {},
     "output_type": "execute_result"
    }
   ],
   "source": [
    "name[::1]"
   ]
  },
  {
   "cell_type": "code",
   "execution_count": 129,
   "id": "abc8eeda",
   "metadata": {},
   "outputs": [],
   "source": [
    "# String Methods"
   ]
  },
  {
   "cell_type": "code",
   "execution_count": 130,
   "id": "de1f0706",
   "metadata": {},
   "outputs": [
    {
     "data": {
      "text/plain": [
       "'Raghul Ramesh'"
      ]
     },
     "execution_count": 130,
     "metadata": {},
     "output_type": "execute_result"
    }
   ],
   "source": [
    "name"
   ]
  },
  {
   "cell_type": "code",
   "execution_count": 132,
   "id": "e193e233",
   "metadata": {},
   "outputs": [
    {
     "name": "stdout",
     "output_type": "stream",
     "text": [
      "['__add__', '__class__', '__contains__', '__delattr__', '__dir__', '__doc__', '__eq__', '__format__', '__ge__', '__getattribute__', '__getitem__', '__getnewargs__', '__gt__', '__hash__', '__init__', '__init_subclass__', '__iter__', '__le__', '__len__', '__lt__', '__mod__', '__mul__', '__ne__', '__new__', '__reduce__', '__reduce_ex__', '__repr__', '__rmod__', '__rmul__', '__setattr__', '__sizeof__', '__str__', '__subclasshook__', 'capitalize', 'casefold', 'center', 'count', 'encode', 'endswith', 'expandtabs', 'find', 'format', 'format_map', 'index', 'isalnum', 'isalpha', 'isascii', 'isdecimal', 'isdigit', 'isidentifier', 'islower', 'isnumeric', 'isprintable', 'isspace', 'istitle', 'isupper', 'join', 'ljust', 'lower', 'lstrip', 'maketrans', 'partition', 'replace', 'rfind', 'rindex', 'rjust', 'rpartition', 'rsplit', 'rstrip', 'split', 'splitlines', 'startswith', 'strip', 'swapcase', 'title', 'translate', 'upper', 'zfill']\n"
     ]
    }
   ],
   "source": [
    "print(dir(name))"
   ]
  },
  {
   "cell_type": "code",
   "execution_count": 133,
   "id": "7df0c021",
   "metadata": {},
   "outputs": [
    {
     "data": {
      "text/plain": [
       "'Raghul Ramesh'"
      ]
     },
     "execution_count": 133,
     "metadata": {},
     "output_type": "execute_result"
    }
   ],
   "source": [
    "name"
   ]
  },
  {
   "cell_type": "code",
   "execution_count": 137,
   "id": "705814b4",
   "metadata": {},
   "outputs": [],
   "source": [
    "cap_name=name.upper()"
   ]
  },
  {
   "cell_type": "code",
   "execution_count": 139,
   "id": "f051e241",
   "metadata": {},
   "outputs": [
    {
     "data": {
      "text/plain": [
       "'Raghul Ramesh'"
      ]
     },
     "execution_count": 139,
     "metadata": {},
     "output_type": "execute_result"
    }
   ],
   "source": [
    "name"
   ]
  },
  {
   "cell_type": "code",
   "execution_count": 140,
   "id": "5f116c4a",
   "metadata": {},
   "outputs": [
    {
     "data": {
      "text/plain": [
       "'RAGHUL RAMESH'"
      ]
     },
     "execution_count": 140,
     "metadata": {},
     "output_type": "execute_result"
    }
   ],
   "source": [
    "cap_name"
   ]
  },
  {
   "cell_type": "code",
   "execution_count": 141,
   "id": "96c5d75f",
   "metadata": {},
   "outputs": [
    {
     "data": {
      "text/plain": [
       "'raghul ramesh'"
      ]
     },
     "execution_count": 141,
     "metadata": {},
     "output_type": "execute_result"
    }
   ],
   "source": [
    "name.lower()"
   ]
  },
  {
   "cell_type": "code",
   "execution_count": 142,
   "id": "ce3f348e",
   "metadata": {},
   "outputs": [
    {
     "data": {
      "text/plain": [
       "'Raghul ramesh'"
      ]
     },
     "execution_count": 142,
     "metadata": {},
     "output_type": "execute_result"
    }
   ],
   "source": [
    "name.capitalize()"
   ]
  },
  {
   "cell_type": "code",
   "execution_count": 143,
   "id": "892cbd4c",
   "metadata": {},
   "outputs": [
    {
     "data": {
      "text/plain": [
       "'rAGHUL rAMESH'"
      ]
     },
     "execution_count": 143,
     "metadata": {},
     "output_type": "execute_result"
    }
   ],
   "source": [
    "name.swapcase()"
   ]
  },
  {
   "cell_type": "code",
   "execution_count": 144,
   "id": "da8d6310",
   "metadata": {},
   "outputs": [],
   "source": [
    "name='ragul ramesh'"
   ]
  },
  {
   "cell_type": "code",
   "execution_count": 145,
   "id": "5db8d166",
   "metadata": {},
   "outputs": [
    {
     "data": {
      "text/plain": [
       "'ragul ramesh'"
      ]
     },
     "execution_count": 145,
     "metadata": {},
     "output_type": "execute_result"
    }
   ],
   "source": [
    "name"
   ]
  },
  {
   "cell_type": "code",
   "execution_count": 146,
   "id": "f1836964",
   "metadata": {},
   "outputs": [
    {
     "data": {
      "text/plain": [
       "'Ragul Ramesh'"
      ]
     },
     "execution_count": 146,
     "metadata": {},
     "output_type": "execute_result"
    }
   ],
   "source": [
    "name.title()"
   ]
  },
  {
   "cell_type": "code",
   "execution_count": 147,
   "id": "fd98ef57",
   "metadata": {},
   "outputs": [
    {
     "data": {
      "text/plain": [
       "'ragul ramesh'"
      ]
     },
     "execution_count": 147,
     "metadata": {},
     "output_type": "execute_result"
    }
   ],
   "source": [
    "name"
   ]
  },
  {
   "cell_type": "code",
   "execution_count": 148,
   "id": "d6b8534c",
   "metadata": {},
   "outputs": [
    {
     "data": {
      "text/plain": [
       "'Ragul ramesh'"
      ]
     },
     "execution_count": 148,
     "metadata": {},
     "output_type": "execute_result"
    }
   ],
   "source": [
    "name.capitalize()"
   ]
  },
  {
   "cell_type": "code",
   "execution_count": 149,
   "id": "7e444e30",
   "metadata": {},
   "outputs": [
    {
     "data": {
      "text/plain": [
       "'ragul ramesh'"
      ]
     },
     "execution_count": 149,
     "metadata": {},
     "output_type": "execute_result"
    }
   ],
   "source": [
    "name"
   ]
  },
  {
   "cell_type": "code",
   "execution_count": 150,
   "id": "11bc539c",
   "metadata": {},
   "outputs": [
    {
     "data": {
      "text/plain": [
       "12"
      ]
     },
     "execution_count": 150,
     "metadata": {},
     "output_type": "execute_result"
    }
   ],
   "source": [
    "len(name)"
   ]
  },
  {
   "cell_type": "code",
   "execution_count": 151,
   "id": "96449525",
   "metadata": {},
   "outputs": [
    {
     "data": {
      "text/plain": [
       "'RAGUL RAMESH'"
      ]
     },
     "execution_count": 151,
     "metadata": {},
     "output_type": "execute_result"
    }
   ],
   "source": [
    "name.upper()"
   ]
  },
  {
   "cell_type": "code",
   "execution_count": 155,
   "id": "1de3d36c",
   "metadata": {},
   "outputs": [
    {
     "data": {
      "text/plain": [
       "'                   ragul ramesh                   '"
      ]
     },
     "execution_count": 155,
     "metadata": {},
     "output_type": "execute_result"
    }
   ],
   "source": [
    "name.center(50)"
   ]
  },
  {
   "cell_type": "code",
   "execution_count": 156,
   "id": "3b11dbb3",
   "metadata": {},
   "outputs": [
    {
     "data": {
      "text/plain": [
       "'-------------------ragul ramesh-------------------'"
      ]
     },
     "execution_count": 156,
     "metadata": {},
     "output_type": "execute_result"
    }
   ],
   "source": [
    "name.center(50,'-')"
   ]
  },
  {
   "cell_type": "code",
   "execution_count": 157,
   "id": "35f846f8",
   "metadata": {},
   "outputs": [
    {
     "data": {
      "text/plain": [
       "'...................ragul ramesh...................'"
      ]
     },
     "execution_count": 157,
     "metadata": {},
     "output_type": "execute_result"
    }
   ],
   "source": [
    "name.center(50,'.')"
   ]
  },
  {
   "cell_type": "code",
   "execution_count": 158,
   "id": "d5331f1d",
   "metadata": {},
   "outputs": [
    {
     "data": {
      "text/plain": [
       "'*******************ragul ramesh*******************'"
      ]
     },
     "execution_count": 158,
     "metadata": {},
     "output_type": "execute_result"
    }
   ],
   "source": [
    "name.center(50,'*')"
   ]
  },
  {
   "cell_type": "code",
   "execution_count": 159,
   "id": "e9a6c3ec",
   "metadata": {},
   "outputs": [
    {
     "data": {
      "text/plain": [
       "'ragul ramesh::::::::::::::::::::::::::::::::::::::'"
      ]
     },
     "execution_count": 159,
     "metadata": {},
     "output_type": "execute_result"
    }
   ],
   "source": [
    "name.ljust(50,':')"
   ]
  },
  {
   "cell_type": "code",
   "execution_count": 160,
   "id": "3a0b8980",
   "metadata": {},
   "outputs": [
    {
     "data": {
      "text/plain": [
       "'ragul ramesh                                      '"
      ]
     },
     "execution_count": 160,
     "metadata": {},
     "output_type": "execute_result"
    }
   ],
   "source": [
    "name.ljust(50)"
   ]
  },
  {
   "cell_type": "code",
   "execution_count": 161,
   "id": "13c87859",
   "metadata": {},
   "outputs": [
    {
     "data": {
      "text/plain": [
       "'                                      ragul ramesh'"
      ]
     },
     "execution_count": 161,
     "metadata": {},
     "output_type": "execute_result"
    }
   ],
   "source": [
    "name.rjust(50)"
   ]
  },
  {
   "cell_type": "code",
   "execution_count": 162,
   "id": "4dc5c9dc",
   "metadata": {},
   "outputs": [
    {
     "data": {
      "text/plain": [
       "'--------------------------------------ragul ramesh'"
      ]
     },
     "execution_count": 162,
     "metadata": {},
     "output_type": "execute_result"
    }
   ],
   "source": [
    "name.rjust(50,'-')"
   ]
  },
  {
   "cell_type": "code",
   "execution_count": 163,
   "id": "e7713225",
   "metadata": {},
   "outputs": [],
   "source": [
    "city='Chennai-Bangalore-Hyderabad-Pune-Mumbai-Kolkatta-Delhi'"
   ]
  },
  {
   "cell_type": "code",
   "execution_count": 164,
   "id": "23029a08",
   "metadata": {},
   "outputs": [
    {
     "data": {
      "text/plain": [
       "['Chennai', 'Bangalore', 'Hyderabad', 'Pune', 'Mumbai', 'Kolkatta', 'Delhi']"
      ]
     },
     "execution_count": 164,
     "metadata": {},
     "output_type": "execute_result"
    }
   ],
   "source": [
    "city.split('-')"
   ]
  },
  {
   "cell_type": "code",
   "execution_count": 165,
   "id": "65272b92",
   "metadata": {},
   "outputs": [
    {
     "data": {
      "text/plain": [
       "'Chennai-Bangalore-Hyderabad-Pune-Mumbai-Kolkatta-Delhi'"
      ]
     },
     "execution_count": 165,
     "metadata": {},
     "output_type": "execute_result"
    }
   ],
   "source": [
    "city"
   ]
  },
  {
   "cell_type": "code",
   "execution_count": 166,
   "id": "e5c17707",
   "metadata": {},
   "outputs": [],
   "source": [
    "list_of_city=city.split('-')"
   ]
  },
  {
   "cell_type": "code",
   "execution_count": 167,
   "id": "a5d7feb6",
   "metadata": {},
   "outputs": [
    {
     "data": {
      "text/plain": [
       "['Chennai', 'Bangalore', 'Hyderabad', 'Pune', 'Mumbai', 'Kolkatta', 'Delhi']"
      ]
     },
     "execution_count": 167,
     "metadata": {},
     "output_type": "execute_result"
    }
   ],
   "source": [
    "list_of_city"
   ]
  },
  {
   "cell_type": "code",
   "execution_count": 169,
   "id": "bba49f69",
   "metadata": {},
   "outputs": [
    {
     "data": {
      "text/plain": [
       "'Chennai:Bangalore:Hyderabad:Pune:Mumbai:Kolkatta:Delhi'"
      ]
     },
     "execution_count": 169,
     "metadata": {},
     "output_type": "execute_result"
    }
   ],
   "source": [
    "':'.join(list_of_city)"
   ]
  },
  {
   "cell_type": "code",
   "execution_count": 170,
   "id": "e7487850",
   "metadata": {},
   "outputs": [],
   "source": [
    "# replace, translate - maketrans"
   ]
  },
  {
   "cell_type": "code",
   "execution_count": 171,
   "id": "88028614",
   "metadata": {},
   "outputs": [
    {
     "data": {
      "text/plain": [
       "'Chennai-Bangalore-Hyderabad-Pune-Mumbai-Kolkatta-Delhi'"
      ]
     },
     "execution_count": 171,
     "metadata": {},
     "output_type": "execute_result"
    }
   ],
   "source": [
    "city"
   ]
  },
  {
   "cell_type": "code",
   "execution_count": 172,
   "id": "8f9d1aed",
   "metadata": {},
   "outputs": [
    {
     "data": {
      "text/plain": [
       "'ChennAi-BAngAlore-HyderAbAd-Pune-MumbAi-KolkAttA-Delhi'"
      ]
     },
     "execution_count": 172,
     "metadata": {},
     "output_type": "execute_result"
    }
   ],
   "source": [
    "city.replace('a','A')"
   ]
  },
  {
   "cell_type": "code",
   "execution_count": 174,
   "id": "cb3ec71c",
   "metadata": {},
   "outputs": [
    {
     "data": {
      "text/plain": [
       "'Chennai-Bangalore-Hyderabad-Cochin-Mumbai-Kolkatta-Delhi'"
      ]
     },
     "execution_count": 174,
     "metadata": {},
     "output_type": "execute_result"
    }
   ],
   "source": [
    "city.replace('Pune','Cochin')"
   ]
  },
  {
   "cell_type": "code",
   "execution_count": 175,
   "id": "f5741104",
   "metadata": {},
   "outputs": [
    {
     "data": {
      "text/plain": [
       "'Chennai-Bangalore-Hyderabad-Pune-Mumbai-Kolkatta-Delhi'"
      ]
     },
     "execution_count": 175,
     "metadata": {},
     "output_type": "execute_result"
    }
   ],
   "source": [
    "city"
   ]
  },
  {
   "cell_type": "code",
   "execution_count": 183,
   "id": "2fb10576",
   "metadata": {},
   "outputs": [
    {
     "data": {
      "text/plain": [
       "'E'"
      ]
     },
     "execution_count": 183,
     "metadata": {},
     "output_type": "execute_result"
    }
   ],
   "source": [
    "chr(69)"
   ]
  },
  {
   "cell_type": "code",
   "execution_count": 184,
   "id": "6f0b6942",
   "metadata": {},
   "outputs": [
    {
     "data": {
      "text/plain": [
       "'ChEnnAi-BAngAlorE-HydErAbAd-PunE-MumbAi-KolkAttA-DElhi'"
      ]
     },
     "execution_count": 184,
     "metadata": {},
     "output_type": "execute_result"
    }
   ],
   "source": [
    "city.translate({97:65, 101 : 69})"
   ]
  },
  {
   "cell_type": "code",
   "execution_count": 192,
   "id": "8942bcdd",
   "metadata": {},
   "outputs": [],
   "source": [
    "change=city.maketrans('aen','AEN')"
   ]
  },
  {
   "cell_type": "code",
   "execution_count": 193,
   "id": "aa279abf",
   "metadata": {},
   "outputs": [
    {
     "data": {
      "text/plain": [
       "'ChENNAi-BANgAlorE-HydErAbAd-PuNE-MumbAi-KolkAttA-DElhi'"
      ]
     },
     "execution_count": 193,
     "metadata": {},
     "output_type": "execute_result"
    }
   ],
   "source": [
    "city.translate(change)"
   ]
  },
  {
   "cell_type": "code",
   "execution_count": 194,
   "id": "86350fa2",
   "metadata": {},
   "outputs": [],
   "source": [
    "country='I@N#$D%!I&*A$%^'"
   ]
  },
  {
   "cell_type": "code",
   "execution_count": 199,
   "id": "9e34bebc",
   "metadata": {},
   "outputs": [
    {
     "data": {
      "text/plain": [
       "'INDI&*A^'"
      ]
     },
     "execution_count": 199,
     "metadata": {},
     "output_type": "execute_result"
    }
   ],
   "source": [
    "country.replace('@','').replace('#','').replace('$','').replace('%','').replace('!','')"
   ]
  },
  {
   "cell_type": "code",
   "execution_count": 200,
   "id": "07f1665e",
   "metadata": {},
   "outputs": [
    {
     "data": {
      "text/plain": [
       "{126: 32,\n",
       " 33: 32,\n",
       " 64: 32,\n",
       " 35: 32,\n",
       " 36: 32,\n",
       " 37: 32,\n",
       " 94: 32,\n",
       " 38: 32,\n",
       " 42: 32,\n",
       " 40: 32,\n",
       " 41: 32,\n",
       " 95: 32,\n",
       " 43: 32,\n",
       " 45: 32,\n",
       " 61: 32}"
      ]
     },
     "execution_count": 200,
     "metadata": {},
     "output_type": "execute_result"
    }
   ],
   "source": [
    "country.maketrans('~!@#$%^&*()_+-=','               ')"
   ]
  },
  {
   "cell_type": "code",
   "execution_count": 201,
   "id": "24bcb231",
   "metadata": {},
   "outputs": [],
   "source": [
    "mychange={126: None,\n",
    " 33: None,\n",
    " 64: None,\n",
    " 35: None,\n",
    " 36: None,\n",
    " 37: None,\n",
    " 94: None,\n",
    " 38: None,\n",
    " 42: None,\n",
    " 40: None,\n",
    " 41: None,\n",
    " 95: None,\n",
    " 43: None,\n",
    " 45: None,\n",
    " 61: None}"
   ]
  },
  {
   "cell_type": "code",
   "execution_count": 203,
   "id": "8eaacba1",
   "metadata": {},
   "outputs": [
    {
     "data": {
      "text/plain": [
       "'INDIA'"
      ]
     },
     "execution_count": 203,
     "metadata": {},
     "output_type": "execute_result"
    }
   ],
   "source": [
    "country.translate(mychange)"
   ]
  },
  {
   "cell_type": "code",
   "execution_count": 204,
   "id": "a7a8bf77",
   "metadata": {},
   "outputs": [],
   "source": [
    "#strip, lstrip, rstrip"
   ]
  },
  {
   "cell_type": "code",
   "execution_count": 205,
   "id": "6f6a1525",
   "metadata": {},
   "outputs": [],
   "source": [
    "name=\"      Raghul Ramesh        \""
   ]
  },
  {
   "cell_type": "code",
   "execution_count": 206,
   "id": "ba4b4037",
   "metadata": {},
   "outputs": [
    {
     "data": {
      "text/plain": [
       "'      Raghul Ramesh        '"
      ]
     },
     "execution_count": 206,
     "metadata": {},
     "output_type": "execute_result"
    }
   ],
   "source": [
    "name"
   ]
  },
  {
   "cell_type": "code",
   "execution_count": 207,
   "id": "dbddb7d3",
   "metadata": {},
   "outputs": [
    {
     "data": {
      "text/plain": [
       "'Raghul Ramesh'"
      ]
     },
     "execution_count": 207,
     "metadata": {},
     "output_type": "execute_result"
    }
   ],
   "source": [
    "name.strip()"
   ]
  },
  {
   "cell_type": "code",
   "execution_count": 208,
   "id": "21282797",
   "metadata": {},
   "outputs": [
    {
     "data": {
      "text/plain": [
       "'Raghul Ramesh        '"
      ]
     },
     "execution_count": 208,
     "metadata": {},
     "output_type": "execute_result"
    }
   ],
   "source": [
    "name.lstrip()"
   ]
  },
  {
   "cell_type": "code",
   "execution_count": 209,
   "id": "ee728a4a",
   "metadata": {},
   "outputs": [
    {
     "data": {
      "text/plain": [
       "'      Raghul Ramesh'"
      ]
     },
     "execution_count": 209,
     "metadata": {},
     "output_type": "execute_result"
    }
   ],
   "source": [
    "name.rstrip()"
   ]
  },
  {
   "cell_type": "code",
   "execution_count": 212,
   "id": "30e3c19d",
   "metadata": {},
   "outputs": [],
   "source": [
    "salary='100000'"
   ]
  },
  {
   "cell_type": "code",
   "execution_count": 214,
   "id": "45ec8895",
   "metadata": {},
   "outputs": [
    {
     "data": {
      "text/plain": [
       "'1000000000'"
      ]
     },
     "execution_count": 214,
     "metadata": {},
     "output_type": "execute_result"
    }
   ],
   "source": [
    "salary.ljust(10,'0')"
   ]
  },
  {
   "cell_type": "code",
   "execution_count": 215,
   "id": "5337a12e",
   "metadata": {},
   "outputs": [
    {
     "data": {
      "text/plain": [
       "'0000100000'"
      ]
     },
     "execution_count": 215,
     "metadata": {},
     "output_type": "execute_result"
    }
   ],
   "source": [
    "salary.zfill(10)"
   ]
  },
  {
   "cell_type": "code",
   "execution_count": 216,
   "id": "a8b46def",
   "metadata": {},
   "outputs": [],
   "source": [
    "#Validation"
   ]
  },
  {
   "cell_type": "code",
   "execution_count": 220,
   "id": "19017b48",
   "metadata": {},
   "outputs": [],
   "source": [
    "name='malini ramesh'"
   ]
  },
  {
   "cell_type": "code",
   "execution_count": 221,
   "id": "5142178b",
   "metadata": {},
   "outputs": [
    {
     "data": {
      "text/plain": [
       "True"
      ]
     },
     "execution_count": 221,
     "metadata": {},
     "output_type": "execute_result"
    }
   ],
   "source": [
    "name.islower()"
   ]
  },
  {
   "cell_type": "code",
   "execution_count": 222,
   "id": "8ec91998",
   "metadata": {},
   "outputs": [
    {
     "data": {
      "text/plain": [
       "False"
      ]
     },
     "execution_count": 222,
     "metadata": {},
     "output_type": "execute_result"
    }
   ],
   "source": [
    "name.isupper()"
   ]
  },
  {
   "cell_type": "code",
   "execution_count": 223,
   "id": "aa4246bf",
   "metadata": {},
   "outputs": [
    {
     "data": {
      "text/plain": [
       "False"
      ]
     },
     "execution_count": 223,
     "metadata": {},
     "output_type": "execute_result"
    }
   ],
   "source": [
    "name.istitle()"
   ]
  },
  {
   "cell_type": "code",
   "execution_count": 224,
   "id": "530540ec",
   "metadata": {},
   "outputs": [
    {
     "data": {
      "text/plain": [
       "False"
      ]
     },
     "execution_count": 224,
     "metadata": {},
     "output_type": "execute_result"
    }
   ],
   "source": [
    "name.isspace()"
   ]
  },
  {
   "cell_type": "code",
   "execution_count": 225,
   "id": "666053fb",
   "metadata": {},
   "outputs": [
    {
     "data": {
      "text/plain": [
       "False"
      ]
     },
     "execution_count": 225,
     "metadata": {},
     "output_type": "execute_result"
    }
   ],
   "source": [
    "name.isdigit()"
   ]
  },
  {
   "cell_type": "code",
   "execution_count": 226,
   "id": "b2a887a0",
   "metadata": {},
   "outputs": [
    {
     "data": {
      "text/plain": [
       "True"
      ]
     },
     "execution_count": 226,
     "metadata": {},
     "output_type": "execute_result"
    }
   ],
   "source": [
    "salary.isdigit()"
   ]
  },
  {
   "cell_type": "code",
   "execution_count": 227,
   "id": "0dab4489",
   "metadata": {},
   "outputs": [
    {
     "data": {
      "text/plain": [
       "False"
      ]
     },
     "execution_count": 227,
     "metadata": {},
     "output_type": "execute_result"
    }
   ],
   "source": [
    "salary.isalpha()"
   ]
  },
  {
   "cell_type": "code",
   "execution_count": 228,
   "id": "d9d8d3e7",
   "metadata": {},
   "outputs": [
    {
     "data": {
      "text/plain": [
       "False"
      ]
     },
     "execution_count": 228,
     "metadata": {},
     "output_type": "execute_result"
    }
   ],
   "source": [
    "name.isalpha()"
   ]
  },
  {
   "cell_type": "code",
   "execution_count": 229,
   "id": "942d09a9",
   "metadata": {},
   "outputs": [],
   "source": [
    "name='malini'"
   ]
  },
  {
   "cell_type": "code",
   "execution_count": 230,
   "id": "7cbbf8a2",
   "metadata": {},
   "outputs": [
    {
     "data": {
      "text/plain": [
       "True"
      ]
     },
     "execution_count": 230,
     "metadata": {},
     "output_type": "execute_result"
    }
   ],
   "source": [
    "name.isalpha()"
   ]
  },
  {
   "cell_type": "code",
   "execution_count": 231,
   "id": "fbc2c6ae",
   "metadata": {},
   "outputs": [],
   "source": [
    "emp_num='E12345'"
   ]
  },
  {
   "cell_type": "code",
   "execution_count": 232,
   "id": "c66586aa",
   "metadata": {},
   "outputs": [
    {
     "data": {
      "text/plain": [
       "True"
      ]
     },
     "execution_count": 232,
     "metadata": {},
     "output_type": "execute_result"
    }
   ],
   "source": [
    "emp_num.isalnum()"
   ]
  },
  {
   "cell_type": "code",
   "execution_count": null,
   "id": "c92c9ac6",
   "metadata": {},
   "outputs": [],
   "source": [
    "#LIST "
   ]
  }
 ],
 "metadata": {
  "kernelspec": {
   "display_name": "Python 3 (ipykernel)",
   "language": "python",
   "name": "python3"
  },
  "language_info": {
   "codemirror_mode": {
    "name": "ipython",
    "version": 3
   },
   "file_extension": ".py",
   "mimetype": "text/x-python",
   "name": "python",
   "nbconvert_exporter": "python",
   "pygments_lexer": "ipython3",
   "version": "3.8.10"
  }
 },
 "nbformat": 4,
 "nbformat_minor": 5
}
