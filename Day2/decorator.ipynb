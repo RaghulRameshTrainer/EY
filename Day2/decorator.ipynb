{
 "cells": [
  {
   "cell_type": "code",
   "execution_count": 11,
   "id": "33dc7593",
   "metadata": {},
   "outputs": [
    {
     "name": "stdout",
     "output_type": "stream",
     "text": [
      "calc_square took 1.6207695007324219 milli seconds\n",
      "calc_cube took 5.83648681640625 milli seconds\n"
     ]
    }
   ],
   "source": [
    "import time\n",
    "\n",
    "def calc_time(func):    # func=calc_cube\n",
    "    def wrapper(*x, **y):    # *x = numbers \n",
    "        start_time=time.time()\n",
    "        res=func(*x, **y)   #calc_cube(numbers)\n",
    "        end_time=time.time()\n",
    "        print(func.__name__ + \" took \" + str((end_time - start_time)*1000) +' milli seconds')\n",
    "        return res\n",
    "    return wrapper\n",
    "\n",
    "@calc_time\n",
    "def calc_square(numbers):\n",
    "    res=[]\n",
    "    for x in numbers:\n",
    "        res.append(x**2)\n",
    "    return res\n",
    "\n",
    "@calc_time\n",
    "def calc_cube(numbers):\n",
    "    res=[]\n",
    "    for x in numbers:\n",
    "        res.append(x**3)\n",
    "    return res\n",
    "\n",
    "nums=list(range(1,10001))\n",
    "res1=calc_square(nums)\n",
    "res2=calc_cube(nums)\n"
   ]
  },
  {
   "cell_type": "code",
   "execution_count": 5,
   "id": "c54e3b9c",
   "metadata": {},
   "outputs": [],
   "source": [
    "Decorator is a function that takes/collects the name of the function as an argument and it has an inner function. The inner function\n",
    "collect the argument passed to the called function"
   ]
  },
  {
   "cell_type": "code",
   "execution_count": 7,
   "id": "41ef0c40",
   "metadata": {},
   "outputs": [
    {
     "name": "stdout",
     "output_type": "stream",
     "text": [
      "calc_square took: 2.8259754180908203 Milli Seconds\n",
      "calc_cube took: 5.595684051513672 Milli Seconds\n"
     ]
    }
   ],
   "source": []
  },
  {
   "cell_type": "code",
   "execution_count": null,
   "id": "f87a1736",
   "metadata": {},
   "outputs": [],
   "source": []
  }
 ],
 "metadata": {
  "kernelspec": {
   "display_name": "Python 3 (ipykernel)",
   "language": "python",
   "name": "python3"
  },
  "language_info": {
   "codemirror_mode": {
    "name": "ipython",
    "version": 3
   },
   "file_extension": ".py",
   "mimetype": "text/x-python",
   "name": "python",
   "nbconvert_exporter": "python",
   "pygments_lexer": "ipython3",
   "version": "3.8.10"
  }
 },
 "nbformat": 4,
 "nbformat_minor": 5
}
