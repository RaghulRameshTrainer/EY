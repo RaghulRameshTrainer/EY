{
 "cells": [
  {
   "cell_type": "code",
   "execution_count": 1,
   "id": "dd1c059c",
   "metadata": {},
   "outputs": [
    {
     "data": {
      "text/plain": [
       "{}"
      ]
     },
     "execution_count": 1,
     "metadata": {},
     "output_type": "execute_result"
    }
   ],
   "source": [
    "[]\n",
    "()\n",
    "{key:value}\n",
    "{x,y,z}"
   ]
  },
  {
   "cell_type": "code",
   "execution_count": 2,
   "id": "7d25a017",
   "metadata": {},
   "outputs": [],
   "source": [
    "x=[1,1,2,1,3,1,2,1,2]"
   ]
  },
  {
   "cell_type": "code",
   "execution_count": 3,
   "id": "5d8d997a",
   "metadata": {},
   "outputs": [
    {
     "data": {
      "text/plain": [
       "[1, 1, 2, 1, 3, 1, 2, 1, 2]"
      ]
     },
     "execution_count": 3,
     "metadata": {},
     "output_type": "execute_result"
    }
   ],
   "source": [
    "x"
   ]
  },
  {
   "cell_type": "code",
   "execution_count": 4,
   "id": "bc038c58",
   "metadata": {},
   "outputs": [],
   "source": [
    "x=[5,1,7,2,6]"
   ]
  },
  {
   "cell_type": "code",
   "execution_count": 5,
   "id": "5f2ac0b3",
   "metadata": {},
   "outputs": [
    {
     "data": {
      "text/plain": [
       "[5, 1, 7, 2, 6]"
      ]
     },
     "execution_count": 5,
     "metadata": {},
     "output_type": "execute_result"
    }
   ],
   "source": [
    "x"
   ]
  },
  {
   "cell_type": "code",
   "execution_count": 6,
   "id": "116fc2f2",
   "metadata": {},
   "outputs": [],
   "source": [
    "nums={1,1,2,1,3,1,2,1,2}"
   ]
  },
  {
   "cell_type": "code",
   "execution_count": 7,
   "id": "01489c34",
   "metadata": {},
   "outputs": [
    {
     "data": {
      "text/plain": [
       "{1, 2, 3}"
      ]
     },
     "execution_count": 7,
     "metadata": {},
     "output_type": "execute_result"
    }
   ],
   "source": [
    "nums"
   ]
  },
  {
   "cell_type": "code",
   "execution_count": 8,
   "id": "c9546b19",
   "metadata": {},
   "outputs": [],
   "source": [
    "set_x={5,1,7,2,6}"
   ]
  },
  {
   "cell_type": "code",
   "execution_count": 10,
   "id": "924a2956",
   "metadata": {},
   "outputs": [
    {
     "data": {
      "text/plain": [
       "{1, 2, 5, 6, 7}"
      ]
     },
     "execution_count": 10,
     "metadata": {},
     "output_type": "execute_result"
    }
   ],
   "source": [
    "set_x"
   ]
  },
  {
   "cell_type": "code",
   "execution_count": 11,
   "id": "ab7d8030",
   "metadata": {},
   "outputs": [],
   "source": [
    "set_x.add(3)"
   ]
  },
  {
   "cell_type": "code",
   "execution_count": 12,
   "id": "418e87a9",
   "metadata": {},
   "outputs": [
    {
     "data": {
      "text/plain": [
       "{1, 2, 3, 5, 6, 7}"
      ]
     },
     "execution_count": 12,
     "metadata": {},
     "output_type": "execute_result"
    }
   ],
   "source": [
    "set_x"
   ]
  },
  {
   "cell_type": "code",
   "execution_count": 13,
   "id": "4dc85603",
   "metadata": {},
   "outputs": [],
   "source": [
    "set_x.add(5)"
   ]
  },
  {
   "cell_type": "code",
   "execution_count": 14,
   "id": "cd5e0bb2",
   "metadata": {},
   "outputs": [
    {
     "data": {
      "text/plain": [
       "{1, 2, 3, 5, 6, 7}"
      ]
     },
     "execution_count": 14,
     "metadata": {},
     "output_type": "execute_result"
    }
   ],
   "source": [
    "set_x"
   ]
  },
  {
   "cell_type": "code",
   "execution_count": 15,
   "id": "b53bb045",
   "metadata": {},
   "outputs": [
    {
     "name": "stdout",
     "output_type": "stream",
     "text": [
      "['__and__', '__class__', '__contains__', '__delattr__', '__dir__', '__doc__', '__eq__', '__format__', '__ge__', '__getattribute__', '__gt__', '__hash__', '__iand__', '__init__', '__init_subclass__', '__ior__', '__isub__', '__iter__', '__ixor__', '__le__', '__len__', '__lt__', '__ne__', '__new__', '__or__', '__rand__', '__reduce__', '__reduce_ex__', '__repr__', '__ror__', '__rsub__', '__rxor__', '__setattr__', '__sizeof__', '__str__', '__sub__', '__subclasshook__', '__xor__', 'add', 'clear', 'copy', 'difference', 'difference_update', 'discard', 'intersection', 'intersection_update', 'isdisjoint', 'issubset', 'issuperset', 'pop', 'remove', 'symmetric_difference', 'symmetric_difference_update', 'union', 'update']\n"
     ]
    }
   ],
   "source": [
    "print(dir(set_x))"
   ]
  },
  {
   "cell_type": "code",
   "execution_count": 16,
   "id": "bb6fb461",
   "metadata": {},
   "outputs": [
    {
     "data": {
      "text/plain": [
       "{1, 2, 3, 5, 6, 7}"
      ]
     },
     "execution_count": 16,
     "metadata": {},
     "output_type": "execute_result"
    }
   ],
   "source": [
    "set_x"
   ]
  },
  {
   "cell_type": "code",
   "execution_count": 17,
   "id": "8982ba27",
   "metadata": {},
   "outputs": [],
   "source": [
    "set_x.remove(3)"
   ]
  },
  {
   "cell_type": "code",
   "execution_count": 18,
   "id": "41298763",
   "metadata": {},
   "outputs": [
    {
     "data": {
      "text/plain": [
       "{1, 2, 5, 6, 7}"
      ]
     },
     "execution_count": 18,
     "metadata": {},
     "output_type": "execute_result"
    }
   ],
   "source": [
    "set_x"
   ]
  },
  {
   "cell_type": "code",
   "execution_count": 19,
   "id": "acb1e805",
   "metadata": {},
   "outputs": [],
   "source": [
    "odds={1,3,5,7,9}\n",
    "even={2,4,6,8,10}\n",
    "prime={1,3,5,7}\n",
    "composite={1,2,3,5,6,8,9}"
   ]
  },
  {
   "cell_type": "code",
   "execution_count": 20,
   "id": "c84e0a67",
   "metadata": {},
   "outputs": [
    {
     "data": {
      "text/plain": [
       "{1, 2, 3, 4, 5, 6, 7, 8, 9, 10}"
      ]
     },
     "execution_count": 20,
     "metadata": {},
     "output_type": "execute_result"
    }
   ],
   "source": [
    "odds.union(even)"
   ]
  },
  {
   "cell_type": "code",
   "execution_count": 21,
   "id": "e46cc6c9",
   "metadata": {},
   "outputs": [
    {
     "data": {
      "text/plain": [
       "{1, 2, 3, 4, 5, 6, 7, 8, 9, 10}"
      ]
     },
     "execution_count": 21,
     "metadata": {},
     "output_type": "execute_result"
    }
   ],
   "source": [
    "even.union(odds)"
   ]
  },
  {
   "cell_type": "code",
   "execution_count": 22,
   "id": "4d76a54d",
   "metadata": {},
   "outputs": [
    {
     "data": {
      "text/plain": [
       "{1, 3, 5, 9}"
      ]
     },
     "execution_count": 22,
     "metadata": {},
     "output_type": "execute_result"
    }
   ],
   "source": [
    "composite.intersection(odds)"
   ]
  },
  {
   "cell_type": "code",
   "execution_count": 23,
   "id": "2330b129",
   "metadata": {},
   "outputs": [
    {
     "data": {
      "text/plain": [
       "{2, 6, 8}"
      ]
     },
     "execution_count": 23,
     "metadata": {},
     "output_type": "execute_result"
    }
   ],
   "source": [
    "composite.difference(odds)"
   ]
  },
  {
   "cell_type": "code",
   "execution_count": 24,
   "id": "04686bbb",
   "metadata": {},
   "outputs": [],
   "source": [
    "odds={1,3,5,7,9}\n",
    "composite={1,2,3,5,6,8,9}"
   ]
  },
  {
   "cell_type": "code",
   "execution_count": 25,
   "id": "85fb3b77",
   "metadata": {},
   "outputs": [
    {
     "data": {
      "text/plain": [
       "{7}"
      ]
     },
     "execution_count": 25,
     "metadata": {},
     "output_type": "execute_result"
    }
   ],
   "source": [
    "odds.difference(composite)"
   ]
  },
  {
   "cell_type": "code",
   "execution_count": 26,
   "id": "767e51d9",
   "metadata": {},
   "outputs": [
    {
     "data": {
      "text/plain": [
       "{2, 6, 8}"
      ]
     },
     "execution_count": 26,
     "metadata": {},
     "output_type": "execute_result"
    }
   ],
   "source": [
    "composite.difference(odds)"
   ]
  },
  {
   "cell_type": "code",
   "execution_count": 27,
   "id": "3115205a",
   "metadata": {},
   "outputs": [
    {
     "data": {
      "text/plain": [
       "{1, 3, 5, 9}"
      ]
     },
     "execution_count": 27,
     "metadata": {},
     "output_type": "execute_result"
    }
   ],
   "source": [
    "odds.intersection(composite)"
   ]
  },
  {
   "cell_type": "code",
   "execution_count": 28,
   "id": "262fb2e7",
   "metadata": {},
   "outputs": [
    {
     "data": {
      "text/plain": [
       "{2, 6, 7, 8}"
      ]
     },
     "execution_count": 28,
     "metadata": {},
     "output_type": "execute_result"
    }
   ],
   "source": [
    "(odds.difference(composite)).union(composite.difference(odds))"
   ]
  },
  {
   "cell_type": "code",
   "execution_count": 29,
   "id": "473c465b",
   "metadata": {},
   "outputs": [
    {
     "data": {
      "text/plain": [
       "{2, 6, 7, 8}"
      ]
     },
     "execution_count": 29,
     "metadata": {},
     "output_type": "execute_result"
    }
   ],
   "source": [
    "odds.symmetric_difference(composite)"
   ]
  },
  {
   "cell_type": "code",
   "execution_count": 30,
   "id": "b37968fc",
   "metadata": {},
   "outputs": [],
   "source": [
    "companies=['EY','EPAM','Google','Atlassion','Infosys','IBM','Meta','EY','IBM','EPAM']"
   ]
  },
  {
   "cell_type": "code",
   "execution_count": 33,
   "id": "3250016b",
   "metadata": {},
   "outputs": [
    {
     "data": {
      "text/plain": [
       "['Atlassion', 'Infosys', 'EY', 'Google', 'Meta', 'IBM', 'EPAM']"
      ]
     },
     "execution_count": 33,
     "metadata": {},
     "output_type": "execute_result"
    }
   ],
   "source": [
    "list(set(companies))"
   ]
  },
  {
   "cell_type": "code",
   "execution_count": 37,
   "id": "6f4b535a",
   "metadata": {},
   "outputs": [],
   "source": [
    "employees={'Levin','Siva','Ramya','Dinesh','Venkatesh','Krishna'}\n",
    "developers={'Siva','Ramya','Venkatesh'}\n",
    "manager={'Levin','Dinesh','Venkatesh'}\n",
    "gym_User={'Levin','Dinesh','Ganesh','Kavita','Venkatesh'}\n",
    "\n",
    "1. Get me the list of employees who are using Gym facilities  - intersection\n",
    "2. Get the gym user list who are not an employee of the company - differrece\n",
    "3. Get me the employee who are working as a developer as well as manager -intersection\n",
    "4. List of all employees working in a project - union\n",
    "5. List of employees who are not working - difference and union"
   ]
  },
  {
   "cell_type": "code",
   "execution_count": 39,
   "id": "35d37b4c",
   "metadata": {},
   "outputs": [
    {
     "data": {
      "text/plain": [
       "{'Dinesh', 'Levin', 'Venkatesh'}"
      ]
     },
     "execution_count": 39,
     "metadata": {},
     "output_type": "execute_result"
    }
   ],
   "source": [
    "employees.intersection(gym_User)"
   ]
  },
  {
   "cell_type": "code",
   "execution_count": 41,
   "id": "5e6acb6d",
   "metadata": {},
   "outputs": [
    {
     "data": {
      "text/plain": [
       "{'Ganesh', 'Kavita'}"
      ]
     },
     "execution_count": 41,
     "metadata": {},
     "output_type": "execute_result"
    }
   ],
   "source": [
    "gym_User.difference(employees)"
   ]
  },
  {
   "cell_type": "code",
   "execution_count": 42,
   "id": "74ec3521",
   "metadata": {},
   "outputs": [
    {
     "data": {
      "text/plain": [
       "{'Venkatesh'}"
      ]
     },
     "execution_count": 42,
     "metadata": {},
     "output_type": "execute_result"
    }
   ],
   "source": [
    "manager.intersection(developers)"
   ]
  },
  {
   "cell_type": "code",
   "execution_count": 43,
   "id": "a7ff11c2",
   "metadata": {},
   "outputs": [
    {
     "data": {
      "text/plain": [
       "{'Dinesh', 'Levin', 'Ramya', 'Siva', 'Venkatesh'}"
      ]
     },
     "execution_count": 43,
     "metadata": {},
     "output_type": "execute_result"
    }
   ],
   "source": [
    "developers.union(manager)"
   ]
  },
  {
   "cell_type": "code",
   "execution_count": 44,
   "id": "0bacae2e",
   "metadata": {},
   "outputs": [
    {
     "data": {
      "text/plain": [
       "{'Krishna'}"
      ]
     },
     "execution_count": 44,
     "metadata": {},
     "output_type": "execute_result"
    }
   ],
   "source": [
    "employees.difference(developers.union(manager))"
   ]
  },
  {
   "cell_type": "code",
   "execution_count": 45,
   "id": "3df79f4b",
   "metadata": {},
   "outputs": [
    {
     "data": {
      "text/plain": [
       "{'Krishna'}"
      ]
     },
     "execution_count": 45,
     "metadata": {},
     "output_type": "execute_result"
    }
   ],
   "source": [
    "employees.difference(developers,manager)"
   ]
  },
  {
   "cell_type": "code",
   "execution_count": 46,
   "id": "505cec09",
   "metadata": {},
   "outputs": [],
   "source": [
    "#---------------------------------------DATA STRUCTURE ---------------------------------------------"
   ]
  },
  {
   "cell_type": "code",
   "execution_count": null,
   "id": "aa982c38",
   "metadata": {},
   "outputs": [],
   "source": [
    "#Functions"
   ]
  }
 ],
 "metadata": {
  "kernelspec": {
   "display_name": "Python 3 (ipykernel)",
   "language": "python",
   "name": "python3"
  },
  "language_info": {
   "codemirror_mode": {
    "name": "ipython",
    "version": 3
   },
   "file_extension": ".py",
   "mimetype": "text/x-python",
   "name": "python",
   "nbconvert_exporter": "python",
   "pygments_lexer": "ipython3",
   "version": "3.8.10"
  }
 },
 "nbformat": 4,
 "nbformat_minor": 5
}
