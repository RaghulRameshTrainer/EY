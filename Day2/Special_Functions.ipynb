{
 "cells": [
  {
   "cell_type": "code",
   "execution_count": 1,
   "id": "26c23297",
   "metadata": {},
   "outputs": [
    {
     "data": {
      "text/plain": [
       "'\\nlambda\\nmap\\nfilter\\nreduce\\n'"
      ]
     },
     "execution_count": 1,
     "metadata": {},
     "output_type": "execute_result"
    }
   ],
   "source": [
    "'''\n",
    "lambda\n",
    "map\n",
    "filter\n",
    "reduce\n",
    "'''"
   ]
  },
  {
   "cell_type": "code",
   "execution_count": null,
   "id": "7547119c",
   "metadata": {},
   "outputs": [],
   "source": [
    "lambda => Anonymous Function - One Line function.\n",
    "Syntax:\n",
    "    lambda arguments : expression"
   ]
  },
  {
   "cell_type": "code",
   "execution_count": 2,
   "id": "6d681c84",
   "metadata": {},
   "outputs": [
    {
     "data": {
      "text/plain": [
       "30"
      ]
     },
     "execution_count": 2,
     "metadata": {},
     "output_type": "execute_result"
    }
   ],
   "source": [
    "(lambda x,y : x+y)(10,20)"
   ]
  },
  {
   "cell_type": "code",
   "execution_count": 3,
   "id": "70c229b2",
   "metadata": {},
   "outputs": [],
   "source": [
    "add_nums=lambda x,y : x+y"
   ]
  },
  {
   "cell_type": "code",
   "execution_count": 4,
   "id": "70b69ef7",
   "metadata": {},
   "outputs": [
    {
     "data": {
      "text/plain": [
       "11"
      ]
     },
     "execution_count": 4,
     "metadata": {},
     "output_type": "execute_result"
    }
   ],
   "source": [
    "add_nums(5,6)"
   ]
  },
  {
   "cell_type": "code",
   "execution_count": 5,
   "id": "547f7da6",
   "metadata": {},
   "outputs": [
    {
     "data": {
      "text/plain": [
       "3"
      ]
     },
     "execution_count": 5,
     "metadata": {},
     "output_type": "execute_result"
    }
   ],
   "source": [
    "add_nums(1,2)"
   ]
  },
  {
   "cell_type": "code",
   "execution_count": 6,
   "id": "b8c8e110",
   "metadata": {},
   "outputs": [],
   "source": [
    "#Write a lambda funtion to find a big number from given 2 nums\n",
    "\n",
    "find_big_num=lambda x,y : x if x>y else y"
   ]
  },
  {
   "cell_type": "code",
   "execution_count": 7,
   "id": "1e528015",
   "metadata": {},
   "outputs": [
    {
     "data": {
      "text/plain": [
       "15"
      ]
     },
     "execution_count": 7,
     "metadata": {},
     "output_type": "execute_result"
    }
   ],
   "source": [
    "find_big_num(10,15)"
   ]
  },
  {
   "cell_type": "code",
   "execution_count": 8,
   "id": "7414f6ff",
   "metadata": {},
   "outputs": [
    {
     "data": {
      "text/plain": [
       "20"
      ]
     },
     "execution_count": 8,
     "metadata": {},
     "output_type": "execute_result"
    }
   ],
   "source": [
    "find_big_num(15,20)"
   ]
  },
  {
   "cell_type": "code",
   "execution_count": 9,
   "id": "ddad68e8",
   "metadata": {},
   "outputs": [
    {
     "data": {
      "text/plain": [
       "20"
      ]
     },
     "execution_count": 9,
     "metadata": {},
     "output_type": "execute_result"
    }
   ],
   "source": [
    "find_big_num(20,6)"
   ]
  },
  {
   "cell_type": "code",
   "execution_count": 10,
   "id": "b5fe5fc3",
   "metadata": {},
   "outputs": [],
   "source": [
    "#Write a lambda funtion to find a big number from given 3 nums\n",
    "\n",
    "fbn=lambda x, y, z: x if x>y and x>z else y if y>x and y>z else z\n"
   ]
  },
  {
   "cell_type": "code",
   "execution_count": 11,
   "id": "beae4d14",
   "metadata": {},
   "outputs": [
    {
     "data": {
      "text/plain": [
       "20"
      ]
     },
     "execution_count": 11,
     "metadata": {},
     "output_type": "execute_result"
    }
   ],
   "source": [
    "fbn(10,15,20)"
   ]
  },
  {
   "cell_type": "code",
   "execution_count": 16,
   "id": "53269429",
   "metadata": {},
   "outputs": [
    {
     "data": {
      "text/plain": [
       "100"
      ]
     },
     "execution_count": 16,
     "metadata": {},
     "output_type": "execute_result"
    }
   ],
   "source": [
    "fbn(15,20,100)"
   ]
  },
  {
   "cell_type": "code",
   "execution_count": 15,
   "id": "99a76016",
   "metadata": {},
   "outputs": [
    {
     "data": {
      "text/plain": [
       "200"
      ]
     },
     "execution_count": 15,
     "metadata": {},
     "output_type": "execute_result"
    }
   ],
   "source": [
    "fbn(200,10,15)"
   ]
  },
  {
   "cell_type": "code",
   "execution_count": 14,
   "id": "334862af",
   "metadata": {},
   "outputs": [
    {
     "data": {
      "text/plain": [
       "150"
      ]
     },
     "execution_count": 14,
     "metadata": {},
     "output_type": "execute_result"
    }
   ],
   "source": [
    "fbn(10,20,150)"
   ]
  },
  {
   "cell_type": "code",
   "execution_count": 18,
   "id": "02e0ce4c",
   "metadata": {},
   "outputs": [],
   "source": [
    "def find_big_num(x,y,z):\n",
    "    if x>y and x>z:\n",
    "        return x\n",
    "    elif y>x and y>z:\n",
    "        return y\n",
    "    else:\n",
    "        return z"
   ]
  },
  {
   "cell_type": "code",
   "execution_count": 19,
   "id": "3355d606",
   "metadata": {},
   "outputs": [
    {
     "data": {
      "text/plain": [
       "333"
      ]
     },
     "execution_count": 19,
     "metadata": {},
     "output_type": "execute_result"
    }
   ],
   "source": [
    "find_big_num(111,222,333)"
   ]
  },
  {
   "cell_type": "code",
   "execution_count": 24,
   "id": "72b43485",
   "metadata": {},
   "outputs": [],
   "source": [
    "contry=['Australia','England','America','Canada','Japan','Singapore']"
   ]
  },
  {
   "cell_type": "code",
   "execution_count": 25,
   "id": "e71e09e4",
   "metadata": {},
   "outputs": [],
   "source": [
    "check_cntry=lambda c : c in contry"
   ]
  },
  {
   "cell_type": "code",
   "execution_count": 26,
   "id": "e5400ed0",
   "metadata": {},
   "outputs": [
    {
     "data": {
      "text/plain": [
       "False"
      ]
     },
     "execution_count": 26,
     "metadata": {},
     "output_type": "execute_result"
    }
   ],
   "source": [
    "check_cntry('India')"
   ]
  },
  {
   "cell_type": "code",
   "execution_count": 27,
   "id": "56ef5cf0",
   "metadata": {},
   "outputs": [],
   "source": [
    "def check_country(country_name):\n",
    "    if country_name in contry:\n",
    "        return True\n",
    "    else:\n",
    "        return False"
   ]
  },
  {
   "cell_type": "code",
   "execution_count": 28,
   "id": "e6ee2cf8",
   "metadata": {},
   "outputs": [
    {
     "data": {
      "text/plain": [
       "True"
      ]
     },
     "execution_count": 28,
     "metadata": {},
     "output_type": "execute_result"
    }
   ],
   "source": [
    "check_country('Canada')"
   ]
  },
  {
   "cell_type": "code",
   "execution_count": 29,
   "id": "f9a95e19",
   "metadata": {},
   "outputs": [
    {
     "data": {
      "text/plain": [
       "False"
      ]
     },
     "execution_count": 29,
     "metadata": {},
     "output_type": "execute_result"
    }
   ],
   "source": [
    "check_country('Nepal')"
   ]
  },
  {
   "cell_type": "code",
   "execution_count": 32,
   "id": "d7249f5c",
   "metadata": {},
   "outputs": [
    {
     "name": "stdout",
     "output_type": "stream",
     "text": [
      "0 1 2 3 4 5 6 7 8 9 "
     ]
    }
   ],
   "source": [
    "#map \n",
    "\n",
    "for x in range(10):  # 0-9\n",
    "    print(x, end=' ')"
   ]
  },
  {
   "cell_type": "code",
   "execution_count": 33,
   "id": "5cd9be49",
   "metadata": {},
   "outputs": [
    {
     "name": "stdout",
     "output_type": "stream",
     "text": [
      "1 2 3 4 5 6 7 8 9 10 "
     ]
    }
   ],
   "source": [
    "for x in range(1,11):\n",
    "    print(x, end=' ')"
   ]
  },
  {
   "cell_type": "code",
   "execution_count": 37,
   "id": "a7fca1f5",
   "metadata": {},
   "outputs": [
    {
     "data": {
      "text/plain": [
       "'a'"
      ]
     },
     "execution_count": 37,
     "metadata": {},
     "output_type": "execute_result"
    }
   ],
   "source": [
    "chr(97)"
   ]
  },
  {
   "cell_type": "code",
   "execution_count": 39,
   "id": "69649ea1",
   "metadata": {},
   "outputs": [
    {
     "data": {
      "text/plain": [
       "'A'"
      ]
     },
     "execution_count": 39,
     "metadata": {},
     "output_type": "execute_result"
    }
   ],
   "source": [
    "chr(65)"
   ]
  },
  {
   "cell_type": "code",
   "execution_count": 40,
   "id": "a54908e2",
   "metadata": {},
   "outputs": [],
   "source": [
    "def print_alphabet(x):\n",
    "    n1=96+x\n",
    "    n2=64+x\n",
    "    return (chr(n1), chr(n2))"
   ]
  },
  {
   "cell_type": "code",
   "execution_count": 44,
   "id": "814cbe6a",
   "metadata": {},
   "outputs": [
    {
     "data": {
      "text/plain": [
       "('o', 'O')"
      ]
     },
     "execution_count": 44,
     "metadata": {},
     "output_type": "execute_result"
    }
   ],
   "source": [
    "print_alphabet(15)"
   ]
  },
  {
   "cell_type": "markdown",
   "id": "868d04d9",
   "metadata": {},
   "source": [
    "# MAP"
   ]
  },
  {
   "cell_type": "code",
   "execution_count": 47,
   "id": "957428bf",
   "metadata": {},
   "outputs": [
    {
     "data": {
      "text/plain": [
       "[1, 4, 9, 16, 25, 36, 49, 64, 81, 100]"
      ]
     },
     "execution_count": 47,
     "metadata": {},
     "output_type": "execute_result"
    }
   ],
   "source": [
    "nums=list(range(1,11))\n",
    "list(map(lambda x: x**2, nums))"
   ]
  },
  {
   "cell_type": "code",
   "execution_count": 49,
   "id": "1b1e47df",
   "metadata": {},
   "outputs": [],
   "source": [
    "def square_it(n):\n",
    "    return n**3"
   ]
  },
  {
   "cell_type": "code",
   "execution_count": 50,
   "id": "4785fac9",
   "metadata": {},
   "outputs": [
    {
     "data": {
      "text/plain": [
       "[1, 8, 27, 64, 125, 216, 343, 512, 729, 1000]"
      ]
     },
     "execution_count": 50,
     "metadata": {},
     "output_type": "execute_result"
    }
   ],
   "source": [
    "list(map(square_it, nums))"
   ]
  },
  {
   "cell_type": "markdown",
   "id": "0208264b",
   "metadata": {},
   "source": [
    "# FILTER"
   ]
  },
  {
   "cell_type": "code",
   "execution_count": 55,
   "id": "0283e1f1",
   "metadata": {},
   "outputs": [
    {
     "data": {
      "text/plain": [
       "[6, 8, 10]"
      ]
     },
     "execution_count": 55,
     "metadata": {},
     "output_type": "execute_result"
    }
   ],
   "source": [
    "#get only even number and greater than 5\n",
    "\n",
    "list(filter(lambda x:(x%2==0 and x>5) , nums))"
   ]
  },
  {
   "cell_type": "markdown",
   "id": "84d27fe5",
   "metadata": {},
   "source": [
    "# REDUCE"
   ]
  },
  {
   "cell_type": "code",
   "execution_count": 56,
   "id": "e917f0c4",
   "metadata": {},
   "outputs": [
    {
     "data": {
      "text/plain": [
       "120"
      ]
     },
     "execution_count": 56,
     "metadata": {},
     "output_type": "execute_result"
    }
   ],
   "source": [
    "import functools\n",
    "\n",
    "functools.reduce(lambda x,y : x*y , [1,2,3,4,5])"
   ]
  },
  {
   "cell_type": "code",
   "execution_count": null,
   "id": "0acdf5ab",
   "metadata": {},
   "outputs": [],
   "source": []
  }
 ],
 "metadata": {
  "kernelspec": {
   "display_name": "Python 3 (ipykernel)",
   "language": "python",
   "name": "python3"
  },
  "language_info": {
   "codemirror_mode": {
    "name": "ipython",
    "version": 3
   },
   "file_extension": ".py",
   "mimetype": "text/x-python",
   "name": "python",
   "nbconvert_exporter": "python",
   "pygments_lexer": "ipython3",
   "version": "3.8.10"
  }
 },
 "nbformat": 4,
 "nbformat_minor": 5
}
