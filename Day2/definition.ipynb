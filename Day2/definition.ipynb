{
 "cells": [
  {
   "cell_type": "code",
   "execution_count": 1,
   "id": "3ccc9bcc",
   "metadata": {},
   "outputs": [],
   "source": [
    "def add_nums(x,y):\n",
    "    res=x+y\n",
    "    return res"
   ]
  },
  {
   "cell_type": "code",
   "execution_count": 2,
   "id": "02b62278",
   "metadata": {},
   "outputs": [
    {
     "data": {
      "text/plain": [
       "30"
      ]
     },
     "execution_count": 2,
     "metadata": {},
     "output_type": "execute_result"
    }
   ],
   "source": [
    "add_nums(10,20)"
   ]
  },
  {
   "cell_type": "code",
   "execution_count": 3,
   "id": "957a7eac",
   "metadata": {},
   "outputs": [
    {
     "ename": "TypeError",
     "evalue": "add_nums() takes 2 positional arguments but 3 were given",
     "output_type": "error",
     "traceback": [
      "\u001b[1;31m---------------------------------------------------------------------------\u001b[0m",
      "\u001b[1;31mTypeError\u001b[0m                                 Traceback (most recent call last)",
      "Cell \u001b[1;32mIn [3], line 1\u001b[0m\n\u001b[1;32m----> 1\u001b[0m \u001b[43madd_nums\u001b[49m\u001b[43m(\u001b[49m\u001b[38;5;241;43m10\u001b[39;49m\u001b[43m,\u001b[49m\u001b[38;5;241;43m20\u001b[39;49m\u001b[43m,\u001b[49m\u001b[38;5;241;43m30\u001b[39;49m\u001b[43m)\u001b[49m\n",
      "\u001b[1;31mTypeError\u001b[0m: add_nums() takes 2 positional arguments but 3 were given"
     ]
    }
   ],
   "source": [
    "add_nums(10,20,30)"
   ]
  },
  {
   "cell_type": "code",
   "execution_count": 4,
   "id": "d811d4e5",
   "metadata": {},
   "outputs": [
    {
     "ename": "TypeError",
     "evalue": "add_nums() missing 1 required positional argument: 'y'",
     "output_type": "error",
     "traceback": [
      "\u001b[1;31m---------------------------------------------------------------------------\u001b[0m",
      "\u001b[1;31mTypeError\u001b[0m                                 Traceback (most recent call last)",
      "Cell \u001b[1;32mIn [4], line 1\u001b[0m\n\u001b[1;32m----> 1\u001b[0m \u001b[43madd_nums\u001b[49m\u001b[43m(\u001b[49m\u001b[38;5;241;43m10\u001b[39;49m\u001b[43m)\u001b[49m\n",
      "\u001b[1;31mTypeError\u001b[0m: add_nums() missing 1 required positional argument: 'y'"
     ]
    }
   ],
   "source": [
    "add_nums(10)"
   ]
  },
  {
   "cell_type": "code",
   "execution_count": 8,
   "id": "417368c2",
   "metadata": {},
   "outputs": [],
   "source": [
    "def add_nums(x,y=0):         # default arguments\n",
    "    res=x+y\n",
    "    return res"
   ]
  },
  {
   "cell_type": "code",
   "execution_count": 9,
   "id": "5900433e",
   "metadata": {},
   "outputs": [
    {
     "data": {
      "text/plain": [
       "30"
      ]
     },
     "execution_count": 9,
     "metadata": {},
     "output_type": "execute_result"
    }
   ],
   "source": [
    "add_nums(10,20)"
   ]
  },
  {
   "cell_type": "code",
   "execution_count": 10,
   "id": "1bb5bbaf",
   "metadata": {},
   "outputs": [
    {
     "data": {
      "text/plain": [
       "10"
      ]
     },
     "execution_count": 10,
     "metadata": {},
     "output_type": "execute_result"
    }
   ],
   "source": [
    "add_nums(10)"
   ]
  },
  {
   "cell_type": "code",
   "execution_count": 22,
   "id": "1b116d64",
   "metadata": {},
   "outputs": [],
   "source": [
    "def add_nums(x,y,*z):\n",
    "    print(f\"x:{x} & type:{type(x)}\")\n",
    "    print(f\"y:{y} & type:{type(y)}\")\n",
    "    print(f\"z:{z} & type:{type(z)}\")\n",
    "    res=x+y+sum(z)\n",
    "    return res"
   ]
  },
  {
   "cell_type": "code",
   "execution_count": 23,
   "id": "37cacf7f",
   "metadata": {},
   "outputs": [
    {
     "name": "stdout",
     "output_type": "stream",
     "text": [
      "x:10 & type:<class 'int'>\n",
      "y:20 & type:<class 'int'>\n",
      "z:(30, 40, 50, 60, 70, 80, 90, 10) & type:<class 'tuple'>\n"
     ]
    },
    {
     "data": {
      "text/plain": [
       "460"
      ]
     },
     "execution_count": 23,
     "metadata": {},
     "output_type": "execute_result"
    }
   ],
   "source": [
    "add_nums(10,20,30,40,50,60,70,80,90,10)"
   ]
  },
  {
   "cell_type": "code",
   "execution_count": 24,
   "id": "55ac6e1c",
   "metadata": {},
   "outputs": [],
   "source": [
    "def add_nums(*x):\n",
    "    print(f\"x:{x} & type:{type(x)}\")\n",
    "    return sum(x)"
   ]
  },
  {
   "cell_type": "code",
   "execution_count": 28,
   "id": "234b5617",
   "metadata": {},
   "outputs": [
    {
     "name": "stdout",
     "output_type": "stream",
     "text": [
      "x:(1, 2, 3, 10, 20, 100, 1000) & type:<class 'tuple'>\n"
     ]
    },
    {
     "data": {
      "text/plain": [
       "1136"
      ]
     },
     "execution_count": 28,
     "metadata": {},
     "output_type": "execute_result"
    }
   ],
   "source": [
    "add_nums(1,2,3,10,20,100,1000)"
   ]
  },
  {
   "cell_type": "code",
   "execution_count": 19,
   "id": "33fc66bb",
   "metadata": {},
   "outputs": [],
   "source": [
    "def add_nums(x,y):\n",
    "    '''Add nums function should be called with 2 numbers to get the sum of those 2 nums'''\n",
    "    return x+y"
   ]
  },
  {
   "cell_type": "code",
   "execution_count": 20,
   "id": "830c3971",
   "metadata": {},
   "outputs": [
    {
     "data": {
      "text/plain": [
       "'Add nums function should be called with 2 numbers to get the sum of those 2 nums'"
      ]
     },
     "execution_count": 20,
     "metadata": {},
     "output_type": "execute_result"
    }
   ],
   "source": [
    "add_nums.__doc__"
   ]
  },
  {
   "cell_type": "code",
   "execution_count": 21,
   "id": "8f530bbe",
   "metadata": {},
   "outputs": [
    {
     "data": {
      "text/plain": [
       "11"
      ]
     },
     "execution_count": 21,
     "metadata": {},
     "output_type": "execute_result"
    }
   ],
   "source": [
    "add_nums(5,6)"
   ]
  },
  {
   "cell_type": "code",
   "execution_count": 33,
   "id": "46e04df0",
   "metadata": {},
   "outputs": [],
   "source": [
    "def about_customer(fname,lname,acct_num,**others):\n",
    "    print(f\"others:{type(others)}\")\n",
    "    print(f\"First Name: {fname}\\nLast Name:{lname}\\nAccount No:{acct_num}\")\n",
    "    for key, value in others.items():\n",
    "        print(key+':'+str(value))"
   ]
  },
  {
   "cell_type": "code",
   "execution_count": 36,
   "id": "ea6aa2dd",
   "metadata": {},
   "outputs": [
    {
     "name": "stdout",
     "output_type": "stream",
     "text": [
      "others:<class 'dict'>\n",
      "First Name: Raghul\n",
      "Last Name:Ramesh\n",
      "Account No:152015539000\n",
      "city:Chennai\n",
      "Job:Trainer\n",
      "Langaues:['Tamil', 'English']\n",
      "country:India\n",
      "age:37\n",
      "gender:M\n",
      "Marrital:Married\n"
     ]
    }
   ],
   "source": [
    "about_customer('Raghul','Ramesh',152015539000,city=\"Chennai\",Job=\"Trainer\",Langaues=['Tamil','English'],country='India',age=37,gender='M',Marrital='Married')"
   ]
  },
  {
   "cell_type": "code",
   "execution_count": 37,
   "id": "bd8caf62",
   "metadata": {},
   "outputs": [],
   "source": [
    "#mandatory(x,y) , default/optional (y=0), star argumber (*x), double (key valur agrs) (**x)\n"
   ]
  },
  {
   "cell_type": "code",
   "execution_count": 42,
   "id": "49dcaf19",
   "metadata": {},
   "outputs": [],
   "source": [
    "def get_seniority(age):\n",
    "    if age <= 20:\n",
    "        return \"Young\"\n",
    "    elif age > 20 and age < 50:\n",
    "        return \"Middle Level\"\n",
    "    else:\n",
    "        return \"senior\""
   ]
  },
  {
   "cell_type": "code",
   "execution_count": 47,
   "id": "8afdba71",
   "metadata": {},
   "outputs": [],
   "source": [
    "level=get_seniority(30)"
   ]
  },
  {
   "cell_type": "code",
   "execution_count": 48,
   "id": "c703eb01",
   "metadata": {},
   "outputs": [
    {
     "data": {
      "text/plain": [
       "'Middle Level'"
      ]
     },
     "execution_count": 48,
     "metadata": {},
     "output_type": "execute_result"
    }
   ],
   "source": [
    "level"
   ]
  },
  {
   "cell_type": "code",
   "execution_count": 49,
   "id": "24c7caf4",
   "metadata": {},
   "outputs": [],
   "source": [
    "# SCOPE OF TEH VARIABLE : local and global"
   ]
  },
  {
   "cell_type": "code",
   "execution_count": 53,
   "id": "222a456e",
   "metadata": {},
   "outputs": [
    {
     "name": "stdout",
     "output_type": "stream",
     "text": [
      "age before the function call :37\n",
      "age inside the function:38\n",
      "age after the function call :38\n"
     ]
    }
   ],
   "source": [
    "age = 37          #global variable\n",
    "\n",
    "def birth_day():\n",
    "    global age\n",
    "    age=38       #local variable (since it got created inside a function)\n",
    "    print(f\"age inside the function:{age}\")\n",
    "          \n",
    "print(f\"age before the function call :{age}\") \n",
    "birth_day()\n",
    "print(f\"age after the function call :{age}\")\n",
    "          "
   ]
  },
  {
   "cell_type": "code",
   "execution_count": null,
   "id": "ba61ec4e",
   "metadata": {},
   "outputs": [],
   "source": [
    "# Special Function\n",
    "lambda\n",
    "map\n",
    "filter\n",
    "reduce\n",
    "\n",
    "\n",
    "Generator\n",
    "\n",
    "File ops\n",
    "ecception handling"
   ]
  }
 ],
 "metadata": {
  "kernelspec": {
   "display_name": "Python 3 (ipykernel)",
   "language": "python",
   "name": "python3"
  },
  "language_info": {
   "codemirror_mode": {
    "name": "ipython",
    "version": 3
   },
   "file_extension": ".py",
   "mimetype": "text/x-python",
   "name": "python",
   "nbconvert_exporter": "python",
   "pygments_lexer": "ipython3",
   "version": "3.8.10"
  }
 },
 "nbformat": 4,
 "nbformat_minor": 5
}
