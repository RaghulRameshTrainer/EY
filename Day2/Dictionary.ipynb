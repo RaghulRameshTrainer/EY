{
 "cells": [
  {
   "cell_type": "markdown",
   "id": "a9645dc1",
   "metadata": {},
   "source": [
    "# Dictionary"
   ]
  },
  {
   "cell_type": "code",
   "execution_count": 1,
   "id": "26c9c066",
   "metadata": {},
   "outputs": [],
   "source": [
    "#key : value"
   ]
  },
  {
   "cell_type": "code",
   "execution_count": 2,
   "id": "a084ec57",
   "metadata": {},
   "outputs": [],
   "source": [
    "session = {'tech' : 'Python',\n",
    "          'Duation': 3,\n",
    "          'Mode':'Online',\n",
    "          'Classroom': False,\n",
    "          'LunchBreak': 0.45,\n",
    "          'topics': ['Basics','DataStructure','FileOps','DBOps','OOPS'],\n",
    "          8 : 'No_of_Hours'}"
   ]
  },
  {
   "cell_type": "code",
   "execution_count": 3,
   "id": "978e0c20",
   "metadata": {},
   "outputs": [
    {
     "data": {
      "text/plain": [
       "dict"
      ]
     },
     "execution_count": 3,
     "metadata": {},
     "output_type": "execute_result"
    }
   ],
   "source": [
    "type(session)"
   ]
  },
  {
   "cell_type": "code",
   "execution_count": 4,
   "id": "6fc0dcd7",
   "metadata": {},
   "outputs": [
    {
     "data": {
      "text/plain": [
       "'Python'"
      ]
     },
     "execution_count": 4,
     "metadata": {},
     "output_type": "execute_result"
    }
   ],
   "source": [
    "session['tech']"
   ]
  },
  {
   "cell_type": "code",
   "execution_count": 5,
   "id": "ae28ec60",
   "metadata": {},
   "outputs": [
    {
     "data": {
      "text/plain": [
       "'Online'"
      ]
     },
     "execution_count": 5,
     "metadata": {},
     "output_type": "execute_result"
    }
   ],
   "source": [
    "session['Mode']"
   ]
  },
  {
   "cell_type": "code",
   "execution_count": 6,
   "id": "9b53948a",
   "metadata": {},
   "outputs": [
    {
     "ename": "KeyError",
     "evalue": "'trainer_name'",
     "output_type": "error",
     "traceback": [
      "\u001b[1;31m---------------------------------------------------------------------------\u001b[0m",
      "\u001b[1;31mKeyError\u001b[0m                                  Traceback (most recent call last)",
      "Cell \u001b[1;32mIn [6], line 1\u001b[0m\n\u001b[1;32m----> 1\u001b[0m \u001b[43msession\u001b[49m\u001b[43m[\u001b[49m\u001b[38;5;124;43m'\u001b[39;49m\u001b[38;5;124;43mtrainer_name\u001b[39;49m\u001b[38;5;124;43m'\u001b[39;49m\u001b[43m]\u001b[49m\n",
      "\u001b[1;31mKeyError\u001b[0m: 'trainer_name'"
     ]
    }
   ],
   "source": [
    "session['trainer_name']"
   ]
  },
  {
   "cell_type": "code",
   "execution_count": 7,
   "id": "1fbd458b",
   "metadata": {},
   "outputs": [],
   "source": [
    "# get and setdefault"
   ]
  },
  {
   "cell_type": "code",
   "execution_count": 9,
   "id": "19617872",
   "metadata": {},
   "outputs": [
    {
     "name": "stdout",
     "output_type": "stream",
     "text": [
      "['__class__', '__contains__', '__delattr__', '__delitem__', '__dir__', '__doc__', '__eq__', '__format__', '__ge__', '__getattribute__', '__getitem__', '__gt__', '__hash__', '__init__', '__init_subclass__', '__iter__', '__le__', '__len__', '__lt__', '__ne__', '__new__', '__reduce__', '__reduce_ex__', '__repr__', '__reversed__', '__setattr__', '__setitem__', '__sizeof__', '__str__', '__subclasshook__', 'clear', 'copy', 'fromkeys', 'get', 'items', 'keys', 'pop', 'popitem', 'setdefault', 'update', 'values']\n"
     ]
    }
   ],
   "source": [
    "print(dir(session))"
   ]
  },
  {
   "cell_type": "code",
   "execution_count": 10,
   "id": "b342d59f",
   "metadata": {},
   "outputs": [
    {
     "data": {
      "text/plain": [
       "{'tech': 'Python',\n",
       " 'Duation': 3,\n",
       " 'Mode': 'Online',\n",
       " 'Classroom': False,\n",
       " 'LunchBreak': 0.45,\n",
       " 'topics': ['Basics', 'DataStructure', 'FileOps', 'DBOps', 'OOPS'],\n",
       " 8: 'No_of_Hours'}"
      ]
     },
     "execution_count": 10,
     "metadata": {},
     "output_type": "execute_result"
    }
   ],
   "source": [
    "session"
   ]
  },
  {
   "cell_type": "code",
   "execution_count": 11,
   "id": "11b550f9",
   "metadata": {},
   "outputs": [
    {
     "data": {
      "text/plain": [
       "['Basics', 'DataStructure', 'FileOps', 'DBOps', 'OOPS']"
      ]
     },
     "execution_count": 11,
     "metadata": {},
     "output_type": "execute_result"
    }
   ],
   "source": [
    "session.get('topics')"
   ]
  },
  {
   "cell_type": "code",
   "execution_count": 12,
   "id": "60a6cd95",
   "metadata": {},
   "outputs": [],
   "source": [
    "session.get('trainer_name')"
   ]
  },
  {
   "cell_type": "code",
   "execution_count": 13,
   "id": "daa04cdd",
   "metadata": {},
   "outputs": [
    {
     "data": {
      "text/plain": [
       "'Not Exists'"
      ]
     },
     "execution_count": 13,
     "metadata": {},
     "output_type": "execute_result"
    }
   ],
   "source": [
    "session.get('trainer_name','Not Exists')"
   ]
  },
  {
   "cell_type": "code",
   "execution_count": 14,
   "id": "407ecd61",
   "metadata": {},
   "outputs": [
    {
     "data": {
      "text/plain": [
       "3"
      ]
     },
     "execution_count": 14,
     "metadata": {},
     "output_type": "execute_result"
    }
   ],
   "source": [
    "session.get('Duation','Not Exists')"
   ]
  },
  {
   "cell_type": "code",
   "execution_count": 15,
   "id": "14001ef0",
   "metadata": {},
   "outputs": [
    {
     "data": {
      "text/plain": [
       "{'tech': 'Python',\n",
       " 'Duation': 3,\n",
       " 'Mode': 'Online',\n",
       " 'Classroom': False,\n",
       " 'LunchBreak': 0.45,\n",
       " 'topics': ['Basics', 'DataStructure', 'FileOps', 'DBOps', 'OOPS'],\n",
       " 8: 'No_of_Hours'}"
      ]
     },
     "execution_count": 15,
     "metadata": {},
     "output_type": "execute_result"
    }
   ],
   "source": [
    "session"
   ]
  },
  {
   "cell_type": "code",
   "execution_count": 16,
   "id": "de0d0df3",
   "metadata": {},
   "outputs": [
    {
     "data": {
      "text/plain": [
       "['Basics', 'DataStructure', 'FileOps', 'DBOps', 'OOPS']"
      ]
     },
     "execution_count": 16,
     "metadata": {},
     "output_type": "execute_result"
    }
   ],
   "source": [
    "session.setdefault('topics')"
   ]
  },
  {
   "cell_type": "code",
   "execution_count": 17,
   "id": "ee6a326c",
   "metadata": {},
   "outputs": [
    {
     "data": {
      "text/plain": [
       "{'tech': 'Python',\n",
       " 'Duation': 3,\n",
       " 'Mode': 'Online',\n",
       " 'Classroom': False,\n",
       " 'LunchBreak': 0.45,\n",
       " 'topics': ['Basics', 'DataStructure', 'FileOps', 'DBOps', 'OOPS'],\n",
       " 8: 'No_of_Hours'}"
      ]
     },
     "execution_count": 17,
     "metadata": {},
     "output_type": "execute_result"
    }
   ],
   "source": [
    "session"
   ]
  },
  {
   "cell_type": "code",
   "execution_count": 18,
   "id": "e1f54e39",
   "metadata": {},
   "outputs": [
    {
     "data": {
      "text/plain": [
       "'Not Exists'"
      ]
     },
     "execution_count": 18,
     "metadata": {},
     "output_type": "execute_result"
    }
   ],
   "source": [
    "session.setdefault('trainer_name','Not Exists')"
   ]
  },
  {
   "cell_type": "code",
   "execution_count": 19,
   "id": "f7253eb3",
   "metadata": {},
   "outputs": [
    {
     "data": {
      "text/plain": [
       "{'tech': 'Python',\n",
       " 'Duation': 3,\n",
       " 'Mode': 'Online',\n",
       " 'Classroom': False,\n",
       " 'LunchBreak': 0.45,\n",
       " 'topics': ['Basics', 'DataStructure', 'FileOps', 'DBOps', 'OOPS'],\n",
       " 8: 'No_of_Hours',\n",
       " 'trainer_name': 'Not Exists'}"
      ]
     },
     "execution_count": 19,
     "metadata": {},
     "output_type": "execute_result"
    }
   ],
   "source": [
    "session"
   ]
  },
  {
   "cell_type": "code",
   "execution_count": 20,
   "id": "f564993e",
   "metadata": {},
   "outputs": [
    {
     "data": {
      "text/plain": [
       "'Python'"
      ]
     },
     "execution_count": 20,
     "metadata": {},
     "output_type": "execute_result"
    }
   ],
   "source": [
    "session.setdefault('tech','Java')"
   ]
  },
  {
   "cell_type": "code",
   "execution_count": 21,
   "id": "e65c21df",
   "metadata": {},
   "outputs": [
    {
     "data": {
      "text/plain": [
       "{'tech': 'Python',\n",
       " 'Duation': 3,\n",
       " 'Mode': 'Online',\n",
       " 'Classroom': False,\n",
       " 'LunchBreak': 0.45,\n",
       " 'topics': ['Basics', 'DataStructure', 'FileOps', 'DBOps', 'OOPS'],\n",
       " 8: 'No_of_Hours',\n",
       " 'trainer_name': 'Not Exists'}"
      ]
     },
     "execution_count": 21,
     "metadata": {},
     "output_type": "execute_result"
    }
   ],
   "source": [
    "session"
   ]
  },
  {
   "cell_type": "code",
   "execution_count": 22,
   "id": "1cc2c0ad",
   "metadata": {},
   "outputs": [],
   "source": [
    "session['country'] = 'India'"
   ]
  },
  {
   "cell_type": "code",
   "execution_count": 23,
   "id": "623f2aed",
   "metadata": {},
   "outputs": [
    {
     "data": {
      "text/plain": [
       "{'tech': 'Python',\n",
       " 'Duation': 3,\n",
       " 'Mode': 'Online',\n",
       " 'Classroom': False,\n",
       " 'LunchBreak': 0.45,\n",
       " 'topics': ['Basics', 'DataStructure', 'FileOps', 'DBOps', 'OOPS'],\n",
       " 8: 'No_of_Hours',\n",
       " 'trainer_name': 'Not Exists',\n",
       " 'country': 'India'}"
      ]
     },
     "execution_count": 23,
     "metadata": {},
     "output_type": "execute_result"
    }
   ],
   "source": [
    "session"
   ]
  },
  {
   "cell_type": "code",
   "execution_count": 24,
   "id": "b322da6e",
   "metadata": {},
   "outputs": [
    {
     "name": "stdout",
     "output_type": "stream",
     "text": [
      "['__class__', '__contains__', '__delattr__', '__delitem__', '__dir__', '__doc__', '__eq__', '__format__', '__ge__', '__getattribute__', '__getitem__', '__gt__', '__hash__', '__init__', '__init_subclass__', '__iter__', '__le__', '__len__', '__lt__', '__ne__', '__new__', '__reduce__', '__reduce_ex__', '__repr__', '__reversed__', '__setattr__', '__setitem__', '__sizeof__', '__str__', '__subclasshook__', 'clear', 'copy', 'fromkeys', 'get', 'items', 'keys', 'pop', 'popitem', 'setdefault', 'update', 'values']\n"
     ]
    }
   ],
   "source": [
    "print(dir(session))"
   ]
  },
  {
   "cell_type": "code",
   "execution_count": 25,
   "id": "88401a3a",
   "metadata": {},
   "outputs": [],
   "source": [
    "session['LunchBreak'] = 1"
   ]
  },
  {
   "cell_type": "code",
   "execution_count": 26,
   "id": "8a32987f",
   "metadata": {},
   "outputs": [
    {
     "data": {
      "text/plain": [
       "{'tech': 'Python',\n",
       " 'Duation': 3,\n",
       " 'Mode': 'Online',\n",
       " 'Classroom': False,\n",
       " 'LunchBreak': 1,\n",
       " 'topics': ['Basics', 'DataStructure', 'FileOps', 'DBOps', 'OOPS'],\n",
       " 8: 'No_of_Hours',\n",
       " 'trainer_name': 'Not Exists',\n",
       " 'country': 'India'}"
      ]
     },
     "execution_count": 26,
     "metadata": {},
     "output_type": "execute_result"
    }
   ],
   "source": [
    "session"
   ]
  },
  {
   "cell_type": "code",
   "execution_count": 27,
   "id": "e4251b2e",
   "metadata": {},
   "outputs": [],
   "source": [
    "session.update({'trainer_name':'Raghul Ramesh',\n",
    "               'Company':'EY',\n",
    "               'topics': 'FileOperations'})"
   ]
  },
  {
   "cell_type": "code",
   "execution_count": 30,
   "id": "c6acde12",
   "metadata": {},
   "outputs": [
    {
     "data": {
      "text/plain": [
       "{'tech': 'Python',\n",
       " 'Duation': 3,\n",
       " 'Mode': 'Online',\n",
       " 'Classroom': False,\n",
       " 'LunchBreak': 1,\n",
       " 'topics': 'FileOperations',\n",
       " 8: 'No_of_Hours',\n",
       " 'trainer_name': 'Raghul Ramesh',\n",
       " 'country': 'India',\n",
       " 'Company': 'EY'}"
      ]
     },
     "execution_count": 30,
     "metadata": {},
     "output_type": "execute_result"
    }
   ],
   "source": [
    "session"
   ]
  },
  {
   "cell_type": "code",
   "execution_count": 31,
   "id": "c4d82d9c",
   "metadata": {},
   "outputs": [
    {
     "data": {
      "text/plain": [
       "3"
      ]
     },
     "execution_count": 31,
     "metadata": {},
     "output_type": "execute_result"
    }
   ],
   "source": [
    "session.pop('Duation')"
   ]
  },
  {
   "cell_type": "code",
   "execution_count": 32,
   "id": "f94c42ef",
   "metadata": {},
   "outputs": [
    {
     "data": {
      "text/plain": [
       "{'tech': 'Python',\n",
       " 'Mode': 'Online',\n",
       " 'Classroom': False,\n",
       " 'LunchBreak': 1,\n",
       " 'topics': 'FileOperations',\n",
       " 8: 'No_of_Hours',\n",
       " 'trainer_name': 'Raghul Ramesh',\n",
       " 'country': 'India',\n",
       " 'Company': 'EY'}"
      ]
     },
     "execution_count": 32,
     "metadata": {},
     "output_type": "execute_result"
    }
   ],
   "source": [
    "session"
   ]
  },
  {
   "cell_type": "code",
   "execution_count": 33,
   "id": "fa1b19a0",
   "metadata": {},
   "outputs": [
    {
     "data": {
      "text/plain": [
       "('Company', 'EY')"
      ]
     },
     "execution_count": 33,
     "metadata": {},
     "output_type": "execute_result"
    }
   ],
   "source": [
    "session.popitem()"
   ]
  },
  {
   "cell_type": "code",
   "execution_count": 34,
   "id": "b849b781",
   "metadata": {},
   "outputs": [
    {
     "data": {
      "text/plain": [
       "('country', 'India')"
      ]
     },
     "execution_count": 34,
     "metadata": {},
     "output_type": "execute_result"
    }
   ],
   "source": [
    "session.popitem()"
   ]
  },
  {
   "cell_type": "code",
   "execution_count": 35,
   "id": "98899c4e",
   "metadata": {},
   "outputs": [
    {
     "data": {
      "text/plain": [
       "{'tech': 'Python',\n",
       " 'Mode': 'Online',\n",
       " 'Classroom': False,\n",
       " 'LunchBreak': 1,\n",
       " 'topics': 'FileOperations',\n",
       " 8: 'No_of_Hours',\n",
       " 'trainer_name': 'Raghul Ramesh'}"
      ]
     },
     "execution_count": 35,
     "metadata": {},
     "output_type": "execute_result"
    }
   ],
   "source": [
    "session"
   ]
  },
  {
   "cell_type": "code",
   "execution_count": 36,
   "id": "5637ac8b",
   "metadata": {},
   "outputs": [
    {
     "data": {
      "text/plain": [
       "dict_keys(['tech', 'Mode', 'Classroom', 'LunchBreak', 'topics', 8, 'trainer_name'])"
      ]
     },
     "execution_count": 36,
     "metadata": {},
     "output_type": "execute_result"
    }
   ],
   "source": [
    "session.keys()"
   ]
  },
  {
   "cell_type": "code",
   "execution_count": 37,
   "id": "bf2d5c4f",
   "metadata": {},
   "outputs": [
    {
     "data": {
      "text/plain": [
       "dict_values(['Python', 'Online', False, 1, 'FileOperations', 'No_of_Hours', 'Raghul Ramesh'])"
      ]
     },
     "execution_count": 37,
     "metadata": {},
     "output_type": "execute_result"
    }
   ],
   "source": [
    "session.values()"
   ]
  },
  {
   "cell_type": "code",
   "execution_count": 38,
   "id": "5e8b05e9",
   "metadata": {},
   "outputs": [
    {
     "data": {
      "text/plain": [
       "dict_items([('tech', 'Python'), ('Mode', 'Online'), ('Classroom', False), ('LunchBreak', 1), ('topics', 'FileOperations'), (8, 'No_of_Hours'), ('trainer_name', 'Raghul Ramesh')])"
      ]
     },
     "execution_count": 38,
     "metadata": {},
     "output_type": "execute_result"
    }
   ],
   "source": [
    "session.items()"
   ]
  },
  {
   "cell_type": "code",
   "execution_count": 44,
   "id": "a76355df",
   "metadata": {},
   "outputs": [
    {
     "name": "stdout",
     "output_type": "stream",
     "text": [
      "tech   ===> Python\n",
      "Mode   ===> Online\n",
      "Classroom   ===> False\n",
      "LunchBreak   ===> 1\n",
      "topics   ===> FileOperations\n",
      "8   ===> No_of_Hours\n",
      "trainer_name   ===> Raghul Ramesh\n"
     ]
    }
   ],
   "source": [
    "for key in session.keys():\n",
    "    print(str(key) +\"   ===> \"+str(session[key]))"
   ]
  },
  {
   "cell_type": "code",
   "execution_count": 46,
   "id": "9523a3e0",
   "metadata": {},
   "outputs": [
    {
     "name": "stdout",
     "output_type": "stream",
     "text": [
      "tech Python\n",
      "Mode Online\n",
      "Classroom False\n",
      "LunchBreak 1\n",
      "topics FileOperations\n",
      "8 No_of_Hours\n",
      "trainer_name Raghul Ramesh\n"
     ]
    }
   ],
   "source": [
    "for k, v in session.items():\n",
    "    print(k , v)"
   ]
  },
  {
   "cell_type": "code",
   "execution_count": 47,
   "id": "d9cfa4cb",
   "metadata": {},
   "outputs": [],
   "source": [
    "session.clear()"
   ]
  },
  {
   "cell_type": "code",
   "execution_count": 48,
   "id": "2659080e",
   "metadata": {},
   "outputs": [
    {
     "data": {
      "text/plain": [
       "{}"
      ]
     },
     "execution_count": 48,
     "metadata": {},
     "output_type": "execute_result"
    }
   ],
   "source": [
    "session"
   ]
  },
  {
   "cell_type": "code",
   "execution_count": 49,
   "id": "bc51003f",
   "metadata": {},
   "outputs": [],
   "source": [
    "session = {'tech' : 'Python',\n",
    "          'Duation': 3,\n",
    "          'Mode':'Online',\n",
    "          'Classroom': False,\n",
    "          'LunchBreak': 0.45,\n",
    "          'topics': ['Basics','DataStructure','FileOps','DBOps','OOPS'],\n",
    "          8 : 'No_of_Hours'}"
   ]
  },
  {
   "cell_type": "code",
   "execution_count": 50,
   "id": "5ce20d2e",
   "metadata": {},
   "outputs": [
    {
     "data": {
      "text/plain": [
       "['__class__',\n",
       " '__contains__',\n",
       " '__delattr__',\n",
       " '__delitem__',\n",
       " '__dir__',\n",
       " '__doc__',\n",
       " '__eq__',\n",
       " '__format__',\n",
       " '__ge__',\n",
       " '__getattribute__',\n",
       " '__getitem__',\n",
       " '__gt__',\n",
       " '__hash__',\n",
       " '__init__',\n",
       " '__init_subclass__',\n",
       " '__iter__',\n",
       " '__le__',\n",
       " '__len__',\n",
       " '__lt__',\n",
       " '__ne__',\n",
       " '__new__',\n",
       " '__reduce__',\n",
       " '__reduce_ex__',\n",
       " '__repr__',\n",
       " '__reversed__',\n",
       " '__setattr__',\n",
       " '__setitem__',\n",
       " '__sizeof__',\n",
       " '__str__',\n",
       " '__subclasshook__',\n",
       " 'clear',\n",
       " 'copy',\n",
       " 'fromkeys',\n",
       " 'get',\n",
       " 'items',\n",
       " 'keys',\n",
       " 'pop',\n",
       " 'popitem',\n",
       " 'setdefault',\n",
       " 'update',\n",
       " 'values']"
      ]
     },
     "execution_count": 50,
     "metadata": {},
     "output_type": "execute_result"
    }
   ],
   "source": [
    "dir(session)"
   ]
  },
  {
   "cell_type": "code",
   "execution_count": 52,
   "id": "d26e13ae",
   "metadata": {},
   "outputs": [],
   "source": [
    "session_bk =session.copy()"
   ]
  },
  {
   "cell_type": "code",
   "execution_count": 53,
   "id": "b6681e73",
   "metadata": {},
   "outputs": [
    {
     "data": {
      "text/plain": [
       "{'tech': 'Python',\n",
       " 'Duation': 3,\n",
       " 'Mode': 'Online',\n",
       " 'Classroom': False,\n",
       " 'LunchBreak': 0.45,\n",
       " 'topics': ['Basics', 'DataStructure', 'FileOps', 'DBOps', 'OOPS'],\n",
       " 8: 'No_of_Hours'}"
      ]
     },
     "execution_count": 53,
     "metadata": {},
     "output_type": "execute_result"
    }
   ],
   "source": [
    "session"
   ]
  },
  {
   "cell_type": "code",
   "execution_count": 54,
   "id": "cf86c51e",
   "metadata": {},
   "outputs": [
    {
     "data": {
      "text/plain": [
       "{'tech': 'Python',\n",
       " 'Duation': 3,\n",
       " 'Mode': 'Online',\n",
       " 'Classroom': False,\n",
       " 'LunchBreak': 0.45,\n",
       " 'topics': ['Basics', 'DataStructure', 'FileOps', 'DBOps', 'OOPS'],\n",
       " 8: 'No_of_Hours'}"
      ]
     },
     "execution_count": 54,
     "metadata": {},
     "output_type": "execute_result"
    }
   ],
   "source": [
    "session_bk"
   ]
  },
  {
   "cell_type": "code",
   "execution_count": 55,
   "id": "e037cc59",
   "metadata": {},
   "outputs": [
    {
     "data": {
      "text/plain": [
       "'No_of_Hours'"
      ]
     },
     "execution_count": 55,
     "metadata": {},
     "output_type": "execute_result"
    }
   ],
   "source": [
    "session.pop(8)"
   ]
  },
  {
   "cell_type": "code",
   "execution_count": 56,
   "id": "aa5abafd",
   "metadata": {},
   "outputs": [
    {
     "data": {
      "text/plain": [
       "{'tech': 'Python',\n",
       " 'Duation': 3,\n",
       " 'Mode': 'Online',\n",
       " 'Classroom': False,\n",
       " 'LunchBreak': 0.45,\n",
       " 'topics': ['Basics', 'DataStructure', 'FileOps', 'DBOps', 'OOPS']}"
      ]
     },
     "execution_count": 56,
     "metadata": {},
     "output_type": "execute_result"
    }
   ],
   "source": [
    "session"
   ]
  },
  {
   "cell_type": "code",
   "execution_count": 57,
   "id": "770dc835",
   "metadata": {},
   "outputs": [
    {
     "data": {
      "text/plain": [
       "{'tech': 'Python',\n",
       " 'Duation': 3,\n",
       " 'Mode': 'Online',\n",
       " 'Classroom': False,\n",
       " 'LunchBreak': 0.45,\n",
       " 'topics': ['Basics', 'DataStructure', 'FileOps', 'DBOps', 'OOPS'],\n",
       " 8: 'No_of_Hours'}"
      ]
     },
     "execution_count": 57,
     "metadata": {},
     "output_type": "execute_result"
    }
   ],
   "source": [
    "session_bk"
   ]
  },
  {
   "cell_type": "code",
   "execution_count": 58,
   "id": "e9f50954",
   "metadata": {},
   "outputs": [
    {
     "data": {
      "text/plain": [
       "2065729742720"
      ]
     },
     "execution_count": 58,
     "metadata": {},
     "output_type": "execute_result"
    }
   ],
   "source": [
    "id(session)"
   ]
  },
  {
   "cell_type": "code",
   "execution_count": 59,
   "id": "b47884ff",
   "metadata": {},
   "outputs": [
    {
     "data": {
      "text/plain": [
       "2065732615424"
      ]
     },
     "execution_count": 59,
     "metadata": {},
     "output_type": "execute_result"
    }
   ],
   "source": [
    "id(session_bk)"
   ]
  },
  {
   "cell_type": "code",
   "execution_count": 60,
   "id": "d3e6771c",
   "metadata": {},
   "outputs": [],
   "source": [
    "emp_data=['fname','lname','email','mobile','aadhar','pan','city']"
   ]
  },
  {
   "cell_type": "code",
   "execution_count": 74,
   "id": "d829018a",
   "metadata": {},
   "outputs": [
    {
     "name": "stdout",
     "output_type": "stream",
     "text": [
      "for santosh : {'fname': None, 'lname': None, 'email': None, 'mobile': None, 'aadhar': None, 'pan': None, 'city': None}\n",
      "for siva : {'fname': None, 'lname': None, 'email': None, 'mobile': None, 'aadhar': None, 'pan': None, 'city': None}\n",
      "for priya : {'fname': None, 'lname': None, 'email': None, 'mobile': None, 'aadhar': None, 'pan': None, 'city': None}\n",
      "for durga : {'fname': None, 'lname': None, 'email': None, 'mobile': None, 'aadhar': None, 'pan': None, 'city': None}\n",
      "for ronak : {'fname': None, 'lname': None, 'email': None, 'mobile': None, 'aadhar': None, 'pan': None, 'city': None}\n"
     ]
    }
   ],
   "source": [
    "emps=['santosh','siva','priya','durga','ronak']\n",
    "for name in emps:\n",
    "    ename='emp'+'_'+name\n",
    "    ename = dict.fromkeys(emp_data)\n",
    "    print(f\"for {name} : {ename}\")\n"
   ]
  },
  {
   "cell_type": "code",
   "execution_count": 82,
   "id": "476903a0",
   "metadata": {},
   "outputs": [],
   "source": [
    "test_dict=dict.fromkeys(emp_data,'TBD')"
   ]
  },
  {
   "cell_type": "code",
   "execution_count": 83,
   "id": "b9aa90f0",
   "metadata": {},
   "outputs": [
    {
     "data": {
      "text/plain": [
       "{'fname': 'TBD',\n",
       " 'lname': 'TBD',\n",
       " 'email': 'TBD',\n",
       " 'mobile': 'TBD',\n",
       " 'aadhar': 'TBD',\n",
       " 'pan': 'TBD',\n",
       " 'city': 'TBD'}"
      ]
     },
     "execution_count": 83,
     "metadata": {},
     "output_type": "execute_result"
    }
   ],
   "source": [
    "test_dict"
   ]
  },
  {
   "cell_type": "code",
   "execution_count": 84,
   "id": "c160fcf5",
   "metadata": {},
   "outputs": [
    {
     "name": "stdout",
     "output_type": "stream",
     "text": [
      "['__class__', '__contains__', '__delattr__', '__delitem__', '__dir__', '__doc__', '__eq__', '__format__', '__ge__', '__getattribute__', '__getitem__', '__gt__', '__hash__', '__init__', '__init_subclass__', '__iter__', '__le__', '__len__', '__lt__', '__ne__', '__new__', '__reduce__', '__reduce_ex__', '__repr__', '__reversed__', '__setattr__', '__setitem__', '__sizeof__', '__str__', '__subclasshook__', 'clear', 'copy', 'fromkeys', 'get', 'items', 'keys', 'pop', 'popitem', 'setdefault', 'update', 'values']\n"
     ]
    }
   ],
   "source": [
    "print(dir(test_dict))"
   ]
  },
  {
   "cell_type": "code",
   "execution_count": null,
   "id": "61d6499b",
   "metadata": {},
   "outputs": [],
   "source": []
  }
 ],
 "metadata": {
  "kernelspec": {
   "display_name": "Python 3 (ipykernel)",
   "language": "python",
   "name": "python3"
  },
  "language_info": {
   "codemirror_mode": {
    "name": "ipython",
    "version": 3
   },
   "file_extension": ".py",
   "mimetype": "text/x-python",
   "name": "python",
   "nbconvert_exporter": "python",
   "pygments_lexer": "ipython3",
   "version": "3.8.10"
  }
 },
 "nbformat": 4,
 "nbformat_minor": 5
}
