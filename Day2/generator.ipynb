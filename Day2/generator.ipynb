{
 "cells": [
  {
   "cell_type": "markdown",
   "id": "28a02701",
   "metadata": {},
   "source": [
    "# Generators"
   ]
  },
  {
   "cell_type": "code",
   "execution_count": 2,
   "id": "05591226",
   "metadata": {},
   "outputs": [],
   "source": [
    "def tv_channel():\n",
    "    yield 'star sports'\n",
    "    yield '24/7 News'\n",
    "    yield 'CBN'\n",
    "    yield 'TenSports'\n",
    "    yield 'sun tv'"
   ]
  },
  {
   "cell_type": "code",
   "execution_count": 3,
   "id": "f85b7dbd",
   "metadata": {},
   "outputs": [],
   "source": [
    "programs=tv_channel()"
   ]
  },
  {
   "cell_type": "code",
   "execution_count": 6,
   "id": "01130c71",
   "metadata": {},
   "outputs": [
    {
     "name": "stdout",
     "output_type": "stream",
     "text": [
      "star sports\n"
     ]
    }
   ],
   "source": [
    "print(next(programs))"
   ]
  },
  {
   "cell_type": "code",
   "execution_count": 7,
   "id": "056bf13b",
   "metadata": {},
   "outputs": [
    {
     "name": "stdout",
     "output_type": "stream",
     "text": [
      "24/7 News\n"
     ]
    }
   ],
   "source": [
    "print(next(programs))"
   ]
  },
  {
   "cell_type": "code",
   "execution_count": 8,
   "id": "87a34975",
   "metadata": {},
   "outputs": [
    {
     "name": "stdout",
     "output_type": "stream",
     "text": [
      "CBN\n"
     ]
    }
   ],
   "source": [
    "print(next(programs))"
   ]
  },
  {
   "cell_type": "code",
   "execution_count": 9,
   "id": "9aca57a8",
   "metadata": {},
   "outputs": [
    {
     "name": "stdout",
     "output_type": "stream",
     "text": [
      "TenSports\n"
     ]
    }
   ],
   "source": [
    "print(next(programs))"
   ]
  },
  {
   "cell_type": "code",
   "execution_count": 10,
   "id": "85301233",
   "metadata": {},
   "outputs": [
    {
     "name": "stdout",
     "output_type": "stream",
     "text": [
      "sun tv\n"
     ]
    }
   ],
   "source": [
    "print(next(programs))"
   ]
  },
  {
   "cell_type": "code",
   "execution_count": 24,
   "id": "31658d1f",
   "metadata": {},
   "outputs": [],
   "source": [
    "def fibonacci(limit):\n",
    "    a,b=1,1\n",
    "    while a < limit:\n",
    "        yield a\n",
    "        a,b = b, a+b"
   ]
  },
  {
   "cell_type": "code",
   "execution_count": 28,
   "id": "6b102d22",
   "metadata": {},
   "outputs": [
    {
     "name": "stdout",
     "output_type": "stream",
     "text": [
      "1\n",
      "1\n",
      "2\n",
      "3\n",
      "5\n",
      "8\n",
      "13\n",
      "21\n",
      "34\n",
      "55\n",
      "89\n"
     ]
    }
   ],
   "source": [
    "for x in fibonacci(100):\n",
    "    print(x)"
   ]
  },
  {
   "cell_type": "code",
   "execution_count": 49,
   "id": "660daf80",
   "metadata": {},
   "outputs": [
    {
     "name": "stdout",
     "output_type": "stream",
     "text": [
      "Memory {BEFORE}: [2465.0234375]MB\n",
      "Memory {AFTER}: [2465.02734375]MB\n",
      "Took:  0.0\n"
     ]
    }
   ],
   "source": [
    "import memory_profiler as mem_profile\n",
    "import random\n",
    "from time import process_time\n",
    "\n",
    "names = ['Ram','Raja','Rajesh','Jhon','Siva','Prabha','Ronak','Sonali']\n",
    "majors = ['Math','Engineering','Arts','CompSci','MBBS','Business']\n",
    "\n",
    "print(\"Memory {BEFORE}: \" + str(mem_profile.memory_usage()) + 'MB')\n",
    "def student_function(num_people):\n",
    "    result=[]\n",
    "    for i in range(num_people):\n",
    "        student = {\n",
    "            'id': i,\n",
    "            'name': random.choice(names),\n",
    "            'major':random.choice(majors)\n",
    "        }\n",
    "        result.append(student)\n",
    "    return result\n",
    "\n",
    "def student_generator(num_people):\n",
    "    for i in range(num_people):\n",
    "        student = {\n",
    "            'id':i,\n",
    "            'name':random.choice(names),\n",
    "            'major':random.choice(majors)\n",
    "        }\n",
    "        yield student\n",
    "        \n",
    "start_time=process_time()\n",
    "res=student_generator(1000000)\n",
    "end_time=process_time()     \n",
    "print(\"Memory {AFTER}: \" + str(mem_profile.memory_usage()) + 'MB')\n",
    "print(\"Took: \",(end_time - start_time))"
   ]
  },
  {
   "cell_type": "code",
   "execution_count": 48,
   "id": "f4b1e9da",
   "metadata": {},
   "outputs": [
    {
     "ename": "SyntaxError",
     "evalue": "invalid syntax (630873067.py, line 1)",
     "output_type": "error",
     "traceback": [
      "\u001b[1;36m  Cell \u001b[1;32mIn [48], line 1\u001b[1;36m\u001b[0m\n\u001b[1;33m    function took 270 MB\u001b[0m\n\u001b[1;37m             ^\u001b[0m\n\u001b[1;31mSyntaxError\u001b[0m\u001b[1;31m:\u001b[0m invalid syntax\n"
     ]
    }
   ],
   "source": [
    "function took 270 MB\n",
    "time = 750  15\n",
    "\n"
   ]
  },
  {
   "cell_type": "code",
   "execution_count": null,
   "id": "6d3498e8",
   "metadata": {},
   "outputs": [],
   "source": []
  }
 ],
 "metadata": {
  "kernelspec": {
   "display_name": "Python 3 (ipykernel)",
   "language": "python",
   "name": "python3"
  },
  "language_info": {
   "codemirror_mode": {
    "name": "ipython",
    "version": 3
   },
   "file_extension": ".py",
   "mimetype": "text/x-python",
   "name": "python",
   "nbconvert_exporter": "python",
   "pygments_lexer": "ipython3",
   "version": "3.8.10"
  }
 },
 "nbformat": 4,
 "nbformat_minor": 5
}
