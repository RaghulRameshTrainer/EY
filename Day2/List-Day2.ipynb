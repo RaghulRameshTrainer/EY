{
 "cells": [
  {
   "cell_type": "code",
   "execution_count": 1,
   "id": "a8e8a78f",
   "metadata": {},
   "outputs": [],
   "source": [
    "info=['Python','EY',3,False,'Online']"
   ]
  },
  {
   "cell_type": "code",
   "execution_count": 2,
   "id": "e220fd73",
   "metadata": {},
   "outputs": [
    {
     "data": {
      "text/plain": [
       "['Python', 'EY', 3, False, 'Online']"
      ]
     },
     "execution_count": 2,
     "metadata": {},
     "output_type": "execute_result"
    }
   ],
   "source": [
    "info"
   ]
  },
  {
   "cell_type": "code",
   "execution_count": 3,
   "id": "6b01a6bd",
   "metadata": {},
   "outputs": [],
   "source": [
    "info_bk = info"
   ]
  },
  {
   "cell_type": "code",
   "execution_count": 4,
   "id": "8c9cac6a",
   "metadata": {},
   "outputs": [
    {
     "data": {
      "text/plain": [
       "['Python', 'EY', 3, False, 'Online']"
      ]
     },
     "execution_count": 4,
     "metadata": {},
     "output_type": "execute_result"
    }
   ],
   "source": [
    "info"
   ]
  },
  {
   "cell_type": "code",
   "execution_count": 5,
   "id": "c8aca9da",
   "metadata": {},
   "outputs": [
    {
     "data": {
      "text/plain": [
       "['Python', 'EY', 3, False, 'Online']"
      ]
     },
     "execution_count": 5,
     "metadata": {},
     "output_type": "execute_result"
    }
   ],
   "source": [
    "info_bk"
   ]
  },
  {
   "cell_type": "code",
   "execution_count": 6,
   "id": "7554a797",
   "metadata": {},
   "outputs": [
    {
     "data": {
      "text/plain": [
       "2765989649280"
      ]
     },
     "execution_count": 6,
     "metadata": {},
     "output_type": "execute_result"
    }
   ],
   "source": [
    "id(info)"
   ]
  },
  {
   "cell_type": "code",
   "execution_count": 7,
   "id": "781c90af",
   "metadata": {},
   "outputs": [
    {
     "data": {
      "text/plain": [
       "2765989649280"
      ]
     },
     "execution_count": 7,
     "metadata": {},
     "output_type": "execute_result"
    }
   ],
   "source": [
    "id(info_bk)"
   ]
  },
  {
   "cell_type": "code",
   "execution_count": 8,
   "id": "11cda191",
   "metadata": {},
   "outputs": [],
   "source": [
    "info.append('Saturday')"
   ]
  },
  {
   "cell_type": "code",
   "execution_count": 12,
   "id": "38d1905f",
   "metadata": {},
   "outputs": [
    {
     "data": {
      "text/plain": [
       "['Python', 'EY', 3, False, 'Online', 'Saturday']"
      ]
     },
     "execution_count": 12,
     "metadata": {},
     "output_type": "execute_result"
    }
   ],
   "source": [
    "info"
   ]
  },
  {
   "cell_type": "code",
   "execution_count": 13,
   "id": "dc42b4a1",
   "metadata": {},
   "outputs": [
    {
     "data": {
      "text/plain": [
       "['Python', 'EY', 3, False, 'Online', 'Saturday']"
      ]
     },
     "execution_count": 13,
     "metadata": {},
     "output_type": "execute_result"
    }
   ],
   "source": [
    "info_bk"
   ]
  },
  {
   "cell_type": "code",
   "execution_count": 14,
   "id": "e9c12031",
   "metadata": {},
   "outputs": [],
   "source": [
    "info_bk.extend(['BigData','AI','Cloud','IOT','DevOps'])"
   ]
  },
  {
   "cell_type": "code",
   "execution_count": 16,
   "id": "c21a1922",
   "metadata": {},
   "outputs": [
    {
     "name": "stdout",
     "output_type": "stream",
     "text": [
      "['Python', 'EY', 3, False, 'Online', 'Saturday', 'BigData', 'AI', 'Cloud', 'IOT', 'DevOps']\n"
     ]
    }
   ],
   "source": [
    "print(info_bk)"
   ]
  },
  {
   "cell_type": "code",
   "execution_count": 18,
   "id": "8212ba31",
   "metadata": {},
   "outputs": [
    {
     "name": "stdout",
     "output_type": "stream",
     "text": [
      "['Python', 'EY', 3, False, 'Online', 'Saturday', 'BigData', 'AI', 'Cloud', 'IOT', 'DevOps']\n"
     ]
    }
   ],
   "source": [
    "print(info)"
   ]
  },
  {
   "cell_type": "code",
   "execution_count": 19,
   "id": "b80f685d",
   "metadata": {},
   "outputs": [],
   "source": [
    "#Shallow Copy and Deep Copy"
   ]
  },
  {
   "cell_type": "code",
   "execution_count": 20,
   "id": "89b26526",
   "metadata": {},
   "outputs": [],
   "source": [
    "nums=[1,2,[3,4],5]"
   ]
  },
  {
   "cell_type": "code",
   "execution_count": 21,
   "id": "6095feb8",
   "metadata": {},
   "outputs": [
    {
     "data": {
      "text/plain": [
       "[1, 2, [3, 4], 5]"
      ]
     },
     "execution_count": 21,
     "metadata": {},
     "output_type": "execute_result"
    }
   ],
   "source": [
    "nums"
   ]
  },
  {
   "cell_type": "code",
   "execution_count": 22,
   "id": "33970fae",
   "metadata": {},
   "outputs": [],
   "source": [
    "import copy"
   ]
  },
  {
   "cell_type": "code",
   "execution_count": 23,
   "id": "5b0757f0",
   "metadata": {},
   "outputs": [],
   "source": [
    "s_nums = copy.copy(nums)"
   ]
  },
  {
   "cell_type": "code",
   "execution_count": 24,
   "id": "57302c28",
   "metadata": {},
   "outputs": [
    {
     "data": {
      "text/plain": [
       "2765989432448"
      ]
     },
     "execution_count": 24,
     "metadata": {},
     "output_type": "execute_result"
    }
   ],
   "source": [
    "id(nums)"
   ]
  },
  {
   "cell_type": "code",
   "execution_count": 25,
   "id": "018b2746",
   "metadata": {},
   "outputs": [
    {
     "data": {
      "text/plain": [
       "2765988716608"
      ]
     },
     "execution_count": 25,
     "metadata": {},
     "output_type": "execute_result"
    }
   ],
   "source": [
    "id(s_nums)"
   ]
  },
  {
   "cell_type": "code",
   "execution_count": 26,
   "id": "c87a97cc",
   "metadata": {},
   "outputs": [
    {
     "data": {
      "text/plain": [
       "[1, 2, [3, 4], 5]"
      ]
     },
     "execution_count": 26,
     "metadata": {},
     "output_type": "execute_result"
    }
   ],
   "source": [
    "nums"
   ]
  },
  {
   "cell_type": "code",
   "execution_count": 27,
   "id": "f77f1b50",
   "metadata": {},
   "outputs": [],
   "source": [
    "nums.append(6)"
   ]
  },
  {
   "cell_type": "code",
   "execution_count": 28,
   "id": "48a7a5dc",
   "metadata": {},
   "outputs": [
    {
     "data": {
      "text/plain": [
       "[1, 2, [3, 4], 5, 6]"
      ]
     },
     "execution_count": 28,
     "metadata": {},
     "output_type": "execute_result"
    }
   ],
   "source": [
    "nums"
   ]
  },
  {
   "cell_type": "code",
   "execution_count": 29,
   "id": "def38ff9",
   "metadata": {},
   "outputs": [
    {
     "data": {
      "text/plain": [
       "[1, 2, [3, 4], 5]"
      ]
     },
     "execution_count": 29,
     "metadata": {},
     "output_type": "execute_result"
    }
   ],
   "source": [
    "s_nums"
   ]
  },
  {
   "cell_type": "code",
   "execution_count": 30,
   "id": "780c89ad",
   "metadata": {},
   "outputs": [],
   "source": [
    "s_nums.insert(1,1.5)"
   ]
  },
  {
   "cell_type": "code",
   "execution_count": 31,
   "id": "4b8f0625",
   "metadata": {},
   "outputs": [
    {
     "data": {
      "text/plain": [
       "[1, 1.5, 2, [3, 4], 5]"
      ]
     },
     "execution_count": 31,
     "metadata": {},
     "output_type": "execute_result"
    }
   ],
   "source": [
    "s_nums"
   ]
  },
  {
   "cell_type": "code",
   "execution_count": 32,
   "id": "dba867f2",
   "metadata": {},
   "outputs": [
    {
     "data": {
      "text/plain": [
       "[1, 2, [3, 4], 5, 6]"
      ]
     },
     "execution_count": 32,
     "metadata": {},
     "output_type": "execute_result"
    }
   ],
   "source": [
    "nums"
   ]
  },
  {
   "cell_type": "code",
   "execution_count": 34,
   "id": "2c0e8b49",
   "metadata": {},
   "outputs": [],
   "source": [
    "nums[2].append(100)"
   ]
  },
  {
   "cell_type": "code",
   "execution_count": 35,
   "id": "9ca190e7",
   "metadata": {},
   "outputs": [
    {
     "data": {
      "text/plain": [
       "[1, 2, [3, 4, 100], 5, 6]"
      ]
     },
     "execution_count": 35,
     "metadata": {},
     "output_type": "execute_result"
    }
   ],
   "source": [
    "nums"
   ]
  },
  {
   "cell_type": "code",
   "execution_count": 36,
   "id": "7096fefc",
   "metadata": {},
   "outputs": [
    {
     "data": {
      "text/plain": [
       "[1, 1.5, 2, [3, 4, 100], 5]"
      ]
     },
     "execution_count": 36,
     "metadata": {},
     "output_type": "execute_result"
    }
   ],
   "source": [
    "s_nums"
   ]
  },
  {
   "cell_type": "code",
   "execution_count": 37,
   "id": "e16a9717",
   "metadata": {},
   "outputs": [],
   "source": [
    "office_DLF=['Google_ODC',['Gym','SwimmingPool','FoodCourt'],'CabFacilities']"
   ]
  },
  {
   "cell_type": "code",
   "execution_count": 38,
   "id": "5070f638",
   "metadata": {},
   "outputs": [],
   "source": [
    "office_bangalore=['Meta_ODC',['Gym','SwimmingPool','FoodCourt','Movies'],'CabFacilities']"
   ]
  },
  {
   "cell_type": "code",
   "execution_count": 39,
   "id": "90c522a3",
   "metadata": {},
   "outputs": [],
   "source": [
    "#DEEP COPY"
   ]
  },
  {
   "cell_type": "code",
   "execution_count": 40,
   "id": "08dd5a30",
   "metadata": {},
   "outputs": [
    {
     "data": {
      "text/plain": [
       "[1, 2, [3, 4, 100], 5, 6]"
      ]
     },
     "execution_count": 40,
     "metadata": {},
     "output_type": "execute_result"
    }
   ],
   "source": [
    "nums"
   ]
  },
  {
   "cell_type": "code",
   "execution_count": 41,
   "id": "e0811d3d",
   "metadata": {},
   "outputs": [],
   "source": [
    "number=[1,2,[3,4],5]"
   ]
  },
  {
   "cell_type": "code",
   "execution_count": 42,
   "id": "b2b7303a",
   "metadata": {},
   "outputs": [],
   "source": [
    "d_number = copy.deepcopy(number)"
   ]
  },
  {
   "cell_type": "code",
   "execution_count": 43,
   "id": "f3bdb414",
   "metadata": {},
   "outputs": [
    {
     "data": {
      "text/plain": [
       "[1, 2, [3, 4], 5]"
      ]
     },
     "execution_count": 43,
     "metadata": {},
     "output_type": "execute_result"
    }
   ],
   "source": [
    "number"
   ]
  },
  {
   "cell_type": "code",
   "execution_count": 44,
   "id": "7be4cf38",
   "metadata": {},
   "outputs": [
    {
     "data": {
      "text/plain": [
       "[1, 2, [3, 4], 5]"
      ]
     },
     "execution_count": 44,
     "metadata": {},
     "output_type": "execute_result"
    }
   ],
   "source": [
    "d_number"
   ]
  },
  {
   "cell_type": "code",
   "execution_count": 46,
   "id": "bdb50f8a",
   "metadata": {},
   "outputs": [
    {
     "name": "stdout",
     "output_type": "stream",
     "text": [
      "for number :2766000979392 \n",
      "for d_number: 2766001288960\n"
     ]
    }
   ],
   "source": [
    "print(f\"for number :{id(number)} \\nfor d_number: {id(d_number)}\")"
   ]
  },
  {
   "cell_type": "code",
   "execution_count": 47,
   "id": "0a7cfb9b",
   "metadata": {},
   "outputs": [],
   "source": [
    "number.append(6)"
   ]
  },
  {
   "cell_type": "code",
   "execution_count": 48,
   "id": "8db3cc5b",
   "metadata": {},
   "outputs": [
    {
     "data": {
      "text/plain": [
       "[1, 2, [3, 4], 5, 6]"
      ]
     },
     "execution_count": 48,
     "metadata": {},
     "output_type": "execute_result"
    }
   ],
   "source": [
    "number"
   ]
  },
  {
   "cell_type": "code",
   "execution_count": 49,
   "id": "8ac57904",
   "metadata": {},
   "outputs": [
    {
     "data": {
      "text/plain": [
       "[1, 2, [3, 4], 5]"
      ]
     },
     "execution_count": 49,
     "metadata": {},
     "output_type": "execute_result"
    }
   ],
   "source": [
    "d_number"
   ]
  },
  {
   "cell_type": "code",
   "execution_count": 50,
   "id": "87de699f",
   "metadata": {},
   "outputs": [],
   "source": [
    "d_number.insert(1,1.5)"
   ]
  },
  {
   "cell_type": "code",
   "execution_count": 51,
   "id": "156d6be3",
   "metadata": {},
   "outputs": [
    {
     "data": {
      "text/plain": [
       "[1, 1.5, 2, [3, 4], 5]"
      ]
     },
     "execution_count": 51,
     "metadata": {},
     "output_type": "execute_result"
    }
   ],
   "source": [
    "d_number"
   ]
  },
  {
   "cell_type": "code",
   "execution_count": 52,
   "id": "31047440",
   "metadata": {},
   "outputs": [
    {
     "data": {
      "text/plain": [
       "[1, 2, [3, 4], 5, 6]"
      ]
     },
     "execution_count": 52,
     "metadata": {},
     "output_type": "execute_result"
    }
   ],
   "source": [
    "number"
   ]
  },
  {
   "cell_type": "code",
   "execution_count": 54,
   "id": "0e62b2ef",
   "metadata": {},
   "outputs": [],
   "source": [
    "number[2].append(100)"
   ]
  },
  {
   "cell_type": "code",
   "execution_count": 55,
   "id": "588c4027",
   "metadata": {},
   "outputs": [
    {
     "data": {
      "text/plain": [
       "[1, 2, [3, 4, 100], 5, 6]"
      ]
     },
     "execution_count": 55,
     "metadata": {},
     "output_type": "execute_result"
    }
   ],
   "source": [
    "number"
   ]
  },
  {
   "cell_type": "code",
   "execution_count": 56,
   "id": "6bd54d4e",
   "metadata": {},
   "outputs": [
    {
     "data": {
      "text/plain": [
       "[1, 1.5, 2, [3, 4], 5]"
      ]
     },
     "execution_count": 56,
     "metadata": {},
     "output_type": "execute_result"
    }
   ],
   "source": [
    "d_number"
   ]
  },
  {
   "cell_type": "code",
   "execution_count": 57,
   "id": "1fb95f76",
   "metadata": {},
   "outputs": [],
   "source": [
    "#TUPLE"
   ]
  },
  {
   "cell_type": "code",
   "execution_count": 62,
   "id": "1ed443a8",
   "metadata": {},
   "outputs": [],
   "source": [
    "city=('Chennai','Bangalore','Hyderabad','Pune','Mumbai','Chennai')"
   ]
  },
  {
   "cell_type": "code",
   "execution_count": 63,
   "id": "dad1bfb2",
   "metadata": {},
   "outputs": [
    {
     "data": {
      "text/plain": [
       "tuple"
      ]
     },
     "execution_count": 63,
     "metadata": {},
     "output_type": "execute_result"
    }
   ],
   "source": [
    "type(city)"
   ]
  },
  {
   "cell_type": "code",
   "execution_count": 64,
   "id": "4ab9f65d",
   "metadata": {},
   "outputs": [
    {
     "name": "stdout",
     "output_type": "stream",
     "text": [
      "['__add__', '__class__', '__contains__', '__delattr__', '__dir__', '__doc__', '__eq__', '__format__', '__ge__', '__getattribute__', '__getitem__', '__getnewargs__', '__gt__', '__hash__', '__init__', '__init_subclass__', '__iter__', '__le__', '__len__', '__lt__', '__mul__', '__ne__', '__new__', '__reduce__', '__reduce_ex__', '__repr__', '__rmul__', '__setattr__', '__sizeof__', '__str__', '__subclasshook__', 'count', 'index']\n"
     ]
    }
   ],
   "source": [
    "print(dir(tuple))"
   ]
  },
  {
   "cell_type": "code",
   "execution_count": 65,
   "id": "706ca301",
   "metadata": {},
   "outputs": [
    {
     "data": {
      "text/plain": [
       "2"
      ]
     },
     "execution_count": 65,
     "metadata": {},
     "output_type": "execute_result"
    }
   ],
   "source": [
    "city.count('Chennai')"
   ]
  },
  {
   "cell_type": "code",
   "execution_count": 66,
   "id": "8f1d8a60",
   "metadata": {},
   "outputs": [
    {
     "data": {
      "text/plain": [
       "3"
      ]
     },
     "execution_count": 66,
     "metadata": {},
     "output_type": "execute_result"
    }
   ],
   "source": [
    "city.index('Pune')"
   ]
  },
  {
   "cell_type": "code",
   "execution_count": 67,
   "id": "f231b46d",
   "metadata": {},
   "outputs": [],
   "source": [
    "month_of_year=('jan','feb','mar')"
   ]
  },
  {
   "cell_type": "code",
   "execution_count": null,
   "id": "7b6ab32a",
   "metadata": {},
   "outputs": [],
   "source": [
    "Difference btw list and tuple\n",
    "1. []           ()\n",
    "2. Mutable       Immutable\n",
    "3. Takes more memory    Less memory\n",
    "4. Take more time       Less Time"
   ]
  },
  {
   "cell_type": "code",
   "execution_count": 68,
   "id": "db452d72",
   "metadata": {},
   "outputs": [
    {
     "name": "stdout",
     "output_type": "stream",
     "text": [
      "List takes:  96\n",
      "Tuple takes:  80\n"
     ]
    }
   ],
   "source": [
    "mylist=[1,2,3,4,5]\n",
    "mytuple=(1,2,3,4,5)\n",
    "\n",
    "import sys\n",
    "\n",
    "print(\"List takes: \",sys.getsizeof(mylist))\n",
    "print(\"Tuple takes: \", sys.getsizeof(mytuple))"
   ]
  },
  {
   "cell_type": "code",
   "execution_count": 70,
   "id": "7e8306b9",
   "metadata": {},
   "outputs": [
    {
     "name": "stdout",
     "output_type": "stream",
     "text": [
      "List takes:  81.82459999989078 milli seconds\n",
      "Tuple takes:  7.890200000019831 milli seconds\n"
     ]
    }
   ],
   "source": [
    "import timeit\n",
    "\n",
    "print(\"List takes: \", str(timeit.timeit(stmt=\"[1,2,3,4,5,6,7,8,9,10]\", number=1000000)*1000) +\" milli seconds\")\n",
    "print(\"Tuple takes: \", str(timeit.timeit(stmt=\"(1,2,3,4,5,6,7,8,9,10)\", number=1000000)*1000) +\" milli seconds\")"
   ]
  },
  {
   "cell_type": "code",
   "execution_count": 71,
   "id": "f3c8dc98",
   "metadata": {},
   "outputs": [],
   "source": [
    "city=('Trichy','Madurai','Coimbatore')"
   ]
  },
  {
   "cell_type": "code",
   "execution_count": 82,
   "id": "1e121011",
   "metadata": {},
   "outputs": [],
   "source": [
    "x=list(city)"
   ]
  },
  {
   "cell_type": "code",
   "execution_count": 83,
   "id": "9c8e3df6",
   "metadata": {},
   "outputs": [],
   "source": [
    "x.append('Mysore')"
   ]
  },
  {
   "cell_type": "code",
   "execution_count": 86,
   "id": "032aee6e",
   "metadata": {},
   "outputs": [],
   "source": [
    "city=tuple(x)"
   ]
  },
  {
   "cell_type": "code",
   "execution_count": 87,
   "id": "05f01036",
   "metadata": {},
   "outputs": [
    {
     "data": {
      "text/plain": [
       "('Trichy', 'Madurai', 'Coimbatore', 'Mysore')"
      ]
     },
     "execution_count": 87,
     "metadata": {},
     "output_type": "execute_result"
    }
   ],
   "source": [
    "city"
   ]
  },
  {
   "cell_type": "code",
   "execution_count": 89,
   "id": "74ed9960",
   "metadata": {},
   "outputs": [],
   "source": [
    "nums=(1,2,3,[10,20,30],4,5)"
   ]
  },
  {
   "cell_type": "code",
   "execution_count": 90,
   "id": "6f93c894",
   "metadata": {},
   "outputs": [
    {
     "data": {
      "text/plain": [
       "tuple"
      ]
     },
     "execution_count": 90,
     "metadata": {},
     "output_type": "execute_result"
    }
   ],
   "source": [
    "type(nums)"
   ]
  },
  {
   "cell_type": "code",
   "execution_count": 91,
   "id": "e3af84af",
   "metadata": {},
   "outputs": [],
   "source": [
    "nums[3].remove(30)"
   ]
  },
  {
   "cell_type": "code",
   "execution_count": 92,
   "id": "ce14b2f3",
   "metadata": {},
   "outputs": [
    {
     "data": {
      "text/plain": [
       "(1, 2, 3, [10, 20], 4, 5)"
      ]
     },
     "execution_count": 92,
     "metadata": {},
     "output_type": "execute_result"
    }
   ],
   "source": [
    "nums"
   ]
  },
  {
   "cell_type": "code",
   "execution_count": 93,
   "id": "7d96fa57",
   "metadata": {},
   "outputs": [],
   "source": [
    "x=10"
   ]
  },
  {
   "cell_type": "code",
   "execution_count": 94,
   "id": "df539eca",
   "metadata": {},
   "outputs": [
    {
     "data": {
      "text/plain": [
       "int"
      ]
     },
     "execution_count": 94,
     "metadata": {},
     "output_type": "execute_result"
    }
   ],
   "source": [
    "type(x)"
   ]
  },
  {
   "cell_type": "code",
   "execution_count": 95,
   "id": "418c4691",
   "metadata": {},
   "outputs": [],
   "source": [
    "x=\"10\""
   ]
  },
  {
   "cell_type": "code",
   "execution_count": 96,
   "id": "e24e1489",
   "metadata": {},
   "outputs": [
    {
     "data": {
      "text/plain": [
       "str"
      ]
     },
     "execution_count": 96,
     "metadata": {},
     "output_type": "execute_result"
    }
   ],
   "source": [
    "type(x)"
   ]
  },
  {
   "cell_type": "code",
   "execution_count": 97,
   "id": "368af1b6",
   "metadata": {},
   "outputs": [],
   "source": [
    "x=[10]"
   ]
  },
  {
   "cell_type": "code",
   "execution_count": 98,
   "id": "08d50be0",
   "metadata": {},
   "outputs": [
    {
     "data": {
      "text/plain": [
       "list"
      ]
     },
     "execution_count": 98,
     "metadata": {},
     "output_type": "execute_result"
    }
   ],
   "source": [
    "type(x)"
   ]
  },
  {
   "cell_type": "code",
   "execution_count": 99,
   "id": "dfef0c67",
   "metadata": {},
   "outputs": [],
   "source": [
    "x=(10)"
   ]
  },
  {
   "cell_type": "code",
   "execution_count": 100,
   "id": "2a6fc017",
   "metadata": {},
   "outputs": [
    {
     "data": {
      "text/plain": [
       "int"
      ]
     },
     "execution_count": 100,
     "metadata": {},
     "output_type": "execute_result"
    }
   ],
   "source": [
    "type(x)"
   ]
  },
  {
   "cell_type": "code",
   "execution_count": 101,
   "id": "69a5da85",
   "metadata": {},
   "outputs": [],
   "source": [
    "x=(10,)"
   ]
  },
  {
   "cell_type": "code",
   "execution_count": 102,
   "id": "dcd4c23d",
   "metadata": {},
   "outputs": [
    {
     "data": {
      "text/plain": [
       "tuple"
      ]
     },
     "execution_count": 102,
     "metadata": {},
     "output_type": "execute_result"
    }
   ],
   "source": [
    "type(x)"
   ]
  },
  {
   "cell_type": "code",
   "execution_count": 103,
   "id": "a1179dd3",
   "metadata": {},
   "outputs": [],
   "source": [
    "# STRING - index, find"
   ]
  },
  {
   "cell_type": "code",
   "execution_count": 104,
   "id": "12616463",
   "metadata": {},
   "outputs": [],
   "source": [
    "city='Chennai'"
   ]
  },
  {
   "cell_type": "code",
   "execution_count": 105,
   "id": "de756985",
   "metadata": {},
   "outputs": [
    {
     "data": {
      "text/plain": [
       "5"
      ]
     },
     "execution_count": 105,
     "metadata": {},
     "output_type": "execute_result"
    }
   ],
   "source": [
    "city.index('a')"
   ]
  },
  {
   "cell_type": "code",
   "execution_count": 106,
   "id": "be022ea0",
   "metadata": {},
   "outputs": [
    {
     "data": {
      "text/plain": [
       "1"
      ]
     },
     "execution_count": 106,
     "metadata": {},
     "output_type": "execute_result"
    }
   ],
   "source": [
    "city.index('h')"
   ]
  },
  {
   "cell_type": "code",
   "execution_count": 107,
   "id": "62b2e448",
   "metadata": {},
   "outputs": [
    {
     "data": {
      "text/plain": [
       "5"
      ]
     },
     "execution_count": 107,
     "metadata": {},
     "output_type": "execute_result"
    }
   ],
   "source": [
    "city.find('a')"
   ]
  },
  {
   "cell_type": "code",
   "execution_count": 108,
   "id": "f396444d",
   "metadata": {},
   "outputs": [
    {
     "data": {
      "text/plain": [
       "1"
      ]
     },
     "execution_count": 108,
     "metadata": {},
     "output_type": "execute_result"
    }
   ],
   "source": [
    "city.find('h')"
   ]
  },
  {
   "cell_type": "code",
   "execution_count": 109,
   "id": "db926dff",
   "metadata": {},
   "outputs": [
    {
     "ename": "ValueError",
     "evalue": "substring not found",
     "output_type": "error",
     "traceback": [
      "\u001b[1;31m---------------------------------------------------------------------------\u001b[0m",
      "\u001b[1;31mValueError\u001b[0m                                Traceback (most recent call last)",
      "Cell \u001b[1;32mIn [109], line 1\u001b[0m\n\u001b[1;32m----> 1\u001b[0m \u001b[43mcity\u001b[49m\u001b[38;5;241;43m.\u001b[39;49m\u001b[43mindex\u001b[49m\u001b[43m(\u001b[49m\u001b[38;5;124;43m'\u001b[39;49m\u001b[38;5;124;43mx\u001b[39;49m\u001b[38;5;124;43m'\u001b[39;49m\u001b[43m)\u001b[49m\n",
      "\u001b[1;31mValueError\u001b[0m: substring not found"
     ]
    }
   ],
   "source": [
    "city.index('x')"
   ]
  },
  {
   "cell_type": "code",
   "execution_count": 110,
   "id": "1bb2bdba",
   "metadata": {},
   "outputs": [
    {
     "data": {
      "text/plain": [
       "-1"
      ]
     },
     "execution_count": 110,
     "metadata": {},
     "output_type": "execute_result"
    }
   ],
   "source": [
    "city.find('x')"
   ]
  },
  {
   "cell_type": "code",
   "execution_count": 112,
   "id": "32d81d6c",
   "metadata": {},
   "outputs": [
    {
     "name": "stdout",
     "output_type": "stream",
     "text": [
      "x is not present in :Chennai\n"
     ]
    }
   ],
   "source": [
    "if city.find('x') == -1:\n",
    "    print(f\"x is not present in :{city}\")\n",
    "else:\n",
    "    print(f\"x is present in :{city}\")"
   ]
  },
  {
   "cell_type": "code",
   "execution_count": null,
   "id": "ee747fc6",
   "metadata": {},
   "outputs": [],
   "source": []
  }
 ],
 "metadata": {
  "kernelspec": {
   "display_name": "Python 3 (ipykernel)",
   "language": "python",
   "name": "python3"
  },
  "language_info": {
   "codemirror_mode": {
    "name": "ipython",
    "version": 3
   },
   "file_extension": ".py",
   "mimetype": "text/x-python",
   "name": "python",
   "nbconvert_exporter": "python",
   "pygments_lexer": "ipython3",
   "version": "3.8.10"
  }
 },
 "nbformat": 4,
 "nbformat_minor": 5
}
