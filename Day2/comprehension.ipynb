{
 "cells": [
  {
   "cell_type": "code",
   "execution_count": 1,
   "id": "0a0c0ec6",
   "metadata": {},
   "outputs": [],
   "source": [
    "#list comprehension"
   ]
  },
  {
   "cell_type": "code",
   "execution_count": null,
   "id": "7f950f43",
   "metadata": {},
   "outputs": [],
   "source": [
    "[expr for val in collections/sequences]\n",
    "[expr for val in collections/sequences if cond]\n",
    "[expr for val in collections/sequences if cond and cond2]\n",
    "[expr for x in c1 for y in c2 ]"
   ]
  },
  {
   "cell_type": "code",
   "execution_count": 2,
   "id": "d6410ea6",
   "metadata": {},
   "outputs": [
    {
     "data": {
      "text/plain": [
       "[1, 4, 9, 16, 25, 36, 49, 64, 81, 100]"
      ]
     },
     "execution_count": 2,
     "metadata": {},
     "output_type": "execute_result"
    }
   ],
   "source": [
    "[x**2 for x in range(1,11)]"
   ]
  },
  {
   "cell_type": "code",
   "execution_count": 3,
   "id": "8c9fcbe0",
   "metadata": {},
   "outputs": [
    {
     "data": {
      "text/plain": [
       "[2, 4, 6, 8, 10, 12, 14, 16, 18, 20]"
      ]
     },
     "execution_count": 3,
     "metadata": {},
     "output_type": "execute_result"
    }
   ],
   "source": [
    "#print all the even number from 1 to 20\n",
    "[x for x in range(1,21) if x%2==0]"
   ]
  },
  {
   "cell_type": "code",
   "execution_count": 4,
   "id": "e3d7cc3a",
   "metadata": {},
   "outputs": [
    {
     "data": {
      "text/plain": [
       "['INDIA', 'ENGLAND', 'AUSTRALIA', 'NEWZELAND', 'JAPAN']"
      ]
     },
     "execution_count": 4,
     "metadata": {},
     "output_type": "execute_result"
    }
   ],
   "source": [
    "country=['India','England','Australia','Newzeland','Japan']\n",
    "[x.upper() for x in country]"
   ]
  },
  {
   "cell_type": "code",
   "execution_count": 6,
   "id": "4de60c60",
   "metadata": {},
   "outputs": [
    {
     "data": {
      "text/plain": [
       "[10, 20]"
      ]
     },
     "execution_count": 6,
     "metadata": {},
     "output_type": "execute_result"
    }
   ],
   "source": [
    "[x for x in range(1,21) if x%2==0 and x%5==0]"
   ]
  },
  {
   "cell_type": "code",
   "execution_count": 7,
   "id": "1d28aea4",
   "metadata": {},
   "outputs": [],
   "source": [
    "a=[1,2,3,4,5]\n",
    "b=[6,7,8,9,10]"
   ]
  },
  {
   "cell_type": "code",
   "execution_count": 8,
   "id": "7b3439e8",
   "metadata": {},
   "outputs": [
    {
     "data": {
      "text/plain": [
       "[1, 2, 3, 4, 5, 6, 7, 8, 9, 10]"
      ]
     },
     "execution_count": 8,
     "metadata": {},
     "output_type": "execute_result"
    }
   ],
   "source": [
    "a+b"
   ]
  },
  {
   "cell_type": "code",
   "execution_count": 9,
   "id": "ed50ec11",
   "metadata": {},
   "outputs": [
    {
     "data": {
      "text/plain": [
       "[(1, 6),\n",
       " (1, 7),\n",
       " (1, 8),\n",
       " (1, 9),\n",
       " (1, 10),\n",
       " (2, 6),\n",
       " (2, 7),\n",
       " (2, 8),\n",
       " (2, 9),\n",
       " (2, 10),\n",
       " (3, 6),\n",
       " (3, 7),\n",
       " (3, 8),\n",
       " (3, 9),\n",
       " (3, 10),\n",
       " (4, 6),\n",
       " (4, 7),\n",
       " (4, 8),\n",
       " (4, 9),\n",
       " (4, 10),\n",
       " (5, 6),\n",
       " (5, 7),\n",
       " (5, 8),\n",
       " (5, 9),\n",
       " (5, 10)]"
      ]
     },
     "execution_count": 9,
     "metadata": {},
     "output_type": "execute_result"
    }
   ],
   "source": [
    "[(x,y) for x in a for y in b]"
   ]
  },
  {
   "cell_type": "code",
   "execution_count": 12,
   "id": "a47efa58",
   "metadata": {},
   "outputs": [
    {
     "data": {
      "text/plain": [
       "[7, 9, 11, 13, 15]"
      ]
     },
     "execution_count": 12,
     "metadata": {},
     "output_type": "execute_result"
    }
   ],
   "source": [
    "a=[1,2,3,4,5]\n",
    "b=[6,7,8,9,10]\n",
    "\n",
    "[x+y for x, y in zip(a,b)]"
   ]
  },
  {
   "cell_type": "code",
   "execution_count": 13,
   "id": "0feebcf1",
   "metadata": {},
   "outputs": [],
   "source": [
    "shirts=['white','black','blue']\n",
    "pants=['jeans','chinos']\n",
    "\n",
    "#permutation or combinations for dress that i may wear? - list comprehension"
   ]
  },
  {
   "cell_type": "code",
   "execution_count": 14,
   "id": "96ab1642",
   "metadata": {},
   "outputs": [
    {
     "data": {
      "text/plain": [
       "[('white', 'jeans'),\n",
       " ('white', 'chinos'),\n",
       " ('black', 'jeans'),\n",
       " ('black', 'chinos'),\n",
       " ('blue', 'jeans'),\n",
       " ('blue', 'chinos')]"
      ]
     },
     "execution_count": 14,
     "metadata": {},
     "output_type": "execute_result"
    }
   ],
   "source": [
    "[(shirt, pant) for shirt in shirts  for pant in pants]"
   ]
  },
  {
   "cell_type": "code",
   "execution_count": null,
   "id": "14c8d2db",
   "metadata": {},
   "outputs": [],
   "source": [
    "customer={\n",
    "    'Raghul':37,\n",
    "    'Tharani':32,\n",
    "    'Ashwin':15,\n",
    "    'Ram':35,\n",
    "    'Shivani':12,\n",
    "    'Harsha':9,\n",
    "    'Arun':6,\n",
    "    'Vetri': 21\n",
    "}"
   ]
  },
  {
   "cell_type": "code",
   "execution_count": 15,
   "id": "60a64a5d",
   "metadata": {},
   "outputs": [
    {
     "data": {
      "text/plain": [
       "{1: 1, 2: 4, 3: 9, 4: 16, 5: 25}"
      ]
     },
     "execution_count": 15,
     "metadata": {},
     "output_type": "execute_result"
    }
   ],
   "source": [
    "nums=[1,2,3,4,5]\n",
    "#create a dictionary from this list of element keep the number as key\n",
    "#and square of the number as value \n",
    "\n",
    "{ x:x**2 for x in nums}"
   ]
  },
  {
   "cell_type": "code",
   "execution_count": 21,
   "id": "b86b0a25",
   "metadata": {},
   "outputs": [],
   "source": [
    "alphabets={'a':97,'b':98,'c':99,'d':100,'e':101}"
   ]
  },
  {
   "cell_type": "code",
   "execution_count": 22,
   "id": "00d66e57",
   "metadata": {},
   "outputs": [
    {
     "name": "stdout",
     "output_type": "stream",
     "text": [
      "{'a': 97, 'b': 98, 'c': 99, 'd': 100, 'e': 101}\n"
     ]
    }
   ],
   "source": [
    "print(alphabets)"
   ]
  },
  {
   "cell_type": "code",
   "execution_count": 23,
   "id": "48020353",
   "metadata": {},
   "outputs": [
    {
     "data": {
      "text/plain": [
       "{97: 'a', 98: 'b', 99: 'c', 100: 'd', 101: 'e'}"
      ]
     },
     "execution_count": 23,
     "metadata": {},
     "output_type": "execute_result"
    }
   ],
   "source": [
    "{value:key  for key, value in alphabets.items()}"
   ]
  },
  {
   "cell_type": "code",
   "execution_count": 25,
   "id": "cab1801c",
   "metadata": {},
   "outputs": [
    {
     "data": {
      "text/plain": [
       "{'name': 'Sayta', 'age': 35, 'gender': 'F'}"
      ]
     },
     "execution_count": 25,
     "metadata": {},
     "output_type": "execute_result"
    }
   ],
   "source": [
    "keys=['name','age','gender']\n",
    "values=['Sayta',35,'F']\n",
    "\n",
    "#dictionary comprehension\n",
    "\n",
    "{ k:v for k,v in zip(keys,values)}"
   ]
  },
  {
   "cell_type": "code",
   "execution_count": 26,
   "id": "06000a35",
   "metadata": {},
   "outputs": [
    {
     "data": {
      "text/plain": [
       "{'name': 'Sayta', 'age': 35, 'gender': 'F'}"
      ]
     },
     "execution_count": 26,
     "metadata": {},
     "output_type": "execute_result"
    }
   ],
   "source": [
    "{keys[i]:values[i] for i in range(len(keys))}"
   ]
  },
  {
   "cell_type": "code",
   "execution_count": 27,
   "id": "a5fb422d",
   "metadata": {},
   "outputs": [],
   "source": [
    "customer={\n",
    "    'Raghul':37,\n",
    "    'Tharani':32,\n",
    "    'Ashwin':15,\n",
    "    'Ram':35,\n",
    "    'Shivani':12,\n",
    "    'Harsha':9,\n",
    "    'Arun':6,\n",
    "    'Vetri': 21\n",
    "}"
   ]
  },
  {
   "cell_type": "code",
   "execution_count": 31,
   "id": "15a3608e",
   "metadata": {},
   "outputs": [
    {
     "data": {
      "text/plain": [
       "{'Raghul': 37, 'Tharani': 32, 'Ram': 35, 'Vetri': 21}"
      ]
     },
     "execution_count": 31,
     "metadata": {},
     "output_type": "execute_result"
    }
   ],
   "source": [
    "{ key:value for key, value in customer.items() if value>20}"
   ]
  },
  {
   "cell_type": "code",
   "execution_count": null,
   "id": "bd6cf0ae",
   "metadata": {},
   "outputs": [],
   "source": []
  }
 ],
 "metadata": {
  "kernelspec": {
   "display_name": "Python 3 (ipykernel)",
   "language": "python",
   "name": "python3"
  },
  "language_info": {
   "codemirror_mode": {
    "name": "ipython",
    "version": 3
   },
   "file_extension": ".py",
   "mimetype": "text/x-python",
   "name": "python",
   "nbconvert_exporter": "python",
   "pygments_lexer": "ipython3",
   "version": "3.8.10"
  }
 },
 "nbformat": 4,
 "nbformat_minor": 5
}
